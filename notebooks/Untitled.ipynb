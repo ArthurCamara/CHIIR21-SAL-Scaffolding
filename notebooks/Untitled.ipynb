{
 "cells": [
  {
   "cell_type": "code",
   "execution_count": 5,
   "metadata": {
    "ExecuteTime": {
     "end_time": "2019-12-06T10:52:06.059076Z",
     "start_time": "2019-12-06T10:52:06.054107Z"
    }
   },
   "outputs": [],
   "source": [
    "from trec_car import read_data\n",
    "import os\n",
    "data_home = \"/ssd2/arthur/TRECCAR/\"\n",
    "topics_path = os.path.join(data_home, \"benchmarkY2.public/benchmarkY2.cbor-outlines.cbor\")"
   ]
  },
  {
   "cell_type": "code",
   "execution_count": 38,
   "metadata": {
    "ExecuteTime": {
     "end_time": "2019-12-06T11:57:49.987918Z",
     "start_time": "2019-12-06T11:57:49.981932Z"
    }
   },
   "outputs": [
    {
     "data": {
      "text/plain": [
       "''"
      ]
     },
     "execution_count": 38,
     "metadata": {},
     "output_type": "execute_result"
    }
   ],
   "source": [
    "page.flat_headings_list()[0][0].get_text()"
   ]
  },
  {
   "cell_type": "code",
   "execution_count": 32,
   "metadata": {
    "ExecuteTime": {
     "end_time": "2019-12-06T11:57:13.289762Z",
     "start_time": "2019-12-06T11:57:13.282444Z"
    },
    "collapsed": true
   },
   "outputs": [
    {
     "data": {
      "text/plain": [
       "['Etymology',\n",
       " 'Demographics',\n",
       " 'History',\n",
       " 'History',\n",
       " 'History',\n",
       " 'History',\n",
       " 'History',\n",
       " 'History',\n",
       " 'History',\n",
       " 'History',\n",
       " 'History',\n",
       " 'History',\n",
       " 'History',\n",
       " 'Exodus',\n",
       " 'Exodus',\n",
       " 'Exodus',\n",
       " 'Exodus',\n",
       " 'Exodus',\n",
       " 'Exodus',\n",
       " 'Exodus',\n",
       " 'Exodus',\n",
       " 'Exodus',\n",
       " 'Exodus',\n",
       " 'Symbol',\n",
       " 'Apology and honours',\n",
       " 'Apology and honours',\n",
       " 'Apology and honours',\n",
       " 'Apology and honours',\n",
       " 'Apology and honours',\n",
       " 'Apology and honours',\n",
       " 'Apology and honours',\n",
       " 'Apology and honours',\n",
       " 'Apology and honours']"
      ]
     },
     "execution_count": 32,
     "metadata": {},
     "output_type": "execute_result"
    }
   ],
   "source": [
    "[x[0]. for x in page.flat_headings_list()]"
   ]
  },
  {
   "cell_type": "code",
   "execution_count": 51,
   "metadata": {
    "ExecuteTime": {
     "end_time": "2019-12-06T16:01:40.982149Z",
     "start_time": "2019-12-06T16:01:40.970345Z"
    }
   },
   "outputs": [
    {
     "data": {
      "text/plain": [
       "[('enwiki:Huguenots/Etymology', 'Etymology', ['Huguenots', 'Etymology']),\n",
       " ('enwiki:Huguenots/Demographics',\n",
       "  'Demographics',\n",
       "  ['Huguenots', 'Demographics']),\n",
       " ('enwiki:Huguenots/History/Origins',\n",
       "  'Origins',\n",
       "  ['Huguenots', 'History', 'Origins']),\n",
       " ('enwiki:Huguenots/History/Criticisms%20of%20the%20Catholic%20Church',\n",
       "  'Criticisms of the Catholic Church',\n",
       "  ['Huguenots', 'History', 'Criticisms of the Catholic Church']),\n",
       " ('enwiki:Huguenots/History/Reform%20and%20growth',\n",
       "  'Reform and growth',\n",
       "  ['Huguenots', 'History', 'Reform and growth']),\n",
       " ('enwiki:Huguenots/History/Wars%20of%20religion',\n",
       "  'Wars of religion',\n",
       "  ['Huguenots', 'History', 'Wars of religion']),\n",
       " ('enwiki:Huguenots/History/Civil%20wars',\n",
       "  'Civil wars',\n",
       "  ['Huguenots', 'History', 'Civil wars']),\n",
       " (\"enwiki:Huguenots/History/St.%20Bartholomew's%20Day%20massacre\",\n",
       "  \"St. Bartholomew's Day massacre\",\n",
       "  ['Huguenots', 'History', \"St. Bartholomew's Day massacre\"]),\n",
       " ('enwiki:Huguenots/History/Edict%20of%20Nantes',\n",
       "  'Edict of Nantes',\n",
       "  ['Huguenots', 'History', 'Edict of Nantes']),\n",
       " ('enwiki:Huguenots/History/Edict%20of%20Fontainebleau',\n",
       "  'Edict of Fontainebleau',\n",
       "  ['Huguenots', 'History', 'Edict of Fontainebleau']),\n",
       " ('enwiki:Huguenots/History/End%20of%20persecution',\n",
       "  'End of persecution',\n",
       "  ['Huguenots', 'History', 'End of persecution']),\n",
       " ('enwiki:Huguenots/History/Modern%20times',\n",
       "  'Modern times',\n",
       "  ['Huguenots', 'History', 'Modern times']),\n",
       " ('enwiki:Huguenots/Exodus/Early%20emigration',\n",
       "  'Early emigration',\n",
       "  ['Huguenots', 'Exodus', 'Early emigration']),\n",
       " ('enwiki:Huguenots/Exodus/South%20Africa',\n",
       "  'South Africa',\n",
       "  ['Huguenots', 'Exodus', 'South Africa']),\n",
       " ('enwiki:Huguenots/Exodus/North%20America',\n",
       "  'North America',\n",
       "  ['Huguenots', 'Exodus', 'North America']),\n",
       " ('enwiki:Huguenots/Exodus/Netherlands',\n",
       "  'Netherlands',\n",
       "  ['Huguenots', 'Exodus', 'Netherlands']),\n",
       " ('enwiki:Huguenots/Exodus/Wales', 'Wales', ['Huguenots', 'Exodus', 'Wales']),\n",
       " ('enwiki:Huguenots/Exodus/England',\n",
       "  'England',\n",
       "  ['Huguenots', 'Exodus', 'England']),\n",
       " ('enwiki:Huguenots/Exodus/Ireland',\n",
       "  'Ireland',\n",
       "  ['Huguenots', 'Exodus', 'Ireland']),\n",
       " ('enwiki:Huguenots/Exodus/Germany%20and%20Scandinavia',\n",
       "  'Germany and Scandinavia',\n",
       "  ['Huguenots', 'Exodus', 'Germany and Scandinavia']),\n",
       " ('enwiki:Huguenots/Exodus/Effects',\n",
       "  'Effects',\n",
       "  ['Huguenots', 'Exodus', 'Effects']),\n",
       " ('enwiki:Huguenots/Symbol', 'Symbol', ['Huguenots', 'Symbol']),\n",
       " ('enwiki:Huguenots/Apology%20and%20honours/Legacy',\n",
       "  'Legacy',\n",
       "  ['Huguenots', 'Apology and honours', 'Legacy']),\n",
       " ('enwiki:Huguenots/Apology%20and%20honours/Legacy/France',\n",
       "  'France',\n",
       "  ['Huguenots', 'Apology and honours', 'Legacy', 'France']),\n",
       " ('enwiki:Huguenots/Apology%20and%20honours/Legacy/United%20States',\n",
       "  'United States',\n",
       "  ['Huguenots', 'Apology and honours', 'Legacy', 'United States']),\n",
       " ('enwiki:Huguenots/Apology%20and%20honours/Legacy/England',\n",
       "  'England',\n",
       "  ['Huguenots', 'Apology and honours', 'Legacy', 'England']),\n",
       " ('enwiki:Huguenots/Apology%20and%20honours/Legacy/Prussia',\n",
       "  'Prussia',\n",
       "  ['Huguenots', 'Apology and honours', 'Legacy', 'Prussia']),\n",
       " ('enwiki:Huguenots/Apology%20and%20honours/Legacy/Ireland',\n",
       "  'Ireland',\n",
       "  ['Huguenots', 'Apology and honours', 'Legacy', 'Ireland']),\n",
       " ('enwiki:Huguenots/Apology%20and%20honours/Legacy/South%20Africa',\n",
       "  'South Africa',\n",
       "  ['Huguenots', 'Apology and honours', 'Legacy', 'South Africa']),\n",
       " ('enwiki:Huguenots/Apology%20and%20honours/Legacy/Australia',\n",
       "  'Australia',\n",
       "  ['Huguenots', 'Apology and honours', 'Legacy', 'Australia'])]"
      ]
     },
     "execution_count": 51,
     "metadata": {},
     "output_type": "execute_result"
    }
   ],
   "source": [
    "right"
   ]
  },
  {
   "cell_type": "code",
   "execution_count": 79,
   "metadata": {
    "ExecuteTime": {
     "end_time": "2019-12-06T16:06:20.579732Z",
     "start_time": "2019-12-06T16:06:20.570275Z"
    }
   },
   "outputs": [
    {
     "data": {
      "text/plain": [
       "[('enwiki:Huguenots/Etymology', 'Etymology', ['Huguenots', 'Etymology']),\n",
       " ('enwiki:Huguenots/Demographics',\n",
       "  'Demographics',\n",
       "  ['Huguenots', 'Demographics']),\n",
       " ('enwiki:Huguenots/History/Origins',\n",
       "  'Origins',\n",
       "  ['Huguenots', 'History', 'Origins']),\n",
       " ('enwiki:Huguenots/History/Criticisms%20of%20the%20Catholic%20Church',\n",
       "  'Criticisms of the Catholic Church',\n",
       "  ['Huguenots', 'History', 'Criticisms of the Catholic Church']),\n",
       " ('enwiki:Huguenots/History/Reform%20and%20growth',\n",
       "  'Reform and growth',\n",
       "  ['Huguenots', 'History', 'Reform and growth']),\n",
       " ('enwiki:Huguenots/History/Wars%20of%20religion',\n",
       "  'Wars of religion',\n",
       "  ['Huguenots', 'History', 'Wars of religion']),\n",
       " ('enwiki:Huguenots/History/Civil%20wars',\n",
       "  'Civil wars',\n",
       "  ['Huguenots', 'History', 'Civil wars']),\n",
       " (\"enwiki:Huguenots/History/St.%20Bartholomew's%20Day%20massacre\",\n",
       "  \"St. Bartholomew's Day massacre\",\n",
       "  ['Huguenots', 'History', \"St. Bartholomew's Day massacre\"]),\n",
       " ('enwiki:Huguenots/History/Edict%20of%20Nantes',\n",
       "  'Edict of Nantes',\n",
       "  ['Huguenots', 'History', 'Edict of Nantes']),\n",
       " ('enwiki:Huguenots/History/Edict%20of%20Fontainebleau',\n",
       "  'Edict of Fontainebleau',\n",
       "  ['Huguenots', 'History', 'Edict of Fontainebleau']),\n",
       " ('enwiki:Huguenots/History/End%20of%20persecution',\n",
       "  'End of persecution',\n",
       "  ['Huguenots', 'History', 'End of persecution']),\n",
       " ('enwiki:Huguenots/History/Modern%20times',\n",
       "  'Modern times',\n",
       "  ['Huguenots', 'History', 'Modern times']),\n",
       " ('enwiki:Huguenots/Exodus/Early%20emigration',\n",
       "  'Early emigration',\n",
       "  ['Huguenots', 'Exodus', 'Early emigration']),\n",
       " ('enwiki:Huguenots/Exodus/South%20Africa',\n",
       "  'South Africa',\n",
       "  ['Huguenots', 'Exodus', 'South Africa']),\n",
       " ('enwiki:Huguenots/Exodus/North%20America',\n",
       "  'North America',\n",
       "  ['Huguenots', 'Exodus', 'North America']),\n",
       " ('enwiki:Huguenots/Exodus/Netherlands',\n",
       "  'Netherlands',\n",
       "  ['Huguenots', 'Exodus', 'Netherlands']),\n",
       " ('enwiki:Huguenots/Exodus/Wales', 'Wales', ['Huguenots', 'Exodus', 'Wales']),\n",
       " ('enwiki:Huguenots/Exodus/England',\n",
       "  'England',\n",
       "  ['Huguenots', 'Exodus', 'England']),\n",
       " ('enwiki:Huguenots/Exodus/Ireland',\n",
       "  'Ireland',\n",
       "  ['Huguenots', 'Exodus', 'Ireland']),\n",
       " ('enwiki:Huguenots/Exodus/Germany%20and%20Scandinavia',\n",
       "  'Germany and Scandinavia',\n",
       "  ['Huguenots', 'Exodus', 'Germany and Scandinavia']),\n",
       " ('enwiki:Huguenots/Exodus/Effects',\n",
       "  'Effects',\n",
       "  ['Huguenots', 'Exodus', 'Effects']),\n",
       " ('enwiki:Huguenots/Symbol', 'Symbol', ['Huguenots', 'Symbol']),\n",
       " ('enwiki:Huguenots/Apology%20and%20honours/Legacy',\n",
       "  'Legacy',\n",
       "  ['Huguenots', 'Apology and honours', 'Legacy'])]"
      ]
     },
     "execution_count": 79,
     "metadata": {},
     "output_type": "execute_result"
    }
   ],
   "source": [
    "right"
   ]
  },
  {
   "cell_type": "code",
   "execution_count": 78,
   "metadata": {
    "ExecuteTime": {
     "end_time": "2019-12-06T16:06:17.064420Z",
     "start_time": "2019-12-06T16:06:17.052707Z"
    }
   },
   "outputs": [],
   "source": [
    "def get_level2(headings, parents, hierarchy=[], depth=1):\n",
    "    \"\"\"extract all leaves or level2 headings from an hierarchy\"\"\"\n",
    "    if depth > 2:\n",
    "        return []\n",
    "    all_headings = []\n",
    "    for i in headings:\n",
    "        cannonical_name = parents+\"/\"+i[0].headingId\n",
    "        if len(i[1]) < 1 or depth == 2:\n",
    "            all_headings.append((cannonical_name, i[0].heading, hierarchy + [i[0].heading]))\n",
    "        all_headings += (get_level2(i[1], cannonical_name, hierarchy + [i[0].heading], depth=depth+1))\n",
    "    return all_headings\n",
    "right = get_level2(page.deep_headings_list(), page.page_id, hierarchy = [page.page_name], depth = 1)"
   ]
  },
  {
   "cell_type": "code",
   "execution_count": 85,
   "metadata": {
    "ExecuteTime": {
     "end_time": "2019-12-06T16:18:06.950339Z",
     "start_time": "2019-12-06T16:18:06.922218Z"
    },
    "collapsed": true
   },
   "outputs": [
    {
     "name": "stdout",
     "output_type": "stream",
     "text": [
      "Alternative medicine\n",
      "Chiropractic\n",
      "Radiocarbon dating\n",
      "Breakdancing\n",
      "Arab slave trade\n",
      "Mate (drink)\n",
      "Hybrid electric vehicle\n",
      "Gunshot wound\n",
      "Zika fever\n",
      "Microaggression\n",
      "Electric car\n",
      "Great white shark\n",
      "Daylight saving time\n",
      "Question mark\n",
      "Huguenots\n",
      "Theory of forms\n",
      "Blockchain\n",
      "Darknet market\n",
      "Opioid epidemic\n",
      "Economics of bitcoin\n",
      "Loot box\n",
      "Aged care in Australia\n",
      "Algorithmic bias\n",
      "Chatbot\n",
      "Blue-ringed octopus\n",
      "Atomic force microscopy\n",
      "Herbalism\n",
      "Workhouse\n",
      "Eggnog\n",
      "Healthcare in Canada\n",
      "Xerostomia\n",
      "Entomophagy\n",
      "Aerobic fermentation\n"
     ]
    }
   ],
   "source": [
    "all_topics = []\n",
    "for page in read_data.iter_annotations(open(topics_path, 'rb')):\n",
    "    if len(page.nested_headings()) == len(page.flat_headings_list()):\n",
    "        continue\n",
    "    print(page.page_name)\n",
    "    all_topics.append(page.page_name)"
   ]
  },
  {
   "cell_type": "code",
   "execution_count": 86,
   "metadata": {
    "ExecuteTime": {
     "end_time": "2019-12-06T16:18:11.432957Z",
     "start_time": "2019-12-06T16:18:11.427275Z"
    }
   },
   "outputs": [
    {
     "data": {
      "text/plain": [
       "33"
      ]
     },
     "execution_count": 86,
     "metadata": {},
     "output_type": "execute_result"
    }
   ],
   "source": [
    "len(all_topics)"
   ]
  },
  {
   "cell_type": "code",
   "execution_count": 94,
   "metadata": {
    "ExecuteTime": {
     "end_time": "2019-12-06T16:24:18.185409Z",
     "start_time": "2019-12-06T16:24:18.181297Z"
    }
   },
   "outputs": [],
   "source": [
    "a = \"asfasf\"\n",
    "a.startswith"
   ]
  },
  {
   "cell_type": "code",
   "execution_count": 93,
   "metadata": {
    "ExecuteTime": {
     "end_time": "2019-12-06T16:21:05.211243Z",
     "start_time": "2019-12-06T16:21:05.205869Z"
    }
   },
   "outputs": [
    {
     "name": "stdout",
     "output_type": "stream",
     "text": [
      "('enwiki:Alternative%20medicine/Appeal/Marketing', 'Marketing', ['Alternative medicine', 'Appeal', 'Marketing'])\n"
     ]
    }
   ],
   "source": [
    "for topic in topics_to_use:\n",
    "    print(topic)\n",
    "    break"
   ]
  },
  {
   "cell_type": "code",
   "execution_count": 90,
   "metadata": {
    "ExecuteTime": {
     "end_time": "2019-12-06T16:20:27.007317Z",
     "start_time": "2019-12-06T16:20:26.944080Z"
    }
   },
   "outputs": [
    {
     "data": {
      "application/vnd.jupyter.widget-view+json": {
       "model_id": "685e96798e354c929490d4a81515debb",
       "version_major": 2,
       "version_minor": 0
      },
      "text/plain": [
       "HBox(children=(IntProgress(value=0, description='Reading and tokening topics', max=65, style=ProgressStyle(des…"
      ]
     },
     "metadata": {},
     "output_type": "display_data"
    },
    {
     "name": "stdout",
     "output_type": "stream",
     "text": [
      "\n"
     ]
    }
   ],
   "source": [
    "from tqdm.auto import tqdm\n",
    "topics_to_use = []\n",
    "for page in tqdm(read_data.iter_annotations(open(topics_path, 'rb')), total=65, desc=\"Reading and tokening topics\"):\n",
    "    # If the topic does not have hierarchy, we don't care about it\n",
    "    if len(page.nested_headings()) == len(page.flat_headings_list()):\n",
    "        continue\n",
    "    topics_to_consider = get_level2(page.deep_headings_list(), page.page_id, hierarchy=[page.page_name])\n",
    "    topics_to_use += topics_to_consider"
   ]
  },
  {
   "cell_type": "code",
   "execution_count": 76,
   "metadata": {
    "ExecuteTime": {
     "end_time": "2019-12-06T16:04:42.020714Z",
     "start_time": "2019-12-06T16:04:42.010771Z"
    }
   },
   "outputs": [
    {
     "data": {
      "text/plain": [
       "[('Etymology', 'Etymology'),\n",
       " ('Demographics', 'Demographics'),\n",
       " ('History', 'History'),\n",
       " ('History', 'History'),\n",
       " ('History', 'History'),\n",
       " ('History', 'History'),\n",
       " ('History', 'History'),\n",
       " ('History', 'History'),\n",
       " ('History', 'History'),\n",
       " ('History', 'History'),\n",
       " ('History', 'History'),\n",
       " ('History', 'History'),\n",
       " ('History', 'History'),\n",
       " ('Exodus', 'Exodus'),\n",
       " ('Exodus', 'Exodus'),\n",
       " ('Exodus', 'Exodus'),\n",
       " ('Exodus', 'Exodus'),\n",
       " ('Exodus', 'Exodus'),\n",
       " ('Exodus', 'Exodus'),\n",
       " ('Exodus', 'Exodus'),\n",
       " ('Exodus', 'Exodus'),\n",
       " ('Exodus', 'Exodus'),\n",
       " ('Exodus', 'Exodus'),\n",
       " ('Symbol', 'Symbol'),\n",
       " ('Apology%20and%20honours', 'Apology and honours'),\n",
       " ('Apology%20and%20honours', 'Apology and honours'),\n",
       " ('Apology%20and%20honours', 'Apology and honours'),\n",
       " ('Apology%20and%20honours', 'Apology and honours'),\n",
       " ('Apology%20and%20honours', 'Apology and honours'),\n",
       " ('Apology%20and%20honours', 'Apology and honours'),\n",
       " ('Apology%20and%20honours', 'Apology and honours'),\n",
       " ('Apology%20and%20honours', 'Apology and honours'),\n",
       " ('Apology%20and%20honours', 'Apology and honours')]"
      ]
     },
     "execution_count": 76,
     "metadata": {},
     "output_type": "execute_result"
    }
   ],
   "source": [
    "[(a[0].headingId, a[0].heading) for a in page.flat_headings_list()]"
   ]
  },
  {
   "cell_type": "code",
   "execution_count": 63,
   "metadata": {
    "ExecuteTime": {
     "end_time": "2019-12-06T16:03:11.852685Z",
     "start_time": "2019-12-06T16:03:11.839311Z"
    }
   },
   "outputs": [
    {
     "ename": "TypeError",
     "evalue": "from_cbor() missing 1 required positional argument: 'cbor'",
     "output_type": "error",
     "traceback": [
      "\u001b[0;31m---------------------------------------------------------------------------\u001b[0m",
      "\u001b[0;31mTypeError\u001b[0m                                 Traceback (most recent call last)",
      "\u001b[0;32m<ipython-input-63-b6140a4d1be0>\u001b[0m in \u001b[0;36m<module>\u001b[0;34m\u001b[0m\n\u001b[0;32m----> 1\u001b[0;31m \u001b[0ma\u001b[0m\u001b[0;34m.\u001b[0m\u001b[0mfrom_cbor\u001b[0m\u001b[0;34m(\u001b[0m\u001b[0;34m)\u001b[0m\u001b[0;34m\u001b[0m\u001b[0;34m\u001b[0m\u001b[0m\n\u001b[0m",
      "\u001b[0;31mTypeError\u001b[0m: from_cbor() missing 1 required positional argument: 'cbor'"
     ]
    }
   ],
   "source": []
  }
 ],
 "metadata": {
  "kernelspec": {
   "display_name": "Python 3",
   "language": "python",
   "name": "python3"
  },
  "language_info": {
   "codemirror_mode": {
    "name": "ipython",
    "version": 3
   },
   "file_extension": ".py",
   "mimetype": "text/x-python",
   "name": "python",
   "nbconvert_exporter": "python",
   "pygments_lexer": "ipython3",
   "version": "3.7.3"
  }
 },
 "nbformat": 4,
 "nbformat_minor": 2
}
