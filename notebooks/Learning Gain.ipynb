{
 "cells": [
  {
   "cell_type": "code",
   "execution_count": 1,
   "metadata": {},
   "outputs": [],
   "source": [
    "import numpy as np\n",
    "from collections import defaultdict\n",
    "from collections import Counter\n",
    "import pymongo\n",
    "from __future__ import division\n",
    "import re\n",
    "import matplotlib.pyplot as plt\n",
    "def load_mongo_db():\n",
    "    client = pymongo.MongoClient()\n",
    "    db = client['searchx']\n",
    "    return db"
   ]
  },
  {
   "cell_type": "code",
   "execution_count": 2,
   "metadata": {},
   "outputs": [],
   "source": [
    "db = load_mongo_db()\n",
    "logs = db.logs"
   ]
  },
  {
   "cell_type": "code",
   "execution_count": 19,
   "metadata": {},
   "outputs": [],
   "source": [
    "def get_topic_id(user):\n",
    "    db_query = [ r[\"task\"]['data']['topic']['id'] for r in logs.find({ \"event\" : \"SEARCH_QUERY\", \"userId\": user})] \n",
    "    return (np.unique(db_query)[0])\n",
    "def get_topic_terms(user, p):\n",
    "    import json\n",
    "\n",
    "    with open('topics.json') as json_file:\n",
    "        data = json.load(json_file)\n",
    "        return(data[p]['terms'])"
   ]
  },
  {
   "cell_type": "code",
   "execution_count": 20,
   "metadata": {},
   "outputs": [
    {
     "data": {
      "text/plain": [
       "\"[u'sevoflurane', u'hemlock', u'aconite', u'propofol', u'diethyl ether', u'fentanyl', u'inhalational', u'mandrake', u'electrical barricade', u'opium poppy']\""
      ]
     },
     "execution_count": 20,
     "metadata": {},
     "output_type": "execute_result"
    }
   ],
   "source": [
    "str(get_topic_terms(\"5b587dc6efcd5c0001cebd03\", get_topic_id(\"5b587dc6efcd5c0001cebd03\")))"
   ]
  },
  {
   "cell_type": "code",
   "execution_count": 21,
   "metadata": {},
   "outputs": [],
   "source": [
    "def absolute_learning_gain( userId):  \n",
    "    topic = get_topic_id(userId)\n",
    "    topic_terms = get_topic_terms(userId, topic)\n",
    "    pretest_results = [ r for r in logs.find({ \"event\" : \"SURVEY_PRE_TEST_RESULTS\", \"userId\" :userId}).sort(\"date\", -1)]  \n",
    "    pretest_results = pretest_results[0]  \n",
    "    intermediate_results = [ r for r in logs.find({ \"event\" : \"SURVEY_INTERMEDIATE_TEST_RESULTS\", \"userId\" :userId}).sort(\"meta.session\", -1)]\n",
    "    posttest_results = logs.find_one({ \"event\" : \"SURVEY_POST_TEST_RESULTS\", \"userId\" :userId})  \n",
    "    score = 0  \n",
    "    for question in topic_terms:  \n",
    "        qid = \"Q-\" + str(topic) + \"-\" + str(question)  \n",
    "\n",
    "        if int(pretest_results[\"meta\"][\"data\"][qid]) == 1 or int(pretest_results[\"meta\"][\"data\"][qid]) == 2:  \n",
    "            if int(posttest_results[\"meta\"][\"data\"][qid]) == 3 or int(posttest_results[\"meta\"][\"data\"][qid]) == 4:  \n",
    "                score += 1  \n",
    "    return score/10\n",
    "\n",
    "def realized_potential_learning(userId):  \n",
    "    pretest_results = [ r for r in logs.find({ \"event\" : \"SURVEY_PRE_TEST_RESULTS\", usersIdentifier(userId) :userId}).sort(\"date\", -1)][0]  \n",
    "    posttest_results = logs.find_one({ \"event\" : \"SURVEY_POST_TEST_RESULTS\", usersIdentifier(userId) :userId})  \n",
    "    max_gain = 0  \n",
    "\n",
    "    for question in range(0,10):  \n",
    "        qid = \"Q-\" + str(topic) + \"-\" + str(question)  \n",
    "\n",
    "        if int(pretest_results[\"meta\"][\"results\"][qid]) == 1 or int(pretest_results[\"meta\"][\"results\"][qid]) == 2:  \n",
    "            max_gain += 1    \n",
    "            max_gain /= 10  \n",
    "            gain = absolute_learning_gain(userId)  \n",
    "\n",
    "    return gain/max_gain"
   ]
  },
  {
   "cell_type": "code",
   "execution_count": 22,
   "metadata": {},
   "outputs": [
    {
     "data": {
      "text/plain": [
       "0.3"
      ]
     },
     "execution_count": 22,
     "metadata": {},
     "output_type": "execute_result"
    }
   ],
   "source": [
    "absolute_learning_gain(\"5d8d0decf345720017634bc0\")"
   ]
  },
  {
   "cell_type": "code",
   "execution_count": 402,
   "metadata": {},
   "outputs": [],
   "source": [
    "def absolute_learning_gain( userId):\n",
    "    intermid_dict = { }\n",
    "    topic = get_topic_id(userId)\n",
    "    topic_terms = get_topic_terms(userId, topic)\n",
    "    pretest_results = [ r for r in logs.find({ \"event\" : \"SURVEY_PRE_TEST_RESULTS\", \"userId\" :userId}).sort(\"date\", -1)]  \n",
    "    pretest_results = pretest_results[0] \n",
    "    posttest_results = logs.find_one({ \"event\" : \"SURVEY_POST_TEST_RESULTS\", \"userId\" :userId}) \n",
    "    score = 0\n",
    "    for question in topic_terms:  \n",
    "        qid = \"Q-\" + str(topic) + \"-\" + str(question)  \n",
    "        if int(pretest_results['meta']['data'][qid]) == 3 or int(pretest_results['meta']['data'][qid]) == 4:\n",
    "            score+=1\n",
    "    intermid_dict['0']= score\n",
    "    \n",
    "    intermediate_results = [ r for r in logs.find({ \"event\" : \"SURVEY_INTERMEDIATE_TEST_RESULTS\", \"userId\" :userId})]\n",
    "    for test in intermediate_results:\n",
    "        score = 0\n",
    "        for question in topic_terms:  \n",
    "            qid = \"Q-\" + str(topic) + \"-\" + str(question)  \n",
    "            if qid in test['meta']['data'].keys():\n",
    "                if int(test['meta']['data'][qid]) == 3 or int(test['meta']['data'][qid]) == 4:\n",
    "                    score+=1\n",
    "        intermid_dict[str(test['meta']['session'])] = score\n",
    "        \n",
    "        if str(test['meta']['session']) == '3':\n",
    "            if posttest_results:\n",
    "                score = 0\n",
    "                for question in topic_terms:  \n",
    "                    qid = \"Q-\" + str(topic) + \"-\" + str(question)\n",
    "                    if qid in test['meta']['data'].keys():\n",
    "                        if int(test[\"meta\"][\"data\"][qid]) == 1 or int(test[\"meta\"][\"data\"][qid]) == 2:  \n",
    "                            if int(posttest_results[\"meta\"][\"data\"][qid]) == 3 or int(posttest_results[\"meta\"][\"data\"][qid]) == 4:  \n",
    "                                score += 1\n",
    "                intermid_dict['4'] = score\n",
    "            else:\n",
    "                intermid_dict['4'] = 0\n",
    "    \n",
    "    for i in range(5):\n",
    "        if str(i) not in intermid_dict.keys():\n",
    "            print(\"this happened\",  \"test\", str(i) )\n",
    "            intermid_dict[str(i)] = 0\n",
    "    return intermid_dict "
   ]
  },
  {
   "cell_type": "code",
   "execution_count": 414,
   "metadata": {},
   "outputs": [
    {
     "name": "stdout",
     "output_type": "stream",
     "text": [
      "('this happened', 'test', '3')\n",
      "('this happened', 'test', '4')\n"
     ]
    },
    {
     "data": {
      "text/plain": [
       "{'0': 2, '1': 7, '2': 1, '3': 0, '4': 0}"
      ]
     },
     "execution_count": 414,
     "metadata": {},
     "output_type": "execute_result"
    }
   ],
   "source": [
    "absolute_learning_gain(\"5cacf324ea201200013d7807\")"
   ]
  },
  {
   "cell_type": "code",
   "execution_count": 94,
   "metadata": {},
   "outputs": [],
   "source": [
    "users = [\"5b587dc6efcd5c0001cebd03\", \"5b587dc6efcd5c0001cebd03\", \"57533f7c483c14000662f391\", \"5d3a3b28376aea001a66782d\",\n",
    "\"5c9e5a042b3c77001544e975\", \"5d26f5eb7aa0b0000138b4ba\", \"5d0a993c6e9965001aeafe67\", \"5c9162220791df0001366aa6\",\"5d4fe8e3f20feb00190b643c\",\n",
    "\"5d63bfff79f8dc0015af6de3\",\"5a97081189de8200013eea9b\",\"5952a1dc27f8fb00016213bb\",\"58fd0de6d66f6400016dc0fd\",\n",
    "\"5c742bf8ecf82a0015630ec1\",\n",
    "\"5caf6c27b480520012eb741b\",\n",
    "\"5d34437867a8ff0019dc0403\",\n",
    "\"54a7c951fdf99b7cd759d23e\",\n",
    "\"5c3f00de1580e9000122ecb5\",\n",
    "\"5b0f27321e55760001b9a8a5\",\"5c864b1bd9fe700001023b72\",\"5cacf324ea201200013d7807\",\"5b0c5ae5641b1200010ee49d\",\"59308b35deea010001017c0e\",\"5c28ef690091e40001ca5e99\",\"5bcdf10432e46700016f8f80\",\"595022904df2c40001bf85df\",\"5877f454127d7700018b1bdf\",\"5bf1de1556a321000106fae0\",\"5b09bd6ae9270900013b82be\",\"5cd0cdf9731ab00013a73906\",\"59f8868e05d1d60001f1464d\",\"5b82d4fda284bc000193094c\",\"5d91a7c336017c00192a6755\",\"5d8e3a178b0c840017736451\",\"59bb884a3c45a10001ccc4f7\",\"5d235fa4c9b2ee00190ed9af\",\"58d0632c2fc72000011f8c57\",\"5cf1b0f475b61a0001d00408\",\"5be89ff4d153f500019aa86f\",\"55f244e632af740012170458\",\"5993020a5f49420001caf86b\",\"5b0b1b5a9663ee0001456cec\",\"5d8d0decf345720017634bc0\",\"5d114bdc009d5e001ac94487\",\"5d5ba6430ffa48001b458d64\",\"5b6c3818f458f500013774a3\",\"5d27b8fee5af0b00157f41a6\",\"5c3fb34812dd430001d4b4d5\",\"5d971ac046a93c0017005bf1\",\"5b421b9ac2e3810001763252\",\"57843b986475d400015a8e45\",\"5d30eee5e7ca2e001bd4091b\",\"5c1a32c91f191b0001ebe392\",\"5c54b2e0cf1cd900018cf6a6\",\"5bddad5e3dad0a0001e2d79b\",\"5c676d436f250200012a04e8\",\"5977e3867412f8000194e1fe\",\"5d269f7442562200018babe6\",\"5c5cad3e4ee81200018eafe2\",\"5d404bc74db54a0001fecb92\",\"56cb839cedf8da000c6df35b\",\"5a69fb84eeef45000138d276\"]"
   ]
  },
  {
   "cell_type": "code",
   "execution_count": 415,
   "metadata": {
    "scrolled": true
   },
   "outputs": [
    {
     "name": "stdout",
     "output_type": "stream",
     "text": [
      "0\n",
      "5b587dc6efcd5c0001cebd03\n",
      "1\n",
      "5b587dc6efcd5c0001cebd03\n",
      "2\n",
      "57533f7c483c14000662f391\n",
      "3\n",
      "5d3a3b28376aea001a66782d\n",
      "4\n",
      "5c9e5a042b3c77001544e975\n",
      "('this happened', 'test', '1')\n",
      "5\n",
      "5d26f5eb7aa0b0000138b4ba\n",
      "6\n",
      "5d0a993c6e9965001aeafe67\n",
      "7\n",
      "5c9162220791df0001366aa6\n",
      "8\n",
      "5d4fe8e3f20feb00190b643c\n",
      "('this happened', 'test', '3')\n",
      "('this happened', 'test', '4')\n",
      "9\n",
      "5d63bfff79f8dc0015af6de3\n",
      "10\n",
      "5a97081189de8200013eea9b\n",
      "11\n",
      "5952a1dc27f8fb00016213bb\n",
      "12\n",
      "58fd0de6d66f6400016dc0fd\n",
      "13\n",
      "5c742bf8ecf82a0015630ec1\n",
      "14\n",
      "5caf6c27b480520012eb741b\n",
      "15\n",
      "5d34437867a8ff0019dc0403\n",
      "('this happened', 'test', '3')\n",
      "('this happened', 'test', '4')\n",
      "16\n",
      "54a7c951fdf99b7cd759d23e\n",
      "17\n",
      "5c3f00de1580e9000122ecb5\n",
      "18\n",
      "5b0f27321e55760001b9a8a5\n",
      "19\n",
      "5c864b1bd9fe700001023b72\n",
      "20\n",
      "5cacf324ea201200013d7807\n",
      "('this happened', 'test', '3')\n",
      "('this happened', 'test', '4')\n",
      "21\n",
      "5b0c5ae5641b1200010ee49d\n",
      "22\n",
      "59308b35deea010001017c0e\n",
      "23\n",
      "5c28ef690091e40001ca5e99\n",
      "24\n",
      "5bcdf10432e46700016f8f80\n",
      "25\n",
      "595022904df2c40001bf85df\n",
      "26\n",
      "5877f454127d7700018b1bdf\n",
      "('this happened', 'test', '1')\n",
      "27\n",
      "5bf1de1556a321000106fae0\n",
      "28\n",
      "5b09bd6ae9270900013b82be\n",
      "29\n",
      "5cd0cdf9731ab00013a73906\n",
      "30\n",
      "59f8868e05d1d60001f1464d\n",
      "31\n",
      "5b82d4fda284bc000193094c\n",
      "32\n",
      "5d91a7c336017c00192a6755\n",
      "33\n",
      "5d8e3a178b0c840017736451\n",
      "34\n",
      "59bb884a3c45a10001ccc4f7\n",
      "35\n",
      "5d235fa4c9b2ee00190ed9af\n",
      "36\n",
      "58d0632c2fc72000011f8c57\n",
      "37\n",
      "5cf1b0f475b61a0001d00408\n",
      "38\n",
      "5be89ff4d153f500019aa86f\n",
      "39\n",
      "55f244e632af740012170458\n",
      "40\n",
      "5993020a5f49420001caf86b\n",
      "41\n",
      "5b0b1b5a9663ee0001456cec\n",
      "42\n",
      "5d8d0decf345720017634bc0\n",
      "43\n",
      "5d114bdc009d5e001ac94487\n",
      "44\n",
      "5d5ba6430ffa48001b458d64\n",
      "45\n",
      "5b6c3818f458f500013774a3\n",
      "46\n",
      "5d27b8fee5af0b00157f41a6\n",
      "47\n",
      "5c3fb34812dd430001d4b4d5\n",
      "48\n",
      "5d971ac046a93c0017005bf1\n",
      "49\n",
      "5b421b9ac2e3810001763252\n",
      "50\n",
      "57843b986475d400015a8e45\n",
      "51\n",
      "5d30eee5e7ca2e001bd4091b\n",
      "52\n",
      "5c1a32c91f191b0001ebe392\n",
      "53\n",
      "5c54b2e0cf1cd900018cf6a6\n",
      "54\n",
      "5bddad5e3dad0a0001e2d79b\n",
      "55\n",
      "5c676d436f250200012a04e8\n",
      "56\n",
      "5977e3867412f8000194e1fe\n",
      "57\n",
      "5d269f7442562200018babe6\n",
      "58\n",
      "5c5cad3e4ee81200018eafe2\n",
      "59\n",
      "5d404bc74db54a0001fecb92\n",
      "60\n",
      "56cb839cedf8da000c6df35b\n",
      "61\n",
      "5a69fb84eeef45000138d276\n"
     ]
    }
   ],
   "source": [
    "alg_dict = {'0':[],'1':[],'2':[],'3':[],'4':[]}\n",
    "for count, user in enumerate(users):\n",
    "    print(count)\n",
    "    print(user)\n",
    "    dict2 = absolute_learning_gain(user)\n",
    "    for i in range(5):\n",
    "        alg_dict[str(i)].append(dict2[str(i)])\n",
    "        "
   ]
  },
  {
   "cell_type": "code",
   "execution_count": 416,
   "metadata": {},
   "outputs": [],
   "source": [
    "\n",
    "highiq_users = []\n",
    "lowiq_users = []\n",
    "highiq_alg_dict = {'0': [], '1':[],'2':[],'3':[],'4':[]}\n",
    "highiqerr = [] \n",
    "lowiq_alg_dict = {'0': [],'1':[],'2':[],'3':[],'4':[]}\n",
    "lowiqerr = [] \n",
    "\n",
    "for u in range(len(alg_dict['0'])):\n",
    "    if alg_dict['0'][u] >= 3:\n",
    "        highiq_users.append(users[u])\n",
    "        for i in range(5):\n",
    "            highiq_alg_dict[str(i)].append(alg_dict[str(i)][u])\n",
    "    else:\n",
    "        lowiq_users.append(users[u])\n",
    "        for i in range(5):\n",
    "            lowiq_alg_dict[str(i)].append(alg_dict[str(i)][u])\n"
   ]
  },
  {
   "cell_type": "code",
   "execution_count": 404,
   "metadata": {
    "collapsed": true
   },
   "outputs": [
    {
     "data": {
      "text/plain": [
       "{'0': [0,\n",
       "  2,\n",
       "  2,\n",
       "  0,\n",
       "  0,\n",
       "  3,\n",
       "  8,\n",
       "  0,\n",
       "  2,\n",
       "  0,\n",
       "  1,\n",
       "  0,\n",
       "  0,\n",
       "  0,\n",
       "  0,\n",
       "  1,\n",
       "  6,\n",
       "  0,\n",
       "  0,\n",
       "  0,\n",
       "  0,\n",
       "  2,\n",
       "  0,\n",
       "  0,\n",
       "  0,\n",
       "  0,\n",
       "  0,\n",
       "  2,\n",
       "  0,\n",
       "  1,\n",
       "  2,\n",
       "  1,\n",
       "  0,\n",
       "  0,\n",
       "  1,\n",
       "  0,\n",
       "  0,\n",
       "  9,\n",
       "  0,\n",
       "  6,\n",
       "  4,\n",
       "  2,\n",
       "  0,\n",
       "  4,\n",
       "  0,\n",
       "  0,\n",
       "  5,\n",
       "  1,\n",
       "  3,\n",
       "  0,\n",
       "  0,\n",
       "  0,\n",
       "  2,\n",
       "  2,\n",
       "  0,\n",
       "  0,\n",
       "  0,\n",
       "  0,\n",
       "  3,\n",
       "  1,\n",
       "  4,\n",
       "  0],\n",
       " '1': [1,\n",
       "  1,\n",
       "  0,\n",
       "  5,\n",
       "  0,\n",
       "  0,\n",
       "  0,\n",
       "  1,\n",
       "  6,\n",
       "  1,\n",
       "  3,\n",
       "  0,\n",
       "  0,\n",
       "  2,\n",
       "  1,\n",
       "  0,\n",
       "  0,\n",
       "  0,\n",
       "  0,\n",
       "  0,\n",
       "  7,\n",
       "  0,\n",
       "  1,\n",
       "  0,\n",
       "  2,\n",
       "  0,\n",
       "  0,\n",
       "  0,\n",
       "  1,\n",
       "  0,\n",
       "  0,\n",
       "  2,\n",
       "  1,\n",
       "  2,\n",
       "  1,\n",
       "  0,\n",
       "  0,\n",
       "  2,\n",
       "  1,\n",
       "  1,\n",
       "  3,\n",
       "  0,\n",
       "  2,\n",
       "  0,\n",
       "  1,\n",
       "  0,\n",
       "  0,\n",
       "  0,\n",
       "  0,\n",
       "  1,\n",
       "  0,\n",
       "  1,\n",
       "  0,\n",
       "  1,\n",
       "  2,\n",
       "  1,\n",
       "  1,\n",
       "  1,\n",
       "  2,\n",
       "  1,\n",
       "  0,\n",
       "  0],\n",
       " '2': [1,\n",
       "  1,\n",
       "  0,\n",
       "  1,\n",
       "  0,\n",
       "  1,\n",
       "  0,\n",
       "  1,\n",
       "  4,\n",
       "  1,\n",
       "  2,\n",
       "  0,\n",
       "  0,\n",
       "  5,\n",
       "  1,\n",
       "  4,\n",
       "  0,\n",
       "  1,\n",
       "  0,\n",
       "  0,\n",
       "  1,\n",
       "  1,\n",
       "  2,\n",
       "  0,\n",
       "  3,\n",
       "  0,\n",
       "  3,\n",
       "  0,\n",
       "  0,\n",
       "  1,\n",
       "  1,\n",
       "  1,\n",
       "  2,\n",
       "  1,\n",
       "  0,\n",
       "  0,\n",
       "  0,\n",
       "  2,\n",
       "  2,\n",
       "  1,\n",
       "  3,\n",
       "  1,\n",
       "  0,\n",
       "  1,\n",
       "  3,\n",
       "  1,\n",
       "  0,\n",
       "  1,\n",
       "  0,\n",
       "  0,\n",
       "  3,\n",
       "  2,\n",
       "  1,\n",
       "  0,\n",
       "  0,\n",
       "  2,\n",
       "  0,\n",
       "  1,\n",
       "  2,\n",
       "  1,\n",
       "  2,\n",
       "  0],\n",
       " '3': [3,\n",
       "  3,\n",
       "  0,\n",
       "  2,\n",
       "  0,\n",
       "  1,\n",
       "  0,\n",
       "  2,\n",
       "  0,\n",
       "  3,\n",
       "  0,\n",
       "  0,\n",
       "  2,\n",
       "  2,\n",
       "  0,\n",
       "  0,\n",
       "  0,\n",
       "  1,\n",
       "  0,\n",
       "  1,\n",
       "  0,\n",
       "  2,\n",
       "  4,\n",
       "  3,\n",
       "  1,\n",
       "  2,\n",
       "  3,\n",
       "  1,\n",
       "  1,\n",
       "  1,\n",
       "  0,\n",
       "  1,\n",
       "  0,\n",
       "  3,\n",
       "  0,\n",
       "  0,\n",
       "  0,\n",
       "  0,\n",
       "  1,\n",
       "  0,\n",
       "  1,\n",
       "  2,\n",
       "  1,\n",
       "  1,\n",
       "  0,\n",
       "  3,\n",
       "  0,\n",
       "  1,\n",
       "  1,\n",
       "  0,\n",
       "  3,\n",
       "  2,\n",
       "  2,\n",
       "  3,\n",
       "  0,\n",
       "  4,\n",
       "  0,\n",
       "  3,\n",
       "  1,\n",
       "  0,\n",
       "  0,\n",
       "  0],\n",
       " '4': [2,\n",
       "  2,\n",
       "  1,\n",
       "  0,\n",
       "  0,\n",
       "  0,\n",
       "  0,\n",
       "  1,\n",
       "  0,\n",
       "  0,\n",
       "  3,\n",
       "  4,\n",
       "  0,\n",
       "  0,\n",
       "  0,\n",
       "  0,\n",
       "  0,\n",
       "  2,\n",
       "  1,\n",
       "  2,\n",
       "  0,\n",
       "  1,\n",
       "  0,\n",
       "  0,\n",
       "  0,\n",
       "  0,\n",
       "  0,\n",
       "  0,\n",
       "  1,\n",
       "  1,\n",
       "  1,\n",
       "  1,\n",
       "  2,\n",
       "  0,\n",
       "  1,\n",
       "  0,\n",
       "  1,\n",
       "  1,\n",
       "  0,\n",
       "  1,\n",
       "  1,\n",
       "  0,\n",
       "  2,\n",
       "  0,\n",
       "  1,\n",
       "  1,\n",
       "  2,\n",
       "  5,\n",
       "  0,\n",
       "  2,\n",
       "  0,\n",
       "  1,\n",
       "  1,\n",
       "  2,\n",
       "  0,\n",
       "  2,\n",
       "  0,\n",
       "  2,\n",
       "  1,\n",
       "  3,\n",
       "  1,\n",
       "  0]}"
      ]
     },
     "execution_count": 404,
     "metadata": {},
     "output_type": "execute_result"
    }
   ],
   "source": [
    "alg_dict"
   ]
  },
  {
   "cell_type": "code",
   "execution_count": 400,
   "metadata": {
    "scrolled": false
   },
   "outputs": [
    {
     "data": {
      "text/plain": [
       "Text(0.5,1,'Pre Test Score < 3 (53 users)')"
      ]
     },
     "execution_count": 400,
     "metadata": {},
     "output_type": "execute_result"
    },
    {
     "data": {
      "image/png": "[encoded data removed]",
      "text/plain": [
       "<Figure size 720x320 with 2 Axes>"
      ]
     },
     "metadata": {},
     "output_type": "display_data"
    }
   ],
   "source": [
    "from scipy import stats\n",
    "plt.figure(figsize=(9, 4), dpi=80)\n",
    "plt.subplot(1,2,1)\n",
    "yerr_m = [stats.sem(highiq_alg_dict[str(key)])/(2*10) for  key in np.sort([int(k) for k in highiq_alg_dict.keys()])][1:5]\n",
    "plt.errorbar(np.arange(4),[np.mean(highiq_alg_dict[str(key)])/10 for  key in np.sort([int(k) for k in highiq_alg_dict.keys()])][1:5], yerr_m)\n",
    "# plt.legend(loc='lower left', frameon=False)\n",
    "plt.ylabel(\"ALG\")\n",
    "plt.xlabel(\"Search period\")\n",
    "plt.xticks(np.arange(4), ('1', '2', '3', '4'))\n",
    "plt.title(\"Pre Test Score >= 3 (11 users)\")\n",
    "\n",
    "plt.subplot(1,2,2)\n",
    "yerr_m = [stats.sem(lowiq_alg_dict[str(key)])/(2*10) for  key in np.sort([int(k) for k in lowiq_alg_dict.keys()])][1:5]\n",
    "plt.errorbar(np.arange(4),[np.mean(lowiq_alg_dict[str(key)])/10 for  key in np.sort([int(k) for k in lowiq_alg_dict.keys()])][1:5], yerr_m)\n",
    "# plt.legend(loc='lower left', frameon=False)\n",
    "plt.ylabel(\"No. of words learnt\")\n",
    "plt.xlabel(\"Search period\")\n",
    "plt.xticks(np.arange(4), ('1', '2', '3', '4'))\n",
    "plt.title(\"Pre Test Score < 3 (53 users)\")"
   ]
  },
  {
   "cell_type": "code",
   "execution_count": 418,
   "metadata": {},
   "outputs": [
    {
     "data": {
      "image/png": "[encoded data removed]",
      "text/plain": [
       "<Figure size 432x288 with 1 Axes>"
      ]
     },
     "metadata": {},
     "output_type": "display_data"
    }
   ],
   "source": [
    "from scipy import stats\n",
    "# plt.figure(figsize=(5, 4), dpi=80)\n",
    "import seaborn as sns\n",
    "sns.set_style(\"whitegrid\")\n",
    "sns.set_context(\"paper\", font_scale=1.4)\n",
    "\n",
    "\n",
    "yerr_m = [stats.sem(highiq_alg_dict[str(key)])/(2*10) for  key in np.sort([int(k) for k in highiq_alg_dict.keys()])][1:5]\n",
    "line1 = plt.errorbar(np.arange(4),[np.mean(highiq_alg_dict[str(key)])/10 for  key in np.sort([int(k) for k in highiq_alg_dict.keys()])][1:5], yerr_m,)\n",
    "# plt.legend(loc='lower left', frameon=False)\n",
    "plt.ylabel(\"No. of words learnt\")\n",
    "plt.xlabel(\"Search period\")\n",
    "plt.xticks(np.arange(4), ('1', '2', '3', '4'))\n",
    "# plt.legend(\"PTS >= 3 (11 users)\", loc='upper left')\n",
    "\n",
    "# plt.subplot(1,2,2)\n",
    "yerr_m = [stats.sem(lowiq_alg_dict[str(key)])/(2*10) for  key in np.sort([int(k) for k in lowiq_alg_dict.keys()])][1:5]\n",
    "line2 = plt.errorbar(np.arange(4),[np.mean(lowiq_alg_dict[str(key)])/10 for  key in np.sort([int(k) for k in lowiq_alg_dict.keys()])][1:5], yerr_m)\n",
    "# plt.legend(loc='lower left', frameon=False)\n",
    "plt.ylabel(\"No. of words learnt\")\n",
    "plt.xlabel(\"Search period\")\n",
    "plt.xticks(np.arange(4), ('1', '2', '3', '4'))\n",
    "plt.legend((line1, line2), (\"Pre-test Score >= 3 (11 participants)\", \"Pre-Test Score <3 (53 participants)\"), loc='upper left')\n",
    "plt.savefig(\"wordslearnt.pdf\")\n",
    "# (\"Pre Test Score < 3 (53 users)\")"
   ]
  },
  {
   "cell_type": "code",
   "execution_count": null,
   "metadata": {},
   "outputs": [],
   "source": []
  },
  {
   "cell_type": "code",
   "execution_count": 259,
   "metadata": {},
   "outputs": [
    {
     "data": {
      "text/plain": [
       "[]"
      ]
     },
     "execution_count": 259,
     "metadata": {},
     "output_type": "execute_result"
    }
   ],
   "source": [
    "[alg_dict[str(key)] for  key in np.sort([int(k) for k in alg_dict.keys()]) if alg_dict['0'] <3]"
   ]
  },
  {
   "cell_type": "code",
   "execution_count": 346,
   "metadata": {},
   "outputs": [],
   "source": [
    "def cum_absolute_learning_gain( userId):\n",
    "    intermid_dict = { }\n",
    "    topic = get_topic_id(userId)\n",
    "    topic_terms = get_topic_terms(userId, topic)\n",
    "    pretest_results = [ r for r in logs.find({ \"event\" : \"SURVEY_PRE_TEST_RESULTS\", \"userId\" :userId})]  \n",
    "    pretest_results = pretest_results[0] \n",
    "    posttest_results = logs.find_one({ \"event\" : \"SURVEY_POST_TEST_RESULTS\", \"userId\" :userId}) \n",
    "    score = 0\n",
    "    for question in topic_terms:  \n",
    "        qid = \"Q-\" + str(topic) + \"-\" + str(question)  \n",
    "        if int(pretest_results['meta']['data'][qid]) == 3 or int(pretest_results['meta']['data'][qid]) == 4:\n",
    "            score+=1\n",
    "    intermid_dict['0']= score\n",
    "    if score >= 6:\n",
    "        print(\"high IQ\", userId)\n",
    "\n",
    "    intermediate_results = [ r for r in logs.find({ \"event\" : \"SURVEY_INTERMEDIATE_TEST_RESULTS\", \"userId\" :userId})]\n",
    "\n",
    "    for test in intermediate_results:\n",
    "#         print(\"session\", test['meta']['session'])\n",
    "        for question in topic_terms:  \n",
    "            qid = \"Q-\" + str(topic) + \"-\" + str(question)  \n",
    "            if qid in test['meta']['data'].keys():\n",
    "                if int(test['meta']['data'][qid]) == 3 or int(test['meta']['data'][qid]) == 4:\n",
    "#                     print(\"score\", score)\n",
    "                    score+=1\n",
    "        intermid_dict[str(test['meta']['session'])] = score\n",
    "\n",
    "        if str(test['meta']['session']) == '3':\n",
    "            if posttest_results:\n",
    "                \n",
    "                for question in topic_terms:  \n",
    "                    qid = \"Q-\" + str(topic) + \"-\" + str(question)\n",
    "                    if qid in test['meta']['data'].keys():\n",
    "                        if int(test[\"meta\"][\"data\"][qid]) == 1 or int(test[\"meta\"][\"data\"][qid]) == 2:  \n",
    "                            if int(posttest_results[\"meta\"][\"data\"][qid]) == 3 or int(posttest_results[\"meta\"][\"data\"][qid]) == 4:  \n",
    "                                score += 1\n",
    "                intermid_dict['4'] = score\n",
    "            else:\n",
    "                intermid_dict['4'] = score\n",
    "    \n",
    "    for i in range(5):\n",
    "        if str(i) not in intermid_dict.keys():\n",
    "#             print(\"this happened\",  \"test\", str(i) )\n",
    "            intermid_dict[str(i)] = intermid_dict[str(i-1)]\n",
    "    return intermid_dict "
   ]
  },
  {
   "cell_type": "code",
   "execution_count": null,
   "metadata": {},
   "outputs": [],
   "source": []
  },
  {
   "cell_type": "code",
   "execution_count": 377,
   "metadata": {},
   "outputs": [
    {
     "name": "stdout",
     "output_type": "stream",
     "text": [
      "0\n",
      "5b587dc6efcd5c0001cebd03\n",
      "1\n",
      "5b587dc6efcd5c0001cebd03\n",
      "2\n",
      "57533f7c483c14000662f391\n",
      "3\n",
      "5d3a3b28376aea001a66782d\n",
      "4\n",
      "5c9e5a042b3c77001544e975\n",
      "5\n",
      "5d26f5eb7aa0b0000138b4ba\n",
      "('high IQ', '5d26f5eb7aa0b0000138b4ba')\n",
      "6\n",
      "5d0a993c6e9965001aeafe67\n",
      "7\n",
      "5c9162220791df0001366aa6\n",
      "8\n",
      "5d4fe8e3f20feb00190b643c\n",
      "9\n",
      "5d63bfff79f8dc0015af6de3\n",
      "10\n",
      "5a97081189de8200013eea9b\n",
      "11\n",
      "5952a1dc27f8fb00016213bb\n",
      "12\n",
      "58fd0de6d66f6400016dc0fd\n",
      "13\n",
      "5c742bf8ecf82a0015630ec1\n",
      "14\n",
      "5caf6c27b480520012eb741b\n",
      "15\n",
      "5d34437867a8ff0019dc0403\n",
      "('high IQ', '5d34437867a8ff0019dc0403')\n",
      "16\n",
      "54a7c951fdf99b7cd759d23e\n",
      "17\n",
      "5c3f00de1580e9000122ecb5\n",
      "18\n",
      "5b0f27321e55760001b9a8a5\n",
      "19\n",
      "5c864b1bd9fe700001023b72\n",
      "20\n",
      "5cacf324ea201200013d7807\n",
      "21\n",
      "5b0c5ae5641b1200010ee49d\n",
      "22\n",
      "59308b35deea010001017c0e\n",
      "23\n",
      "5c28ef690091e40001ca5e99\n",
      "24\n",
      "5bcdf10432e46700016f8f80\n",
      "25\n",
      "595022904df2c40001bf85df\n",
      "26\n",
      "5877f454127d7700018b1bdf\n",
      "27\n",
      "5bf1de1556a321000106fae0\n",
      "28\n",
      "5b09bd6ae9270900013b82be\n",
      "29\n",
      "5cd0cdf9731ab00013a73906\n",
      "30\n",
      "59f8868e05d1d60001f1464d\n",
      "31\n",
      "5b82d4fda284bc000193094c\n",
      "32\n",
      "5d91a7c336017c00192a6755\n",
      "33\n",
      "5d8e3a178b0c840017736451\n",
      "34\n",
      "59bb884a3c45a10001ccc4f7\n",
      "35\n",
      "5d235fa4c9b2ee00190ed9af\n",
      "36\n",
      "58d0632c2fc72000011f8c57\n",
      "('high IQ', '58d0632c2fc72000011f8c57')\n",
      "37\n",
      "5cf1b0f475b61a0001d00408\n",
      "38\n",
      "5be89ff4d153f500019aa86f\n",
      "('high IQ', '5be89ff4d153f500019aa86f')\n",
      "39\n",
      "55f244e632af740012170458\n",
      "40\n",
      "5993020a5f49420001caf86b\n",
      "41\n",
      "5b0b1b5a9663ee0001456cec\n",
      "42\n",
      "5d8d0decf345720017634bc0\n",
      "43\n",
      "5d114bdc009d5e001ac94487\n",
      "44\n",
      "5d5ba6430ffa48001b458d64\n",
      "45\n",
      "5b6c3818f458f500013774a3\n",
      "46\n",
      "5d27b8fee5af0b00157f41a6\n",
      "47\n",
      "5c3fb34812dd430001d4b4d5\n",
      "48\n",
      "5d971ac046a93c0017005bf1\n",
      "49\n",
      "5b421b9ac2e3810001763252\n",
      "50\n",
      "57843b986475d400015a8e45\n",
      "51\n",
      "5d30eee5e7ca2e001bd4091b\n",
      "52\n",
      "5c1a32c91f191b0001ebe392\n",
      "53\n",
      "5c54b2e0cf1cd900018cf6a6\n",
      "54\n",
      "5bddad5e3dad0a0001e2d79b\n",
      "55\n",
      "5c676d436f250200012a04e8\n",
      "56\n",
      "5977e3867412f8000194e1fe\n",
      "57\n",
      "5d269f7442562200018babe6\n",
      "58\n",
      "5c5cad3e4ee81200018eafe2\n",
      "59\n",
      "5d404bc74db54a0001fecb92\n",
      "60\n",
      "56cb839cedf8da000c6df35b\n",
      "61\n",
      "5a69fb84eeef45000138d276\n"
     ]
    }
   ],
   "source": [
    "cum_alg_dict = {'0':[],'1':[],'2':[],'3':[],'4':[]}\n",
    "for count, user in enumerate(users):\n",
    "    print(count)\n",
    "    print(user)\n",
    "\n",
    "    dict2 = cum_absolute_learning_gain(user)\n",
    "    for i in range(5):\n",
    "        cum_alg_dict[str(i)].append(dict2[str(i)] - dict2[str(0)])\n"
   ]
  },
  {
   "cell_type": "code",
   "execution_count": 376,
   "metadata": {},
   "outputs": [
    {
     "data": {
      "text/plain": [
       "{'0': [0], '1': [1], '2': [2], '3': [5], '4': [7]}"
      ]
     },
     "execution_count": 376,
     "metadata": {},
     "output_type": "execute_result"
    }
   ],
   "source": [
    "cum_alg_dict"
   ]
  },
  {
   "cell_type": "code",
   "execution_count": 374,
   "metadata": {},
   "outputs": [
    {
     "data": {
      "text/plain": [
       "{'0': 2, '1': 3, '2': 4, '3': 7, '4': 9}"
      ]
     },
     "execution_count": 374,
     "metadata": {},
     "output_type": "execute_result"
    }
   ],
   "source": [
    "dict2"
   ]
  },
  {
   "cell_type": "code",
   "execution_count": 378,
   "metadata": {},
   "outputs": [],
   "source": [
    "highiq_cum_alg_dict = {'0': [], '1':[],'2':[],'3':[],'4':[]}\n",
    "highiqerr = [] \n",
    "lowiq_cum_alg_dict = {'0': [],'1':[],'2':[],'3':[],'4':[]}\n",
    "lowiqerr = [] \n",
    "\n",
    "for u in range(len(alg_dict['0'])):\n",
    "    if alg_dict['0'][u] >= 3:\n",
    "        for i in range(5):\n",
    "            highiq_cum_alg_dict[str(i)].append(cum_alg_dict[str(i)][u])\n",
    "    else:\n",
    "        for i in range(5):\n",
    "            lowiq_cum_alg_dict[str(i)].append(cum_alg_dict[str(i)][u])"
   ]
  },
  {
   "cell_type": "code",
   "execution_count": 309,
   "metadata": {},
   "outputs": [
    {
     "data": {
      "text/plain": [
       "Text(0.5,1,'Pre Test Score < 3 (53 users)')"
      ]
     },
     "execution_count": 309,
     "metadata": {},
     "output_type": "execute_result"
    },
    {
     "data": {
      "image/png": "[encoded data removed]",
      "text/plain": [
       "<Figure size 720x320 with 2 Axes>"
      ]
     },
     "metadata": {
      "needs_background": "light"
     },
     "output_type": "display_data"
    }
   ],
   "source": [
    "from scipy import stats\n",
    "plt.figure(figsize=(9, 4), dpi=80)\n",
    "plt.subplot(1,2,1)\n",
    "yerr_m = [stats.sem(highiq_cum_alg_dict[str(key)])/(2*10) for  key in np.sort([int(k) for k in highiq_cum_alg_dict.keys()])][1:5]\n",
    "plt.errorbar(np.arange(4),[np.mean(highiq_cum_alg_dict[str(key)])/10 for  key in np.sort([int(k) for k in highiq_cum_alg_dict.keys()])][1:5], yerr_m)\n",
    "# plt.legend(loc='lower left', frameon=False)\n",
    "plt.ylabel(\"ALG\")\n",
    "plt.xlabel(\"Search period\")\n",
    "plt.xticks(np.arange(4), ('1', '2', '3', '4'))\n",
    "plt.title(\"Pre Test Score >= 3 (11 users)\")\n",
    "\n",
    "plt.subplot(1,2,2)\n",
    "yerr_m = [stats.sem(lowiq_cum_alg_dict[str(key)])/(2*10) for  key in np.sort([int(k) for k in lowiq_cum_alg_dict.keys()])][1:5]\n",
    "plt.errorbar(np.arange(4),[np.mean(lowiq_cum_alg_dict[str(key)])/10 for  key in np.sort([int(k) for k in lowiq_cum_alg_dict.keys()])][1:5], yerr_m)\n",
    "# plt.legend(loc='lower left', frameon=False)\n",
    "plt.ylabel(\"ALG\")\n",
    "plt.xlabel(\"Search period\")\n",
    "plt.xticks(np.arange(4), ('1', '2', '3', '4'))\n",
    "plt.title(\"Pre Test Score < 3 (53 users)\")"
   ]
  },
  {
   "cell_type": "code",
   "execution_count": 379,
   "metadata": {},
   "outputs": [
    {
     "data": {
      "text/plain": [
       "<matplotlib.legend.Legend at 0x7ff715efe290>"
      ]
     },
     "execution_count": 379,
     "metadata": {},
     "output_type": "execute_result"
    },
    {
     "data": {
      "image/png": "[encoded data removed]",
      "text/plain": [
       "<Figure size 480x320 with 1 Axes>"
      ]
     },
     "metadata": {
      "needs_background": "light"
     },
     "output_type": "display_data"
    }
   ],
   "source": [
    "from scipy import stats\n",
    "plt.figure(figsize=(6, 4), dpi=80)\n",
    "\n",
    "yerr_m = [stats.sem(highiq_cum_alg_dict[str(key)])/(2*10) for  key in np.sort([int(k) for k in highiq_cum_alg_dict.keys()])][1:5]\n",
    "line1 = plt.errorbar(np.arange(4),[np.mean(highiq_cum_alg_dict[str(key)])/10 for  key in np.sort([int(k) for k in highiq_cum_alg_dict.keys()])][1:5], yerr_m)\n",
    "# plt.legend(loc='lower left', frameon=False)\n",
    "plt.ylabel(\"ALG\")\n",
    "plt.xlabel(\"Search period\")\n",
    "plt.xticks(np.arange(4), ('1', '2', '3', '4'))\n",
    "plt.title(\"Pre Test Score >= 3 (11 users)\")\n",
    "\n",
    "\n",
    "yerr_m = [stats.sem(lowiq_cum_alg_dict[str(key)])/(2*10) for  key in np.sort([int(k) for k in lowiq_cum_alg_dict.keys()])][1:5]\n",
    "line2 = plt.errorbar(np.arange(4),[np.mean(lowiq_cum_alg_dict[str(key)])/10 for  key in np.sort([int(k) for k in lowiq_cum_alg_dict.keys()])][1:5], yerr_m)\n",
    "# plt.legend(loc='lower left', frameon=False)\n",
    "plt.ylabel(\"ALG\")\n",
    "plt.xlabel(\"Search period\")\n",
    "plt.xticks(np.arange(4), ('1', '2', '3', '4'))\n",
    "plt.legend((line1,line2),(\"Pre Test Score >= 3 (11 users)\",\"Pre Test Score < 3 (53 users)\"))"
   ]
  },
  {
   "cell_type": "code",
   "execution_count": 172,
   "metadata": {},
   "outputs": [
    {
     "data": {
      "text/plain": [
       "0.5516129032258065"
      ]
     },
     "execution_count": 172,
     "metadata": {},
     "output_type": "execute_result"
    }
   ],
   "source": [
    "np.mean(cum_alg_dict['4'])/10"
   ]
  },
  {
   "cell_type": "code",
   "execution_count": 210,
   "metadata": {},
   "outputs": [
    {
     "data": {
      "text/plain": [
       "0.4193548387096775"
      ]
     },
     "execution_count": 210,
     "metadata": {},
     "output_type": "execute_result"
    }
   ],
   "source": [
    "(np.mean(cum_alg_dict['4']) - np.mean(cum_alg_dict['0']))/10"
   ]
  },
  {
   "cell_type": "code",
   "execution_count": 243,
   "metadata": {},
   "outputs": [
    {
     "data": {
      "text/plain": [
       "(array([35.,  7.,  9.,  3.,  3.,  1.,  2.,  0.,  1.,  1.]),\n",
       " array([0. , 0.9, 1.8, 2.7, 3.6, 4.5, 5.4, 6.3, 7.2, 8.1, 9. ]),\n",
       " <a list of 10 Patch objects>)"
      ]
     },
     "execution_count": 243,
     "metadata": {},
     "output_type": "execute_result"
    },
    {
     "data": {
      "image/png": "[encoded data removed]",
      "text/plain": [
       "<Figure size 432x288 with 1 Axes>"
      ]
     },
     "metadata": {
      "needs_background": "light"
     },
     "output_type": "display_data"
    }
   ],
   "source": []
  },
  {
   "cell_type": "code",
   "execution_count": 256,
   "metadata": {},
   "outputs": [
    {
     "data": {
      "text/plain": [
       "11"
      ]
     },
     "execution_count": 256,
     "metadata": {},
     "output_type": "execute_result"
    }
   ],
   "source": [
    "np.sum([1 for p in cum_alg_dict['0'] if p>=3])"
   ]
  },
  {
   "cell_type": "code",
   "execution_count": 194,
   "metadata": {},
   "outputs": [
    {
     "data": {
      "text/plain": [
       "0.4096774193548387"
      ]
     },
     "execution_count": 194,
     "metadata": {},
     "output_type": "execute_result"
    }
   ],
   "source": [
    "( np.mean(cum_alg_dict['1']) + np.mean(alg_dict['2'])+ np.mean(alg_dict['3'])+ np.mean(alg_dict['4']))/10"
   ]
  },
  {
   "cell_type": "code",
   "execution_count": 195,
   "metadata": {},
   "outputs": [
    {
     "data": {
      "text/plain": [
       "0.2806451612903226"
      ]
     },
     "execution_count": 195,
     "metadata": {},
     "output_type": "execute_result"
    }
   ],
   "source": [
    "0.4096774193548387 - 0.12903225806451613"
   ]
  },
  {
   "cell_type": "code",
   "execution_count": 232,
   "metadata": {},
   "outputs": [],
   "source": [
    "def absolute_learning_gain_orig( userId):  \n",
    "    topic = get_topic_id(userId)\n",
    "    topic_terms = get_topic_terms(userId, topic)\n",
    "    pretest_results = [ r for r in logs.find({ \"event\" : \"SURVEY_PRE_TEST_RESULTS\", \"userId\" :userId}).sort(\"date\", -1)]  \n",
    "    pretest_results = pretest_results[0]  \n",
    "    intermediate_results = [ r for r in logs.find({ \"event\" : \"SURVEY_INTERMEDIATE_TEST_RESULTS\", \"userId\" :userId}).sort(\"meta.session\", -1)]\n",
    "    posttest_results = logs.find_one({ \"event\" : \"SURVEY_POST_TEST_RESULTS\", \"userId\" :userId})  \n",
    "    score = 0  \n",
    "    for question in topic_terms:  \n",
    "        qid = \"Q-\" + str(topic) + \"-\" + str(question)  \n",
    "        if posttest_results:\n",
    "            if int(pretest_results[\"meta\"][\"data\"][qid]) == 1 or int(pretest_results[\"meta\"][\"data\"][qid]) == 2:  \n",
    "                if int(posttest_results[\"meta\"][\"data\"][qid]) == 3 or int(posttest_results[\"meta\"][\"data\"][qid]) == 4:  \n",
    "                    score += 1  \n",
    "    return score/10"
   ]
  },
  {
   "cell_type": "code",
   "execution_count": 233,
   "metadata": {
    "collapsed": true
   },
   "outputs": [
    {
     "name": "stdout",
     "output_type": "stream",
     "text": [
      "0\n",
      "5b587dc6efcd5c0001cebd03\n",
      "1\n",
      "5b587dc6efcd5c0001cebd03\n",
      "2\n",
      "57533f7c483c14000662f391\n",
      "3\n",
      "5d3a3b28376aea001a66782d\n",
      "4\n",
      "5c9e5a042b3c77001544e975\n",
      "5\n",
      "5d26f5eb7aa0b0000138b4ba\n",
      "6\n",
      "5d0a993c6e9965001aeafe67\n",
      "7\n",
      "5c9162220791df0001366aa6\n",
      "8\n",
      "5d4fe8e3f20feb00190b643c\n",
      "9\n",
      "5d63bfff79f8dc0015af6de3\n",
      "10\n",
      "5a97081189de8200013eea9b\n",
      "11\n",
      "5952a1dc27f8fb00016213bb\n",
      "12\n",
      "58fd0de6d66f6400016dc0fd\n",
      "13\n",
      "5c742bf8ecf82a0015630ec1\n",
      "14\n",
      "5caf6c27b480520012eb741b\n",
      "15\n",
      "5d34437867a8ff0019dc0403\n",
      "16\n",
      "54a7c951fdf99b7cd759d23e\n",
      "17\n",
      "5c3f00de1580e9000122ecb5\n",
      "18\n",
      "5b0f27321e55760001b9a8a5\n",
      "19\n",
      "5c864b1bd9fe700001023b72\n",
      "20\n",
      "5cacf324ea201200013d7807\n",
      "21\n",
      "5b0c5ae5641b1200010ee49d\n",
      "22\n",
      "59308b35deea010001017c0e\n",
      "23\n",
      "5c28ef690091e40001ca5e99\n",
      "24\n",
      "5bcdf10432e46700016f8f80\n",
      "25\n",
      "595022904df2c40001bf85df\n",
      "26\n",
      "5877f454127d7700018b1bdf\n",
      "27\n",
      "5bf1de1556a321000106fae0\n",
      "28\n",
      "5b09bd6ae9270900013b82be\n",
      "29\n",
      "5cd0cdf9731ab00013a73906\n",
      "30\n",
      "59f8868e05d1d60001f1464d\n",
      "31\n",
      "5b82d4fda284bc000193094c\n",
      "32\n",
      "5d91a7c336017c00192a6755\n",
      "33\n",
      "5d8e3a178b0c840017736451\n",
      "34\n",
      "59bb884a3c45a10001ccc4f7\n",
      "35\n",
      "5d235fa4c9b2ee00190ed9af\n",
      "36\n",
      "58d0632c2fc72000011f8c57\n",
      "37\n",
      "5cf1b0f475b61a0001d00408\n",
      "38\n",
      "5be89ff4d153f500019aa86f\n",
      "39\n",
      "55f244e632af740012170458\n",
      "40\n",
      "5993020a5f49420001caf86b\n",
      "41\n",
      "5b0b1b5a9663ee0001456cec\n",
      "42\n",
      "5d8d0decf345720017634bc0\n",
      "43\n",
      "5d114bdc009d5e001ac94487\n",
      "44\n",
      "5d5ba6430ffa48001b458d64\n",
      "45\n",
      "5b6c3818f458f500013774a3\n",
      "46\n",
      "5d27b8fee5af0b00157f41a6\n",
      "47\n",
      "5c3fb34812dd430001d4b4d5\n",
      "48\n",
      "5d971ac046a93c0017005bf1\n",
      "49\n",
      "5b421b9ac2e3810001763252\n",
      "50\n",
      "57843b986475d400015a8e45\n",
      "51\n",
      "5d30eee5e7ca2e001bd4091b\n",
      "52\n",
      "5c1a32c91f191b0001ebe392\n",
      "53\n",
      "5c54b2e0cf1cd900018cf6a6\n",
      "54\n",
      "5bddad5e3dad0a0001e2d79b\n",
      "55\n",
      "5c676d436f250200012a04e8\n",
      "56\n",
      "5977e3867412f8000194e1fe\n",
      "57\n",
      "5d269f7442562200018babe6\n",
      "58\n",
      "5c5cad3e4ee81200018eafe2\n",
      "59\n",
      "5d404bc74db54a0001fecb92\n",
      "60\n",
      "56cb839cedf8da000c6df35b\n",
      "61\n",
      "5a69fb84eeef45000138d276\n"
     ]
    }
   ],
   "source": [
    "orig_alg_dict = []\n",
    "for count, user in enumerate(users):\n",
    "    print(count)\n",
    "    print(user)\n",
    "\n",
    "    orig_alg_dict.append(absolute_learning_gain_orig(user))\n",
    "    "
   ]
  },
  {
   "cell_type": "code",
   "execution_count": 234,
   "metadata": {},
   "outputs": [
    {
     "data": {
      "text/plain": [
       "0.37096774193548393"
      ]
     },
     "execution_count": 234,
     "metadata": {},
     "output_type": "execute_result"
    }
   ],
   "source": [
    "def realized_potential_learning(userId):  \n",
    "    pretest_results = [ r for r in logs.find({ \"event\" : \"SURVEY_PRE_TEST_RESULTS\", usersIdentifier(userId) :userId}).sort(\"date\", -1)][0]  \n",
    "    posttest_results = logs.find_one({ \"event\" : \"SURVEY_POST_TEST_RESULTS\", usersIdentifier(userId) :userId})  \n",
    "    max_gain = 0  \n",
    "\n",
    "    for question in range(0,10):  \n",
    "        qid = \"Q-\" + str(topic) + \"-\" + str(question)  \n",
    "\n",
    "        if int(pretest_results[\"meta\"][\"results\"][qid]) == 1 or int(pretest_results[\"meta\"][\"results\"][qid]) == 2:  \n",
    "            max_gain += 1    \n",
    "    max_gain /= 10  \n",
    "    gain = absolute_learning_gain(userId)  \n",
    "\n",
    "    return gain/max_gain"
   ]
  },
  {
   "cell_type": "code",
   "execution_count": 329,
   "metadata": {},
   "outputs": [
    {
     "data": {
      "text/plain": [
       "{'0': 2, '1': 3, '2': 4, '3': 7, '4': 9}"
      ]
     },
     "execution_count": 329,
     "metadata": {},
     "output_type": "execute_result"
    }
   ],
   "source": [
    "cum_absolute_learning_gain(\"5b587dc6efcd5c0001cebd03\")\n"
   ]
  },
  {
   "cell_type": "code",
   "execution_count": 330,
   "metadata": {},
   "outputs": [
    {
     "data": {
      "text/plain": [
       "{'0': 2, '1': 1, '2': 1, '3': 3, '4': 2}"
      ]
     },
     "execution_count": 330,
     "metadata": {},
     "output_type": "execute_result"
    }
   ],
   "source": [
    "absolute_learning_gain(\"5b587dc6efcd5c0001cebd03\")"
   ]
  },
  {
   "cell_type": "code",
   "execution_count": 344,
   "metadata": {},
   "outputs": [
    {
     "data": {
      "text/plain": [
       "{'0': 4, '1': 1, '2': 1, '3': 5, '4': 4}"
      ]
     },
     "execution_count": 344,
     "metadata": {},
     "output_type": "execute_result"
    }
   ],
   "source": [
    "absolute_learning_gain_fine(\"5b587dc6efcd5c0001cebd03\")"
   ]
  },
  {
   "cell_type": "code",
   "execution_count": 358,
   "metadata": {},
   "outputs": [
    {
     "data": {
      "text/plain": [
       "{'0': 4, '1': 5, '2': 6, '3': 11, '4': 15}"
      ]
     },
     "execution_count": 358,
     "metadata": {},
     "output_type": "execute_result"
    }
   ],
   "source": [
    "cum_absolute_learning_gain_fine(\"5b587dc6efcd5c0001cebd03\")"
   ]
  },
  {
   "cell_type": "code",
   "execution_count": null,
   "metadata": {},
   "outputs": [],
   "source": []
  },
  {
   "cell_type": "code",
   "execution_count": 365,
   "metadata": {},
   "outputs": [],
   "source": [
    "rpl_dict = {'0': [], '1':[],'2':[],'3':[],'4':[]}\n",
    "for user in users:\n",
    "    for i in range(1,5):\n",
    "        if cum_absolute_learning_gain_fine(user)[str(i-1)] == 20:\n",
    "            rpl_dict[str(i)].append(1)\n",
    "        else:\n",
    "            rpl_dict[str(i)].append(absolute_learning_gain_fine(user)[str(i)]/(20-cum_absolute_learning_gain_fine(user)[str(i-1)]))\n",
    "            "
   ]
  },
  {
   "cell_type": "code",
   "execution_count": 371,
   "metadata": {
    "collapsed": true
   },
   "outputs": [
    {
     "data": {
      "text/plain": [
       "{'0': [],\n",
       " '1': [0.0625,\n",
       "  0.0625,\n",
       "  0.0,\n",
       "  0.4,\n",
       "  0.0,\n",
       "  0.0,\n",
       "  0.0,\n",
       "  0.05555555555555555,\n",
       "  0.6,\n",
       "  0.05263157894736842,\n",
       "  0.3,\n",
       "  0.0,\n",
       "  0.0,\n",
       "  0.1,\n",
       "  0.05555555555555555,\n",
       "  0.0,\n",
       "  0.0,\n",
       "  0.0,\n",
       "  0.0,\n",
       "  0.0,\n",
       "  0.3888888888888889,\n",
       "  0.0,\n",
       "  0.1,\n",
       "  0.0,\n",
       "  0.2,\n",
       "  0.0,\n",
       "  0.0,\n",
       "  0.0,\n",
       "  0.05263157894736842,\n",
       "  0.0,\n",
       "  0.0,\n",
       "  0.1,\n",
       "  0.05,\n",
       "  0.16666666666666666,\n",
       "  0.05,\n",
       "  0.0,\n",
       "  0.0,\n",
       "  0.1,\n",
       "  0.09090909090909091,\n",
       "  0.15384615384615385,\n",
       "  0.2222222222222222,\n",
       "  0.0,\n",
       "  0.125,\n",
       "  0.0,\n",
       "  0.05,\n",
       "  0.0,\n",
       "  0.0,\n",
       "  0.0,\n",
       "  0.0,\n",
       "  0.05,\n",
       "  0.0,\n",
       "  0.05555555555555555,\n",
       "  0.0,\n",
       "  0.05,\n",
       "  0.1,\n",
       "  0.1,\n",
       "  0.05,\n",
       "  0.06666666666666667,\n",
       "  0.10526315789473684,\n",
       "  0.0625,\n",
       "  0.0,\n",
       "  0.0],\n",
       " '2': [0.06666666666666667,\n",
       "  0.06666666666666667,\n",
       "  0.0,\n",
       "  0.08333333333333333,\n",
       "  0.0,\n",
       "  0.2222222222222222,\n",
       "  0.0,\n",
       "  0.058823529411764705,\n",
       "  0.625,\n",
       "  0.1111111111111111,\n",
       "  0.2857142857142857,\n",
       "  0.0,\n",
       "  0.0,\n",
       "  0.3888888888888889,\n",
       "  0.058823529411764705,\n",
       "  0.2857142857142857,\n",
       "  0.0,\n",
       "  0.05,\n",
       "  0.0,\n",
       "  0.0,\n",
       "  0.09090909090909091,\n",
       "  0.05,\n",
       "  0.2222222222222222,\n",
       "  0.0,\n",
       "  0.3125,\n",
       "  0.0,\n",
       "  0.16666666666666666,\n",
       "  0.0,\n",
       "  0.0,\n",
       "  0.1111111111111111,\n",
       "  0.05263157894736842,\n",
       "  0.05555555555555555,\n",
       "  0.10526315789473684,\n",
       "  0.06666666666666667,\n",
       "  0.0,\n",
       "  0.0,\n",
       "  0.0,\n",
       "  0.2222222222222222,\n",
       "  0.4,\n",
       "  0.18181818181818182,\n",
       "  0.21428571428571427,\n",
       "  0.05,\n",
       "  0.0,\n",
       "  0.05,\n",
       "  0.15789473684210525,\n",
       "  0.07692307692307693,\n",
       "  0.0,\n",
       "  0.14285714285714285,\n",
       "  0.0,\n",
       "  0.0,\n",
       "  0.3,\n",
       "  0.17647058823529413,\n",
       "  0.05555555555555555,\n",
       "  0.0,\n",
       "  0.0,\n",
       "  0.1111111111111111,\n",
       "  0.0,\n",
       "  0.14285714285714285,\n",
       "  0.11764705882352941,\n",
       "  0.06666666666666667,\n",
       "  0.1,\n",
       "  0.0],\n",
       " '3': [0.35714285714285715,\n",
       "  0.35714285714285715,\n",
       "  0.0,\n",
       "  0.36363636363636365,\n",
       "  0.0,\n",
       "  0.2857142857142857,\n",
       "  0.0,\n",
       "  0.1875,\n",
       "  0.0,\n",
       "  0.1875,\n",
       "  0.0,\n",
       "  0.0,\n",
       "  0.15,\n",
       "  0.36363636363636365,\n",
       "  0.0,\n",
       "  0.0,\n",
       "  0.0,\n",
       "  0.05263157894736842,\n",
       "  0.0,\n",
       "  0.05,\n",
       "  0.0,\n",
       "  0.10526315789473684,\n",
       "  0.5714285714285714,\n",
       "  0.3,\n",
       "  0.18181818181818182,\n",
       "  0.1,\n",
       "  0.26666666666666666,\n",
       "  0.05,\n",
       "  0.05555555555555555,\n",
       "  0.0625,\n",
       "  0.0,\n",
       "  0.058823529411764705,\n",
       "  0.0,\n",
       "  0.21428571428571427,\n",
       "  0.0,\n",
       "  0.0,\n",
       "  0.0,\n",
       "  0.0,\n",
       "  0.3333333333333333,\n",
       "  0.0,\n",
       "  0.09090909090909091,\n",
       "  0.10526315789473684,\n",
       "  0.07142857142857142,\n",
       "  0.05263157894736842,\n",
       "  0.0,\n",
       "  0.5,\n",
       "  0.0,\n",
       "  0.16666666666666666,\n",
       "  0.05,\n",
       "  0.0,\n",
       "  0.21428571428571427,\n",
       "  0.21428571428571427,\n",
       "  0.11764705882352941,\n",
       "  0.21052631578947367,\n",
       "  0.0,\n",
       "  0.375,\n",
       "  0.0,\n",
       "  0.5,\n",
       "  0.06666666666666667,\n",
       "  0.0,\n",
       "  0.0,\n",
       "  0.0],\n",
       " '4': [0.4444444444444444,\n",
       "  0.4444444444444444,\n",
       "  0.05,\n",
       "  0.0,\n",
       "  0.0,\n",
       "  0.0,\n",
       "  0.0,\n",
       "  0.07692307692307693,\n",
       "  0.0,\n",
       "  0.0,\n",
       "  0.6,\n",
       "  0.2,\n",
       "  0.0,\n",
       "  0.0,\n",
       "  0.0,\n",
       "  0.0,\n",
       "  0.0,\n",
       "  0.1111111111111111,\n",
       "  0.05,\n",
       "  0.10526315789473684,\n",
       "  0.0,\n",
       "  0.058823529411764705,\n",
       "  0.0,\n",
       "  0.0,\n",
       "  0.0,\n",
       "  0.0,\n",
       "  0.0,\n",
       "  0.0,\n",
       "  0.11764705882352941,\n",
       "  0.06666666666666667,\n",
       "  0.05555555555555555,\n",
       "  0.0625,\n",
       "  0.11764705882352941,\n",
       "  0.0,\n",
       "  0.05263157894736842,\n",
       "  0.0,\n",
       "  0.2222222222222222,\n",
       "  0.14285714285714285,\n",
       "  0.0,\n",
       "  0.2222222222222222,\n",
       "  0.1,\n",
       "  0.0,\n",
       "  0.15384615384615385,\n",
       "  0.0,\n",
       "  0.0625,\n",
       "  0.3333333333333333,\n",
       "  0.10526315789473684,\n",
       "  1.0,\n",
       "  0.0,\n",
       "  0.10526315789473684,\n",
       "  0.0,\n",
       "  0.18181818181818182,\n",
       "  0.06666666666666667,\n",
       "  0.2,\n",
       "  0.0,\n",
       "  0.2,\n",
       "  0.0,\n",
       "  0.6666666666666666,\n",
       "  0.07142857142857142,\n",
       "  0.21428571428571427,\n",
       "  0.05555555555555555,\n",
       "  0.0]}"
      ]
     },
     "execution_count": 371,
     "metadata": {},
     "output_type": "execute_result"
    }
   ],
   "source": [
    "rpl_dict"
   ]
  },
  {
   "cell_type": "code",
   "execution_count": 361,
   "metadata": {},
   "outputs": [],
   "source": [
    "def absolute_learning_gain_fine( userId):\n",
    "    intermid_dict = { }\n",
    "    topic = get_topic_id(userId)\n",
    "    topic_terms = get_topic_terms(userId, topic)\n",
    "    pretest_results = [ r for r in logs.find({ \"event\" : \"SURVEY_PRE_TEST_RESULTS\", \"userId\" :userId}).sort(\"date\", -1)]  \n",
    "    pretest_results = pretest_results[0] \n",
    "    posttest_results = logs.find_one({ \"event\" : \"SURVEY_POST_TEST_RESULTS\", \"userId\" :userId}) \n",
    "    score = 0\n",
    "    for question in topic_terms:  \n",
    "        qid = \"Q-\" + str(topic) + \"-\" + str(question)  \n",
    "        if int(pretest_results['meta']['data'][qid]) == 3:\n",
    "            score+=1\n",
    "        if int(pretest_results['meta']['data'][qid]) == 4:\n",
    "            score+=2\n",
    "    intermid_dict['0']= score\n",
    "    \n",
    "    intermediate_results = [ r for r in logs.find({ \"event\" : \"SURVEY_INTERMEDIATE_TEST_RESULTS\", \"userId\" :userId})]\n",
    "    for test in intermediate_results:\n",
    "        score = 0\n",
    "        for question in topic_terms:  \n",
    "            qid = \"Q-\" + str(topic) + \"-\" + str(question)  \n",
    "            if qid in test['meta']['data'].keys():\n",
    "                if int(test['meta']['data'][qid]) == 3:\n",
    "                    score+=1\n",
    "                if int(test['meta']['data'][qid]) == 4:\n",
    "                    score+=2\n",
    "        intermid_dict[str(test['meta']['session'])] = score\n",
    "        \n",
    "        if str(test['meta']['session']) == '3':\n",
    "            if posttest_results:\n",
    "                score = 0\n",
    "                for question in topic_terms:  \n",
    "                    qid = \"Q-\" + str(topic) + \"-\" + str(question)\n",
    "                    if qid in test['meta']['data'].keys():\n",
    "                        if int(test[\"meta\"][\"data\"][qid]) == 1 or int(test[\"meta\"][\"data\"][qid]) == 2:  \n",
    "                            if int(posttest_results[\"meta\"][\"data\"][qid]) == 3:\n",
    "                                score += 1\n",
    "                            if int(posttest_results[\"meta\"][\"data\"][qid]) == 4:  \n",
    "                                score += 2\n",
    "                intermid_dict['4'] = score\n",
    "            else:\n",
    "                intermid_dict['4'] = 0\n",
    "    \n",
    "    for i in range(5):\n",
    "        if str(i) not in intermid_dict.keys():\n",
    "#             print(\"this happened\",  \"test\", str(i) )\n",
    "            intermid_dict[str(i)] = 0\n",
    "    return intermid_dict "
   ]
  },
  {
   "cell_type": "code",
   "execution_count": 362,
   "metadata": {},
   "outputs": [],
   "source": [
    "def cum_absolute_learning_gain_fine(user):\n",
    "    alg_fine = absolute_learning_gain_fine(user)\n",
    "    cum_alg_fine = {'0': [], '1':[],'2':[],'3':[],'4':[]}\n",
    "    c = 0\n",
    "    for i in range(5):\n",
    "        c+=alg_fine[str(i)]\n",
    "        cum_alg_fine[str(i)] = c\n",
    "    return cum_alg_fine"
   ]
  },
  {
   "cell_type": "code",
   "execution_count": 12,
   "metadata": {
    "ExecuteTime": {
     "end_time": "2020-01-22T14:17:45.054725Z",
     "start_time": "2020-01-22T14:17:45.046051Z"
    }
   },
   "outputs": [],
   "source": [
    "all_ids = pickle.load(open(\"retrieved_docs.pkl\", 'rb'))\n",
    "all_docs = pickle.load(open(\"all_docs.pkl\", 'rb'))"
   ]
  },
  {
   "cell_type": "code",
   "execution_count": null,
   "metadata": {
    "ExecuteTime": {
     "start_time": "2020-01-22T14:35:28.685Z"
    }
   },
   "outputs": [
    {
     "data": {
      "application/vnd.jupyter.widget-view+json": {
       "model_id": "8d5d26872e8e40b5b70f405fe454145d",
       "version_major": 2,
       "version_minor": 0
      },
      "text/plain": [
       "HBox(children=(IntProgress(value=0, max=4830), HTML(value='')))"
      ]
     },
     "metadata": {},
     "output_type": "display_data"
    }
   ],
   "source": [
    "import subprocess\n",
    "import pickle\n",
    "from tqdm.auto import tqdm\n",
    "def find_doc_id(internal_id):\n",
    "    dump_index_path = \"/ssd2/arthur/Indri-5.14-src/dumpindex/dumpindex\"\n",
    "    index_path = \"/ssd2/arthur/TRECCAR/data/indexes/docs_with_expanded_relevants\"\n",
    "    cmd = \"{} {} dn {}\".format(dump_index_path, index_path, internal_id)\n",
    "    output = subprocess.check_output(cmd.split()).decode(\"utf-8\")\n",
    "    return output\n",
    "\n",
    "id_mapper = dict()\n",
    "all_ids = pickle.load(open(\"all_docs.pkl\", 'rb'))\n",
    "for i_id in tqdm(all_ids):\n",
    "    doc_id = find_doc_id(i_id)\n",
    "    id_mapper[i_id] = doc_id"
   ]
  },
  {
   "cell_type": "code",
   "execution_count": 9,
   "metadata": {
    "ExecuteTime": {
     "end_time": "2020-01-22T13:34:43.944605Z",
     "start_time": "2020-01-22T13:34:43.936041Z"
    }
   },
   "outputs": [],
   "source": [
    "pickle.dump(id_mapper, open(\"internal_id_mapper.pkl\", 'wb'))"
   ]
  },
  {
   "cell_type": "code",
   "execution_count": 10,
   "metadata": {
    "ExecuteTime": {
     "end_time": "2020-01-22T13:34:48.807187Z",
     "start_time": "2020-01-22T13:34:48.786658Z"
    }
   },
   "outputs": [
    {
     "data": {
      "text/plain": [
       "3513"
      ]
     },
     "execution_count": 10,
     "metadata": {},
     "output_type": "execute_result"
    }
   ],
   "source": [
    "len(id_mapper)"
   ]
  },
  {
   "cell_type": "code",
   "execution_count": null,
   "metadata": {},
   "outputs": [],
   "source": []
  }
 ],
 "metadata": {
  "kernelspec": {
   "display_name": "Python 3.7.3 64-bit ('bert': conda)",
   "language": "python",
   "name": "python37364bitbertcondad17ee2e69d794719af955fabff8d7098"
  },
  "language_info": {
   "codemirror_mode": {
    "name": "ipython",
    "version": 3
   },
   "file_extension": ".py",
   "mimetype": "text/x-python",
   "name": "python",
   "nbconvert_exporter": "python",
   "pygments_lexer": "ipython3",
   "version": "3.7.3"
  }
 },
 "nbformat": 4,
 "nbformat_minor": 2
}
