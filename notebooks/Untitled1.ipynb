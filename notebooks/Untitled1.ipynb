{
 "cells": [
  {
   "cell_type": "code",
   "execution_count": 2,
   "metadata": {
    "ExecuteTime": {
     "end_time": "2020-01-21T09:41:28.864267Z",
     "start_time": "2020-01-21T09:41:28.860082Z"
    }
   },
   "outputs": [],
   "source": [
    "import json"
   ]
  },
  {
   "cell_type": "code",
   "execution_count": 6,
   "metadata": {
    "ExecuteTime": {
     "end_time": "2020-01-21T09:50:04.862583Z",
     "start_time": "2020-01-21T09:50:04.858162Z"
    }
   },
   "outputs": [],
   "source": [
    "data_file = \"/ssd2/arthur/TRECCAR/data/searchx.json\""
   ]
  },
  {
   "cell_type": "code",
   "execution_count": 11,
   "metadata": {
    "ExecuteTime": {
     "end_time": "2020-01-21T09:52:16.489855Z",
     "start_time": "2020-01-21T09:52:13.757600Z"
    }
   },
   "outputs": [],
   "source": [
    "all_docs = []\n",
    "for line in open(data_file):\n",
    "    data = json.loads(line)\n",
    "    all_docs.append(data)"
   ]
  },
  {
   "cell_type": "code",
   "execution_count": 12,
   "metadata": {
    "ExecuteTime": {
     "end_time": "2020-01-21T09:52:20.548613Z",
     "start_time": "2020-01-21T09:52:20.542053Z"
    }
   },
   "outputs": [
    {
     "data": {
      "text/plain": [
       "26257"
      ]
     },
     "execution_count": 12,
     "metadata": {},
     "output_type": "execute_result"
    }
   ],
   "source": [
    "len(all_docs)"
   ]
  },
  {
   "cell_type": "code",
   "execution_count": null,
   "metadata": {},
   "outputs": [],
   "source": []
  }
 ],
 "metadata": {
  "kernelspec": {
   "display_name": "Python 3.7.3 64-bit ('bert': conda)",
   "language": "python",
   "name": "python37364bitbertcondad17ee2e69d794719af955fabff8d7098"
  },
  "language_info": {
   "codemirror_mode": {
    "name": "ipython",
    "version": 3
   },
   "file_extension": ".py",
   "mimetype": "text/x-python",
   "name": "python",
   "nbconvert_exporter": "python",
   "pygments_lexer": "ipython3",
   "version": "3.7.3"
  }
 },
 "nbformat": 4,
 "nbformat_minor": 2
}
