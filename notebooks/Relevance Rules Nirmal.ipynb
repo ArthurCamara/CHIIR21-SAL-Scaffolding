{
 "cells": [
  {
   "cell_type": "code",
   "execution_count": 120,
   "metadata": {
    "ExecuteTime": {
     "end_time": "2020-02-12T12:27:56.852977Z",
     "start_time": "2020-02-12T12:27:56.648318Z"
    }
   },
   "outputs": [],
   "source": [
    "import subprocess\n",
    "import pickle\n",
    "from tqdm.auto import tqdm\n",
    "import os\n",
    "from trec_car import read_data\n",
    "from collections import defaultdict, Counter\n",
    "import urllib\n",
    "from nltk.tokenize import word_tokenize, RegexpTokenizer\n",
    "from nltk.corpus import stopwords\n",
    "from gensim import utils, matutils\n",
    "from numpy import array, vstack, float32\n",
    "import requests\n",
    "import logging\n",
    "import pandas as pd\n",
    "from nltk.tokenize import RegexpTokenizer\n",
    "import matplotlib.pyplot as plt"
   ]
  },
  {
   "cell_type": "code",
   "execution_count": 2,
   "metadata": {
    "ExecuteTime": {
     "end_time": "2020-02-12T09:17:57.573916Z",
     "start_time": "2020-02-12T09:17:57.568972Z"
    }
   },
   "outputs": [],
   "source": [
    "sample_queries = pickle.load(open(\"sample_queries.pkl\", 'rb'))"
   ]
  },
  {
   "cell_type": "code",
   "execution_count": 3,
   "metadata": {
    "ExecuteTime": {
     "end_time": "2020-02-12T09:17:59.275578Z",
     "start_time": "2020-02-12T09:17:59.251311Z"
    }
   },
   "outputs": [],
   "source": [
    "def get_level2(headings, parents, hierarchy=[], depth=1):\n",
    "    \"\"\"extract all leaves or level2 headings from an hierarchy\"\"\"\n",
    "    all_headings = []\n",
    "    for i in headings:\n",
    "        cannonical_name = parents+\"/\"+i[0].headingId\n",
    "        if len(i[1]) < 1 or depth == 2:\n",
    "            all_headings.append((cannonical_name, i[0].heading, hierarchy + [i[0].heading]))\n",
    "        all_headings += (get_level2(i[1], cannonical_name, hierarchy + [i[0].heading], depth=depth+1))\n",
    "    return all_headings\n",
    "\n",
    "def generate_docs_offset(doc_file):\n",
    "    offset_path = doc_file + \".offset\"\n",
    "    if os.path.isfile(offset_path):\n",
    "        logging.info(\"Already found offset dict at {}. skipping\".format(offset_path))\n",
    "        return pickle.load(open(offset_path, 'rb'))\n",
    "    offset_dict = dict()\n",
    "    pbar = tqdm(total=config.corpus_size, desc=\"Generating doc offset dictionary\")\n",
    "    empty_docs = 0\n",
    "    with open(doc_file, encoding=\"utf-8\", errors=\"surrogateescape\") as inf:\n",
    "        location = 0\n",
    "        line = True\n",
    "        while line:\n",
    "            line = inf.readline()\n",
    "            try:\n",
    "                doc_id, _ = line.split(\"\\t\")\n",
    "            except (IndexError, ValueError):\n",
    "                print(line)\n",
    "                empty_docs +=1\n",
    "                continue\n",
    "            offset_dict[doc_id] = location\n",
    "            location = inf.tell()\n",
    "            pbar.update()\n",
    "    # assert len(offset_dict) == (config.corpus_size-empty_docs)\n",
    "    pickle.dump(offset_dict, open(offset_path, 'wb'))\n",
    "    print(len(offset_dict))\n",
    "    return offset_dict\n",
    "\n",
    "def get_content(doc_id, doc_file, offset_dict):\n",
    "    offset = offset_dict[doc_id]\n",
    "    with open(doc_file) as f:\n",
    "        f.seek(offset)\n",
    "        doc = f.readline()\n",
    "    if doc_file.endswith(\"bert\"):\n",
    "        return eval(doc.split(\"\\t\")[1].strip())\n",
    "    else:\n",
    "        doc_text = \"\\t\".join(doc.split(\"\\t\")[1:])\n",
    "        return doc_text.strip()\n"
   ]
  },
  {
   "cell_type": "code",
   "execution_count": 4,
   "metadata": {
    "ExecuteTime": {
     "end_time": "2020-02-12T09:18:20.119695Z",
     "start_time": "2020-02-12T09:18:19.924794Z"
    }
   },
   "outputs": [
    {
     "data": {
      "application/vnd.jupyter.widget-view+json": {
       "model_id": "fb7e6644047845cfaec0c16459ebd9bd",
       "version_major": 2,
       "version_minor": 0
      },
      "text/plain": [
       "HBox(children=(IntProgress(value=0, max=117), HTML(value='')))"
      ]
     },
     "metadata": {},
     "output_type": "display_data"
    },
    {
     "name": "stdout",
     "output_type": "stream",
     "text": [
      "\n"
     ]
    }
   ],
   "source": [
    "raw_data_home = \"/ssd2/arthur/TRECCAR\"\n",
    "topics_path = os.path.join(raw_data_home, \"benchmarkY1/benchmarkY1-train/train.pages.cbor-outlines.cbor\")\n",
    "topics_to_use = []\n",
    "topic_id = 0\n",
    "leaf_subtopics = defaultdict(lambda:set())\n",
    "for page in tqdm(read_data.iter_annotations(open(topics_path, 'rb')), total=117):\n",
    "    if page.page_name not in sample_queries.keys():\n",
    "        continue\n",
    "    topics_to_consider = get_level2(page.deep_headings_list(), page.page_id, hierarchy=[page.page_name])\n",
    "    topics_to_use += topics_to_consider\n",
    "    for title, _, hierarchy in topics_to_consider:\n",
    "        _hierarchy = title.split(\"/\")\n",
    "        if len(_hierarchy) < 2:\n",
    "            continue\n",
    "        if len(_hierarchy) > 3:\n",
    "            title = \"/\".join(_hierarchy[:3])\n",
    "        leaf_subtopics[page.page_name].add(title)"
   ]
  },
  {
   "cell_type": "code",
   "execution_count": 5,
   "metadata": {
    "ExecuteTime": {
     "end_time": "2020-02-12T09:18:32.037879Z",
     "start_time": "2020-02-12T09:18:31.982439Z"
    }
   },
   "outputs": [
    {
     "name": "stdout",
     "output_type": "stream",
     "text": [
      "1727\n"
     ]
    }
   ],
   "source": [
    "qrel_path = os.path.join(raw_data_home, \"benchmarkY1/benchmarkY1-train/train.pages.cbor-hierarchical.qrels\")\n",
    "assert os.path.isfile(qrel_path)\n",
    "relevant_docs_per_subtopic = defaultdict(lambda:set())\n",
    "for line in open(qrel_path):  \n",
    "    title, _, doc_id, _ = line.split(\" \")\n",
    "    hierarchy = title.split(\"/\")\n",
    "    topic = urllib.parse.unquote(hierarchy[0])[7:]\n",
    "    if len(hierarchy) > 3:\n",
    "        title = \"/\".join(hierarchy[:3])\n",
    "    relevant_docs_per_subtopic[title].add(doc_id)\n",
    "relevant_docs_per_subtopic = dict(relevant_docs_per_subtopic)\n",
    "print(len(relevant_docs_per_subtopic))"
   ]
  },
  {
   "cell_type": "code",
   "execution_count": 8,
   "metadata": {
    "ExecuteTime": {
     "end_time": "2020-02-12T09:25:21.778965Z",
     "start_time": "2020-02-12T09:25:21.758355Z"
    }
   },
   "outputs": [
    {
     "name": "stdout",
     "output_type": "stream",
     "text": [
      "not recomputing this\n"
     ]
    }
   ],
   "source": [
    "import time\n",
    "\n",
    "subscription_key = \"7ff9c011b5124834b3bcde7600adcc6b\"\n",
    "try:\n",
    "    bing_URLs = pickle.load(open(\"bing_URLs.pkl\", 'rb'))\n",
    "    bing_snippets = pickle.load( open(\"bing_snippets.pkl\", 'rb'))\n",
    "    print(\"not recomputing this\")\n",
    "except:\n",
    "    bing_URLs = defaultdict(lambda:[])\n",
    "    bing_snippets = defaultdict(lambda:[])\n",
    "    ran_queries = 0\n",
    "    flag = False\n",
    "    pbar = tqdm(total=50)\n",
    "    for topic in sample_queries:\n",
    "        for query in sample_queries[topic]:\n",
    "            pbar.update()\n",
    "            search_url = \"https://api.cognitive.microsoft.com/bing/v7.0/search\"\n",
    "            headers = {\"Ocp-Apim-Subscription-Key\": subscription_key, \"BingAPIs-Market\":\"en-US, en-GB\", \"Accept-Language\":\"en-US, en-GB\"}\n",
    "            params = {\"q\": query +' -filetype:pdf' + \" \" + blacklist, \"textDecorations\": True, \"textFormat\": \"HTML\", \"count\": 25, \"responseFilter\": \"Webpages\", \"cc\":\"US\"}\n",
    "            response = requests.get(search_url, headers=headers, params=params)\n",
    "            response.raise_for_status()\n",
    "            search_results = response.json()\n",
    "            bing_snippets[topic].append((query, [x['snippet'] for x in  search_results['webPages']['value']]))\n",
    "            bing_URLs[topic].append((query, [x['url'] for x in  search_results['webPages']['value']]))\n",
    "            docs = [x['url'] for x in  search_results['webPages']['value']]\n",
    "            ran_queries+=1\n",
    "    pickle.dump(dict(bing_snippets), open(\"bing_snippets.pkl\", 'wb'))\n",
    "    pickle.dump(dict(bing_URLs), open(\"bing_URLs.pkl\", 'wb'))"
   ]
  },
  {
   "cell_type": "code",
   "execution_count": 12,
   "metadata": {
    "ExecuteTime": {
     "end_time": "2020-02-12T09:26:50.981741Z",
     "start_time": "2020-02-12T09:26:50.970580Z"
    },
    "collapsed": true
   },
   "outputs": [
    {
     "data": {
      "text/plain": [
       "[('NIHL Quality of life',\n",
       "  ['https://www.hear.com/hearing-loss/everyday-life/',\n",
       "   'https://consensus.nih.gov/1990/1990NoiseHearingLoss076html.htm',\n",
       "   'https://thehill.com/opinion/healthcare/447529-noise-can-adversely-affect-human-health-and-quality-of-life',\n",
       "   'https://www.silencity.com/category/noise-induced-hearing-loss-nihl/',\n",
       "   'https://www.ncbi.nlm.nih.gov/pubmed/30859735',\n",
       "   'https://www.silencity.com/category/noise-induced-hearing-loss-nihl/page/3/',\n",
       "   'https://intermountainhealthcare.org/services/hearing-balance/conditions/noise-induced-hearing-loss/',\n",
       "   'https://analyticscorp.com/o-que-e-pair/',\n",
       "   'https://quizlet.com/114842634/occupational-audiology-hearing-conservation-course-hearing-conservation-motivation-flash-cards/',\n",
       "   'https://keio.pure.elsevier.com/en/publications/emerging-treatments-for-noise-induced-hearing-loss',\n",
       "   'https://www.earq.com/hearing-health/articles/guide-to-noise-induced-hearing-loss',\n",
       "   'https://www.casellasolutions.com/uk/en/news/NIHL-Monitor-Workforce-UK.html',\n",
       "   'https://www.ncbi.nlm.nih.gov/pubmed/27918210',\n",
       "   'https://www.nidcd.nih.gov/newsletter/2009/spring/healthy-people-2010-update-preventing-nihl-children',\n",
       "   'https://www.sharecare.com/health/hearing-damage/noise-hearing-loss-affect-life',\n",
       "   'https://www.hearinghealthcarect.com/2020/01/22/genetic-susceptibility-to-noise-induced-hearing-loss/',\n",
       "   'https://www.names.org/n/nihl/about',\n",
       "   'https://www.workplacemedical.com/blog/the-real-cost-of-noise-induced-hearing-loss/',\n",
       "   'https://www.purdue.edu/newsroom/releases/2019/Q3/now-hear-this-study-highlights-the-importance-of-avoiding-noise-induced-hearing-loss.html',\n",
       "   'https://clinicaltrials.gov/ct2/show/NCT02903355',\n",
       "   'https://miami.pure.elsevier.com/en/publications/recent-advancements-in-gene-and-stem-cell-based-treatment-modalit',\n",
       "   'https://www.tapatalk.com/groups/chicagoyouthhockeyforum/big-nb-meeting-tonight-t9654-s40.html',\n",
       "   'https://drfarzadravari.wordpress.com/noise-induced-hearing-loss-nihl/',\n",
       "   'https://www.hear.com/about-us/',\n",
       "   'http://www.iowahearing.com/blog/noise-induced-and-occupational-hearing-loss-facts/']),\n",
       " ('Noise-induced hearing loss',\n",
       "  ['https://www.hearingloss.org/hearing-help/hearing-loss-basics/noise-induced/',\n",
       "   'https://familydoctor.org/hearing-noise-induced-hearing-loss/',\n",
       "   'https://www.healthyhearing.com/help/hearing-loss',\n",
       "   'https://www.carecredit.com/newsletter/2020/january/noise-induced-hearing-loss/',\n",
       "   'https://intermountainhealthcare.org/services/hearing-balance/conditions/noise-induced-hearing-loss/',\n",
       "   'https://chchearing.org/noise/health-problems/noise-induced-hearing-loss/',\n",
       "   'https://www.soundguys.com/noise-induced-hearing-loss-17420/',\n",
       "   'https://www.hopkinsmedicine.org/health/conditions-and-diseases/hearing-loss/noise-induced-hearing-loss-in-children',\n",
       "   'https://www.noisyplanet.nidcd.nih.gov/parents/what-is-noise-induced-hearing-loss',\n",
       "   'https://www.noisyplanet.nidcd.nih.gov/hearing-loss-science',\n",
       "   'https://www.cdc.gov/nceh/hearing_loss/default.html',\n",
       "   'https://www.ncbi.nlm.nih.gov/pubmedhealth/PMHT0024982/',\n",
       "   'https://hillcresthearing.com/hearing-loss/',\n",
       "   'https://www.hearingchoices.com.au/hearing-loss/noise-induced/',\n",
       "   'https://www.hearingsol.com/help/hearing-loss/noise/',\n",
       "   'https://www.nationaldizzyandbalancecenter.com/noise-induced-hearing-loss/',\n",
       "   'https://medicine.umich.edu/dept/khri/faculty-labs/labs/miller-lab/research-projects/noise-induced-hearing-loss',\n",
       "   'https://www.safeopedia.com/definition/569/noise-induced-hearing-loss-nihl',\n",
       "   'https://www.argusleader.com/story/news/brandon/2019/11/28/noise-induced-hearing-loss-whats-that/4329928002/',\n",
       "   'https://www.utdallas.edu/news/health-medicine/leprell-hearing-loss-journal-2020/',\n",
       "   'http://dangerousdecibels.org/education/information-center/noise-induced-hearing-loss/',\n",
       "   'https://www.belmarrahealth.com/noise-induced-hearing-loss-nihl-symptoms-causes-prevention-tips/',\n",
       "   'https://www.hearingreview.com/hearing-loss/hearing-disorders/syndromic/noise-induced-hearing-loss',\n",
       "   'https://pnwaudiology.com/noise-induced-hearing-loss/',\n",
       "   'https://www.amboss.com/us/knowledge/Hearing_loss']),\n",
       " ('noise-induced hearing loss',\n",
       "  ['https://www.hearingloss.org/hearing-help/hearing-loss-basics/noise-induced/',\n",
       "   'https://familydoctor.org/hearing-noise-induced-hearing-loss/',\n",
       "   'https://intermountainhealthcare.org/services/hearing-balance/conditions/noise-induced-hearing-loss/',\n",
       "   'https://www.healthyhearing.com/help/hearing-loss',\n",
       "   'https://www.soundguys.com/noise-induced-hearing-loss-17420/',\n",
       "   'https://chchearing.org/noise/health-problems/noise-induced-hearing-loss/',\n",
       "   'https://www.carecredit.com/newsletter/2020/january/noise-induced-hearing-loss/',\n",
       "   'https://www.hopkinsmedicine.org/health/conditions-and-diseases/hearing-loss/noise-induced-hearing-loss-in-children',\n",
       "   'https://www.noisyplanet.nidcd.nih.gov/parents/what-is-noise-induced-hearing-loss',\n",
       "   'https://www.noisyplanet.nidcd.nih.gov/hearing-loss-science',\n",
       "   'https://www.cdc.gov/nceh/hearing_loss/default.html',\n",
       "   'https://www.hearingsol.com/help/hearing-loss/noise/',\n",
       "   'https://www.ncbi.nlm.nih.gov/pubmedhealth/PMHT0024982/',\n",
       "   'https://hillcresthearing.com/hearing-loss/',\n",
       "   'https://www.hearingchoices.com.au/hearing-loss/noise-induced/',\n",
       "   'https://www.safeopedia.com/definition/569/noise-induced-hearing-loss-nihl',\n",
       "   'https://medicine.umich.edu/dept/khri/faculty-labs/labs/miller-lab/research-projects/noise-induced-hearing-loss',\n",
       "   'https://www.belmarrahealth.com/noise-induced-hearing-loss-nihl-symptoms-causes-prevention-tips/',\n",
       "   'https://www.nationaldizzyandbalancecenter.com/noise-induced-hearing-loss/',\n",
       "   'https://today.uconn.edu/2018/04/first-potential-biomarker-noise-induced-hearing-loss-identified/',\n",
       "   'https://www.argusleader.com/story/news/brandon/2019/11/28/noise-induced-hearing-loss-whats-that/4329928002/',\n",
       "   'https://www.amboss.com/us/knowledge/Hearing_loss',\n",
       "   'https://www.utdallas.edu/news/health-medicine/leprell-hearing-loss-journal-2020/',\n",
       "   'https://pnwaudiology.com/noise-induced-hearing-loss/',\n",
       "   'https://www.hearingreview.com/hearing-loss/hearing-disorders/syndromic/noise-induced-hearing-loss']),\n",
       " ('Gradually developing',\n",
       "  ['http://www.the-crossword-solver.com/word/Develop+gradually',\n",
       "   'https://www.merriam-webster.com/thesaurus/develop',\n",
       "   'https://www.thesaurus.com/browse/gradually',\n",
       "   'https://www.gameanswer.net/growing-changing-or-developing-gradually-codycross/',\n",
       "   'https://www.crosswordsolver.org/clues/g/gradually-developing.383737',\n",
       "   'http://crosswordtracker.com/clue/develop-gradually/',\n",
       "   'https://www.crosswordsolver.org/clues/d/develop-gradually.139024',\n",
       "   'https://guardiancrosswordanswers.com/gradually-developing-crossword-clue/',\n",
       "   'https://www.theguardiancrosswordanswers.com/gradually-developing-crossword-clue/',\n",
       "   'https://puzzlepageanswers.com/developing-gradually-crossword-clue/',\n",
       "   'https://puzzlepageanswers.org/developing-gradually-crossword-clue/',\n",
       "   'https://quizlet.com/180126920/chapter-3-flash-cards/',\n",
       "   'https://quizlet.com/46220850/cma-exam-review-part-4-flash-cards/',\n",
       "   'https://www.merriam-webster.com/thesaurus/developing',\n",
       "   'https://en.bab.la/dictionary/english-arabic/gradually-developing',\n",
       "   'http://crosswordheaven.com/clues/develop-gradually',\n",
       "   'http://dailyanswers.net/developing-gradually-crossword-clue/',\n",
       "   'https://mobile.ghananews.xyz/police-brutality-ghanaians-gradually-developing-police-derangement-syndrome/',\n",
       "   'https://daily-jumble.com/puzzle-page-diamond/developing-gradually-crossword-clue/',\n",
       "   'https://globalriskinsights.com/2018/12/russia-developing-arctic-lng-strategy/',\n",
       "   'https://thehimalayantimes.com/kathmandu/champadevi-gradually-developing-into-tourist-destination/',\n",
       "   'https://healthfully.com/symptoms-grumbling-appendix-5332905.html',\n",
       "   'http://codycrossanswers.com/develop-gradually-over-time-change/',\n",
       "   'http://www.the-crossword-solver.com/word/develops+gradually',\n",
       "   'https://elearning.rcog.org.uk/assessment-fetal-wellbeing/fetal-hypoxia/types-hypoxia/gradually-developing']),\n",
       " ('Noise-induced hearing loss causes ',\n",
       "  ['https://www.hearingloss.org/hearing-help/hearing-loss-basics/noise-induced/',\n",
       "   'https://www.hearingchoices.com.au/hearing-loss/noise-induced/',\n",
       "   'https://www.healthyhearing.com/help/hearing-loss',\n",
       "   'https://www.hopkinsmedicine.org/health/conditions-and-diseases/hearing-loss/noise-induced-hearing-loss-in-children',\n",
       "   'https://www.hearingsol.com/help/hearing-loss/noise/',\n",
       "   'https://www.theseniorlist.com/hearing-aids/hearing-loss/noise-induced/',\n",
       "   'https://www.belmarrahealth.com/noise-induced-hearing-loss-nihl-symptoms-causes-prevention-tips/',\n",
       "   'https://familydoctor.org/hearing-noise-induced-hearing-loss/',\n",
       "   'https://intermountainhealthcare.org/services/hearing-balance/conditions/noise-induced-hearing-loss/',\n",
       "   'https://www.noisyplanet.nidcd.nih.gov/parents/what-is-noise-induced-hearing-loss',\n",
       "   'https://stanfordhealthcare.org/medical-conditions/ear-nose-and-throat/noise-induced-hearing-loss/causes.html',\n",
       "   'https://www.cdc.gov/nceh/hearing_loss/default.html',\n",
       "   'https://www.webmd.com/a-to-z-guides/understanding-tinnitus-basics',\n",
       "   'http://hearing.wustl.edu/Hearing-Education-Center/Disease-Diagnosis-Treatment/Noise-Induced-Hearing-Loss',\n",
       "   'https://www.houstonent.com/blog/what-is-noise-induced-hearing-loss-nihl-causes-effects-and-treatment-options',\n",
       "   'https://chchearing.org/noise/health-problems/noise-induced-hearing-loss/',\n",
       "   'https://www.primehealthchannel.com/noise-induced-hearing-loss.html',\n",
       "   'https://www.ziphearing.com/blog/noise-induced-hearing-loss/',\n",
       "   'https://www.rightdiagnosis.com/n/noise_induced_hearing_loss/symptoms.htm',\n",
       "   'https://medicalnewsbulletin.com/what-causes-noise-induced-hearing-loss/',\n",
       "   'https://www.hearingloss.org/hearing-help/hearing-loss-basics/prevention/',\n",
       "   'https://www.rightdiagnosis.com/n/noise_induced_hearing_loss/intro.htm',\n",
       "   'https://hillcresthearing.com/hearing-loss/',\n",
       "   'https://scarysymptoms.com/2013/04/noise-induced-hearing-loss-causes/',\n",
       "   'https://audiorecovery.com/blog/what-is-noise-induced-hearing-loss/']),\n",
       " ('osha hearing loss',\n",
       "  ['https://www.osha.gov/laws-regs/standardinterpretations/2016-04-29-0',\n",
       "   'https://www.osha.gov/dts/shib/shib030818.html',\n",
       "   'https://www.cdc.gov/niosh/topics/noise/reducenoiseexposure/regsguidance.html',\n",
       "   'https://www.workplacetesting.com/definition/1770/recordable-hearing-loss',\n",
       "   'http://www.workplaceintegra.com/hearing-articles/OSHA-300.html',\n",
       "   'https://www.audiologyonline.com/ask-the-experts/what-considered-standard-threshold-shift-367',\n",
       "   'https://www.napolilaw.com/practice-areas/workers-compensation/occupational-hearing-loss/',\n",
       "   'https://myhearingcenters.com/blog/hearing-loss-rule/',\n",
       "   'https://www.bigearinc.com/osha-hearing-loss-dental-office/',\n",
       "   'https://siouxfallshearing.com/latest-news/understanding-osha-and-workplace-hearing-loss-',\n",
       "   'https://legalbeagle.com/13661973-osha-recordable-injuries-illnesses.html',\n",
       "   'https://www.wisconsin.edu/workers-compensation/coordinators/osha-record/wc-hearing/',\n",
       "   'https://www.hearingreview.com/hearing-loss/hearing-loss-prevention/industrial-military/new-nioshosha-ototoxicity-hearing-loss-guidelines-published',\n",
       "   'https://www.cdc.gov/niosh/topics/ohl/default.html',\n",
       "   'https://www.safetyandhealthmagazine.com/articles/18676-protecting-workers-with-hearing-loss',\n",
       "   'https://www.miracle-ear.com/hearing-diseases/sudden-temporary-hearing-loss',\n",
       "   'https://www.noisecontrolproducts.com/osha-hearing-regulations/',\n",
       "   'https://scarletmaviles.com/hearing-services/osha-exams/',\n",
       "   'https://www.ehstoday.com/ppe/hearing-protection/article/21909197/defining-workrelated-hearing-loss-your-questions-answered',\n",
       "   'https://downtownlalaw.com/workers-compensation/workplace-hearing-loss-lawsuits-occupational-noise-ear-injury-compensation/',\n",
       "   'http://www.dir.ca.gov/dosh/etools/recordkeeping/CaStandard/CA1430010.htm',\n",
       "   'https://ciahearing.com/',\n",
       "   'https://yourbusiness.azcentral.com/osha-rules-earphones-14271.html',\n",
       "   'http://www.hearingtestlabs.com/osha.htm',\n",
       "   'https://www.dir.ca.gov/t8/14300_10.html']),\n",
       " ('Quality of life',\n",
       "  ['http://www.qualitylifeservices.com/',\n",
       "   'https://www.qualitylifeservices.com/careers-2/',\n",
       "   'http://qualitylifecares.com/',\n",
       "   'http://qualitylifegroup.com/',\n",
       "   'https://dced.pa.gov/pennsylvania/quality-of-life/',\n",
       "   'https://www.numbeo.com/quality-of-life/country_result.jsp?country=United+States',\n",
       "   'https://www.yelp.com/biz/quality-life-group-riverside',\n",
       "   'https://www.indeed.com/cmp/Quality-Life-Services/reviews',\n",
       "   'https://www.indeed.com/cmp/Quality-Life-Services',\n",
       "   'https://www.highquality.life/',\n",
       "   'https://www.azquotes.com/quotes/topics/quality-of-life.html',\n",
       "   'http://www.qlacgh.com/',\n",
       "   'https://qlplus.org/',\n",
       "   'https://www.qla-ostomy.org/',\n",
       "   'https://www.milvets.nc.gov/nc-mac/quality-life',\n",
       "   'https://www.sfchronicle.com/local-politics/article/What-s-the-answer-to-quality-of-life-crimes-in-14563426.php',\n",
       "   'http://qualitylifeserviceshhc.com/',\n",
       "   'https://www.rch.org.au/caringdecisions/chapters/Quality_of_Life/',\n",
       "   'https://www.facebook.com/QualitylifeTres/',\n",
       "   'https://vcahospitals.com/know-your-pet/quality-of-life-at-the-end-of-life-for-your-cat',\n",
       "   'https://realestate.usnews.com/real-estate/slideshows/the-best-places-to-live-in-the-us-for-quality-of-life',\n",
       "   'https://www.psychologytoday.com/us/blog/living-while-dying/201102/quantity-versus-quality-life',\n",
       "   'https://www.facebook.com/QualityLifeServices',\n",
       "   'https://www.key.com/about/corporate-responsibility/community/quality-life.jsp',\n",
       "   'http://qlife.net/']),\n",
       " ('Noise-induced hearing loss  db level',\n",
       "  ['http://dangerousdecibels.org/education/information-center/noise-induced-hearing-loss/',\n",
       "   'https://www.cdc.gov/nceh/hearing_loss/what_noises_cause_hearing_loss.html',\n",
       "   'https://familydoctor.org/hearing-noise-induced-hearing-loss/',\n",
       "   'https://intermountainhealthcare.org/services/hearing-balance/conditions/noise-induced-hearing-loss/',\n",
       "   'https://extension.psu.edu/noise-induced-hearing-loss-in-agriculture',\n",
       "   'http://www.worker-health.org/noisehearingloss.html',\n",
       "   'https://audiorecovery.com/blog/what-is-noise-induced-hearing-loss/',\n",
       "   'https://contentpond.com/signs-and-symptoms-of-noise-induced-hearing-loss/',\n",
       "   'https://owlcation.com/stem/decibel-levels',\n",
       "   'https://www.cdc.gov/nceh/hearing_loss/default.html',\n",
       "   'https://www.todaysrdh.com/hearing-loss-dentistry-silent-topic/',\n",
       "   'https://entandaudiology.com/audiology/noise-induced-hearing-loss/',\n",
       "   'http://www.level.org.nz/health-and-safety/construction-noise/',\n",
       "   'https://www.hopkinsmedicine.org/health/conditions-and-diseases/hearing-loss/noise-induced-hearing-loss-in-children',\n",
       "   'https://www.beltone.com/en-us/blog/2015/march/formula-1-and-noise-induced-hearing-loss',\n",
       "   'https://www.comcare.gov.au/prevent-harm/hazards/physical_hazards/noise-induced_hearing_loss',\n",
       "   'https://www.aiha.org/public-resources/noise-hearing-loss',\n",
       "   'https://www.earq.com/hearing-health/articles/guide-to-noise-induced-hearing-loss',\n",
       "   'https://www.noisyplanet.nidcd.nih.gov/have-you-heard/wind-noise-can-contribute-to-noise-Induced-hearing-loss-in-cyclists',\n",
       "   'http://www.randombio.com/noise.html',\n",
       "   'https://aidyourhearing.com/decibel-loudness-chart/',\n",
       "   'https://www.quora.com/At-what-continuous-decibel-level-will-hearing-loss-occur',\n",
       "   'https://www.noisyplanet.nidcd.nih.gov/parents/what-is-noise-induced-hearing-loss',\n",
       "   'https://www.amboss.com/us/knowledge/Hearing_loss',\n",
       "   'https://www.ncbi.nlm.nih.gov/pmc/articles/PMC4918683/']),\n",
       " ('searchx sucks',\n",
       "  ['https://www.xvideos.com/?k=wife+sucks+cock+at+party',\n",
       "   'https://www.xnxx.com/search/sister+sucks+brother',\n",
       "   'https://www.xnxx.com/search/milf+sucks',\n",
       "   'https://answers.microsoft.com/en-us/msoffice/forum/msoffice_outlook/office-365-outlook-search-sucks/58cd65ac-5a52-47eb-a574-10dc1f1995e9',\n",
       "   'https://www.pornhub.com/video/search?search=crossdresser+sucks+cock',\n",
       "   'https://www.pornhub.com/gay/video/search?search=older+sucks+younger',\n",
       "   'https://www.reddit.com/r/spotify/comments/2apwpd/the_search_function_sucks_let_me_explain/',\n",
       "   'https://github.com/isaacs/github/issues/908',\n",
       "   'http://search.swagbucks.com/',\n",
       "   'https://www.howtogeek.com/howto/33414/how-to-make-the-mac-os-x-finder-suck-less/',\n",
       "   'https://www.huddle.com/blog/sharepoint-sucks/',\n",
       "   'https://en.luxuretv.com/search/videos/mom-sucks-dog-dick/',\n",
       "   'https://zoogay.net/gay-zoo-lick/36750576-Calf-Sucks-A-Mans-Cock.html',\n",
       "   'https://www.dictionary.com/browse/sucks',\n",
       "   'https://giphy.com/search/this-sucks',\n",
       "   'https://www.wired.com/2008/11/the-top-ten-reasons-itunes-sucks/',\n",
       "   'https://www.redtube.com/?search=she+sucks+swallows',\n",
       "   'https://www.eporner.com/search/sucks/',\n",
       "   'https://www.redtube.com/?search=this+girl+sucks',\n",
       "   'https://www.xvideos.com/?k=mom+sucks+and+swallows',\n",
       "   'https://thenextweb.com/opinion/2016/01/11/netflix-search-sucks-flixed-fixes-it/',\n",
       "   'https://www.vporn.com/',\n",
       "   'https://www.reddit.com/r/Windows10/comments/3rbaq3/windows_10_file_search_sucks/',\n",
       "   'https://www.cnet.com/news/youtube-sucks-4-sites-that-do-video-better/',\n",
       "   'https://techcrunch.com/2011/02/12/search-still-sucks/']),\n",
       " ('high volume hearing loss',\n",
       "  ['https://appuals.com/how-to-disable-high-volume-can-cause-hearing-loss-warning/',\n",
       "   'https://www.healthline.com/health-news/are-your-kids-headphones-permanently-damaging-their-hearing',\n",
       "   'https://www.audicus.com/hearing-loss/signs-and-types/',\n",
       "   'https://answers.microsoft.com/en-us/windows/forum/windows8_1-pictures/disable-high-volume-can-cause-hearing-loss/05ef4ae6-ec70-46fb-9764-14702d6e46c8',\n",
       "   'https://health.clevelandclinic.org/pumping-up-the-volume-on-hearing-loss-in-your-30s-and-40s/',\n",
       "   'https://audiorecovery.com/blog/do-headphones-increase-your-risk-hearing-loss/',\n",
       "   'https://www.hear.com/hearing-loss/high-frequency/',\n",
       "   'https://www.sharecare.com/health/hearing-damage/what-volume-causes-hearing-loss',\n",
       "   'https://answers.microsoft.com/en-us/windows/forum/windows_10-other_settings/how-to-disable-high-volume-warning-in-windows-10/bd81690b-f99b-46b0-8d7b-4476a35f4f57',\n",
       "   'https://advancedhearing.com/hearing-aids/hc64-digital-power-hearing-aid',\n",
       "   'https://medlineplus.gov/ency/patientinstructions/000495.htm',\n",
       "   'https://bloomhearing.com/hearing-tips/20-high-volume-jobs-with-a-risk-of-hearing-loss/',\n",
       "   'https://www.hearinglife.com/hearing-loss/your-hearing/causes-of-hearing-loss',\n",
       "   'https://www.cdc.gov/nceh/hearing_loss/what_noises_cause_hearing_loss.html',\n",
       "   'https://www.phonak.com/us/en/hearing-aids/hearing-aids-for-severe-to-profound-hearing-loss.html',\n",
       "   'https://blog.medel.com/the-best-smoke-detector-for-hearing-loss/',\n",
       "   'https://www.reddit.com/r/Windows10/comments/9jedjs/disable_high_volume_can_cause_hearing_loss_in/',\n",
       "   'https://www.doctorshealthpress.com/general-health-articles/natural-remedies-hearing-loss/',\n",
       "   'https://www.earq.com/hearing-health/articles/can-hearing-aids-cause-hearing-loss',\n",
       "   'https://hillcresthearing.com/hearing-loss/',\n",
       "   'https://www.mayoclinic.org/diseases-conditions/hearing-loss/expert-answers/high-frequency-hearing-loss/faq-20057811',\n",
       "   'https://www.smithgear.com/hearing-loss-phones-severe.html',\n",
       "   'https://www.ziphearing.com/blog/high-frequency-hearing-loss/',\n",
       "   'https://www.bloomberg.com/news/articles/2015-01-08/lady-gaga-at-high-volume-drives-hearing-loss-drug-search-health',\n",
       "   'https://www.miracle-ear.com/hearing-loss/types'])]"
      ]
     },
     "execution_count": 12,
     "metadata": {},
     "output_type": "execute_result"
    }
   ],
   "source": [
    "bing_URLs['Noise-induced hearing loss']"
   ]
  },
  {
   "cell_type": "code",
   "execution_count": 19,
   "metadata": {
    "ExecuteTime": {
     "end_time": "2020-02-12T09:33:28.024205Z",
     "start_time": "2020-02-12T09:33:28.020030Z"
    }
   },
   "outputs": [],
   "source": [
    "unreadable_pages = set()\n",
    "full_document_texts = dict()"
   ]
  },
  {
   "cell_type": "code",
   "execution_count": 16,
   "metadata": {
    "ExecuteTime": {
     "end_time": "2020-02-12T09:30:29.655977Z",
     "start_time": "2020-02-12T09:30:28.908246Z"
    }
   },
   "outputs": [
    {
     "name": "stdout",
     "output_type": "stream",
     "text": [
      "(4864, 9)\n"
     ]
    }
   ],
   "source": [
    "old_df = pd.read_csv(open(\"w2v_scores_clean_bing.csv\"))\n",
    "print(old_df.shape)\n",
    "old_urls = defaultdict(lambda:defaultdict(lambda:list()))\n",
    "for line in old_df.iterrows():\n",
    "    old_urls[line[1].topic][line[1].query].append(line[1].doc_url)"
   ]
  },
  {
   "cell_type": "code",
   "execution_count": 21,
   "metadata": {
    "ExecuteTime": {
     "end_time": "2020-02-12T09:34:06.285997Z",
     "start_time": "2020-02-12T09:34:06.239713Z"
    }
   },
   "outputs": [
    {
     "name": "stdout",
     "output_type": "stream",
     "text": [
      "not recomputing this\n"
     ]
    }
   ],
   "source": [
    "import justext\n",
    "def clean_page(html_content):\n",
    "    paragraphs = justext.justext(html_content, justext.get_stoplist(\"English\"))\n",
    "    text = \" \".join([x.text for x in paragraphs if not x.is_boilerplate])\n",
    "    if len(text) == 0:\n",
    "        text = \" \"\n",
    "    return text\n",
    "full_document_texts = dict()\n",
    "try:\n",
    "    \n",
    "    document_texts = pickle.load(open(\"document_texts.pkl\" , 'rb'))\n",
    "    queries_to_keep = pickle.load(open(\"queries_to_keep.pkl\", 'rb'))\n",
    "    assert len(document_texts) == 826\n",
    "    print(\"not recomputing this\")\n",
    "except ZeroDivisionError:    \n",
    "    MAX_RETRIES = 20\n",
    "    import requests\n",
    "    from requests.adapters import HTTPAdapter\n",
    "    import random\n",
    "    import urllib3\n",
    "    urllib3.disable_warnings()\n",
    "    queries_to_keep = pickle.load(open(\"queries_to_keep.pkl\", 'rb'))\n",
    "    pbar = tqdm(total=25*25, desc=\"fetching URL contents\")\n",
    "    for topic in bing_URLs['Noise-induced hearing loss']:\n",
    "#         for query in queries_to_keep[topic]:\n",
    "#             urls = dict(bing_URLs[topic])[query]\n",
    "        for query, urls in old_urls.items():\n",
    "            for url in urls:                \n",
    "                pbar.update()\n",
    "                if url in unreadable_pages:\n",
    "                    continue\n",
    "                if url in document_texts or url in unreadable_pages:\n",
    "                    continue\n",
    "                s = requests.Session()\n",
    "                #I'm a MAC!\n",
    "                s.headers.update({'User-Agent': 'Mozilla/5.0 (Macintosh; Intel Mac OS X 10_11_2) AppleWebKit/601.3.9 (KHTML, like Gecko) Version/9.0.2 Safari/601.3.9'})\n",
    "                adapter = HTTPAdapter(max_retries=1)\n",
    "                s.mount('https://', adapter)\n",
    "                s.mount('http://', adapter)\n",
    "                try:\n",
    "                    page_content = s.get(url, verify=False, timeout=10).text\n",
    "                except requests.ConnectionError as e:\n",
    "                    print(\"Could not fetch page {}\".format(url))\n",
    "                    unreadable_pages.add(url)\n",
    "                    continue\n",
    "                full_document_texts[url] = page_content\n",
    "                document_texts[url] = clean_page(page_content)\n",
    "    pickle.dump(queries_to_keep, open(\"queries_to_keep.pkl\", 'wb'))"
   ]
  },
  {
   "cell_type": "code",
   "execution_count": 31,
   "metadata": {
    "ExecuteTime": {
     "end_time": "2020-02-12T09:40:22.926233Z",
     "start_time": "2020-02-12T09:40:22.918503Z"
    },
    "collapsed": true
   },
   "outputs": [
    {
     "name": "stdout",
     "output_type": "stream",
     "text": [
      "Hearing loss in everyday life When you start to lose your hearing, the impact goes well beyond missing a few words in conversations and having to ask people to repeat what they say. That’s a major irritation, to be sure, but it’s really the tip of the hearing loss iceberg. There are actually many ways in which even slight levels of hearing loss can adversely affect our quality of life, but which can be alleviated by finding the right hearing aid. Let’s have a look at some situations where hearing loss can cause serious, and often unexpected, problems. The impact of hearing loss at a restaurant Restaurants are places with a lot of ambient noise (at least when they are busy, and all of the best places tend to attract a lot of patrons). Normally, this background chatter is what gives eateries a bit of character, and it’s no great problem. However, when you can’t hear properly, ambient noise can make it very difficult to converse with your fellow diners or hear the waiting staff. All-too-often, people with hearing loss will inquire about the house specials, only to nod their heads as if they understood everything, before returning to the printed menu to settle for something they might not want. And it’s a problem that may be getting worse. One UK-based charity, Action On Hearing Loss, reports that 81 percent of those surveyed had experienced difficulties sustaining conversations in places to eat. Most restaurants aren’t designed with acoustics in mind, which only makes the problem worse, although some have thought about the issue, adding things like cork wood ceilings to absorb sound waves – so help is at hand. Hearing loss in the work environment The same issues arise at work as in restaurants. For example, it can become progressively harder to follow discussions and presentations in meeting rooms when hearing loss develops. And if your work relies on communicating with clients, poor comprehension can often come across as rudeness. In some workplaces, hearing loss can be extremely hazardous. Take construction sites, for example, where verbal instructions can be the difference between life and death. Studies have backed this up, finding that in noisy work environments, employees with hearing loss are 3.6 times more likely to be hospitalized by an injury sustained at work. Other implications of undiagnosed hearing loss in the workplace can be less dangerous, but still very disheartening. Not only can your performance deteriorate relative to the past and co-workers, but dismissal becomes more likely too. Stress is another inevitable consequence of allowing hearing loss problems to go untreated in work settings, and this can lead to all kinds of secondary health issues. Hearing loss is an issue in almost every working environment in the USA. From kitchens to classrooms, when our hearing starts to fade, our jobs become harder, so take action if it happens to you, and sooner rather than later. Employers and co-workers will understand – but will only be confused if you continue to battle against your auditory problems. How hearing loss affects life in cities The problems associated with hearing loss extend well beyond the office. When you leave to catch the bus or subway home, you rely on your hearing in a multitude of ways. For instance, on the subway platform, when announcers cancel trains or let you know about delays, it’s hard enough to comprehend them over poor-quality PA systems without hearing loss. But when your ears can’t pick up different words, and focusing on speech becomes hard, staying informed about transportation becomes a nightmare. In unfamiliar cities, you’ll start to miss announcements about stops, or you’ll miss information given by station attendants. In the process, you’ll quickly come to understand how important speech is to getting around modern cities, even with all the apps in the world to guide us. Then there are our fellow commuters. When we travel to and from work, we have to ask people to move aside, apologize, smile, say hello – all of the little things that make massive movements of people run smoothly. If you can’t hear well, it becomes more confusing and stressful to deal with strangers, particularly on packed buses or trains. And finally there’s the street. When you can’t hear properly, it can be difficult to pick up the noise of approaching traffic, and pushbikes are really hard to detect, raising the risk of accidents. Ways that hearing loss can affect our free time Even the way we relax can be adversely affected by hearing loss, causing depression and frustration if the issues aren’t dealt with. If you hunt, you’ll appreciate the value of keen hearing when detecting prey and remaining undetected. Musicians obviously know how sensitive ears help their ability to determine pitch. And in sports, communication between players is vital. Imagine being in the offensive line and having no idea what your Quarterback is saying. But hearing loss problems apply everywhere. In the cinema, it can seem like you’re sliding gradually back into the Silent Age. Socializing with friends in-person or by phone can become more difficult, and TV viewing can become infuriating as shows that were once absorbing now become a mess of noises that won’t come together. Have your hearing checked out to prevent hearing loss frustration As you can see, hearing loss can have huge negative impacts on everyday life. From meal times to the office, from construction sites to cinemas, when your hearing starts to fade, everything becomes slightly harder, less enjoyable, and more confusing. But you can stop this process by seeking the right assistance. So, if you detect the signs of encroaching hearing loss, arrange a consultation with an expert, who can recommend the right treatment and hearing aid before the problems become severe. If you experience hearing loss andwant to try hearing aids, sign up now!\n",
      "Noise-Induced Hearing Loss Every day, we experience sound in our environment, such as the sounds from television and radio, household appliances, and traffic. Normally, these sounds are at safe levels that don’t damage our hearing. But sounds can be harmful when they are too loud, even for a brief time, or when they are both loud and long-lasting. These sounds can damage sensitive structures in the inner ear and cause noise-induced hearing loss (NIHL). NIHL can be immediate or it can take a long time to be noticeable. It can be temporary or permanent, and it can affect one ear or both ears. Even if you can’t tell that you are damaging your hearing, you could have trouble hearing in the future, such as not being able to understand other people when they talk, especially on the phone or in a noisy room. Regardless of how it might affect you, one thing is certain: noise-induced hearing loss is something you can prevent. Who is affected by NIHL? Exposure to harmful noise can happen at any age. People of all ages, including children, teens, young adults, and older people, can develop NIHL. Based on a 2011-2012 CDC study involving hearing tests and interviews with participants, at least 10 million adults (6 percent) in the U.S. under age 70—and perhaps as many as 40 million adults (24 percent)—have features of their hearing test that suggest hearing loss in one or both ears from exposure to loud noise. Researchers have also estimated that as many as 17 percent of teens (ages 12 to 19) have features of their hearing test suggestive of NIHL in one or both ears (Pediatrics 2011), based on data from 2005-2006. NIHL can be caused by a one-time exposure to an intense “impulse” sound, such as an explosion, or by continuous exposure to loud sounds over an extended period of time, such as noise generated in a woodworking shop. Recreational activities that can put you at risk for NIHL include target shooting and hunting, snowmobile riding, listening to MP3 players at high volume through earbuds or headphones, playing in a band, and attending loud concerts. Harmful noises at home may come from sources including lawnmowers, leaf blowers, and woodworking tools. Sound is measured in units called decibels. Sounds of less than 75 decibels, even after long exposure, are unlikely to cause hearing loss. However, long or repeated exposure to sounds at or above 85 decibels can cause hearing loss. The louder the sound, the shorter the amount of time it takes for NIHL to happen. Here are the average decibel ratings of some familiar sounds: The humming of a refrigerator\n",
      "45 decibels Normal conversation\n",
      "60 decibels Noise from heavy city traffic\n",
      "85 decibels Motorcyles\n",
      "95 decibels An MP3 player at maximum volume\n",
      "105 decibels Sirens\n",
      "120 decibels Firecrackers and firearms\n",
      "150 decibels Your distance from the source of the sound and the length of time you are exposed to the sound are also important factors in protecting your hearing. A good rule of thumb is to avoid noises that are too loud, too close, or last too long. To understand how loud noises can damage our hearing, we have to understand how we hear. Hearing depends on a series of events that change sound waves in the air into electrical signals. Our auditory nerve then carries these signals to the brain through a complex series of steps. Sound waves enter the outer ear and travel through a narrow passageway called the ear canal, which leads to the eardrum. The eardrum vibrates from the incoming sound waves and sends these vibrations to three tiny bones in the middle ear. These bones are called the malleus, incus, and stapes. The bones in the middle ear couple the sound vibrations from the air to fluid vibrations in the cochlea of the inner ear, which is shaped like a snail and filled with fluid. An elastic partition runs from the beginning to the end of the cochlea, splitting it into an upper and lower part. This partition is called the basilar membrane because it serves as the base, or ground floor, on which key hearing structures sit. Once the vibrations cause the fluid inside the cochlea to ripple, a traveling wave forms along the basilar membrane. Hair cells—sensory cells sitting on top of the basilar membrane—ride the wave. As the hair cells move up and down, microscopic hair-like projections (known as stereocilia) that perch on top of the hair cells bump against an overlying structure and bend. Bending causes pore-like channels, which are at the tips of the stereocilia, to open up. When that happens, chemicals rush into the cell, creating an electrical signal. The auditory nerve carries this electrical signal to the brain, which translates it into a sound that we recognize and understand. Most NIHL is caused by the damage and eventual death of these hair cells. Unlike bird and amphibian hair cells, human hair cells don’t grow back. They are gone for good. When you are exposed to loud noise over a long period of time, you may slowly start to lose your hearing. Because the damage from noise exposure is usually gradual, you might not notice it, or you might ignore the signs of hearing loss until they become more pronounced. Over time, sounds may become distorted or muffled, and you might find it difficult to understand other people when they talk or have to turn up the volume on the television. The damage from NIHL, combined with aging, can lead to hearing loss severe enough that you need hearing aids to magnify the sounds around you to help you hear, communicate, and participate more fully in daily activities. NIHL can also be caused by extremely loud bursts of sound, such as gunshots or explosions, which can rupture the eardrum or damage the bones in the middle ear. This kind of NIHL can be immediate and permanent. Loud noise exposure can also cause tinnitus—a ringing, buzzing, or roaring in the ears or head. Tinnitus may subside over time, but can sometimes continue constantly or occasionally throughout a person’s life. Hearing loss and tinnitus can occur in one or both ears. Sometimes exposure to impulse or continuous loud noise causes a temporary hearing loss that disappears 16 to 48 hours later. Recent research suggests, however, that although the loss of hearing seems to disappear, there may be residual long-term damage to your hearing. The National Institute on Deafness and Other Communication Disorders (NIDCD) supports research on the causes, diagnosis, treatment, and prevention of hearing loss. NIDCD-supported researchers have helped to identify some of the many genes important for hair-cell development and function and are using this knowledge to explore new treatments for hearing loss. Researchers are also looking at the protective properties of supporting cells in the inner ear, which appear to be capable of lessening the damage to sensory hair cells upon exposure to noise. The NIDCD sponsorsIt’s a Noisy Planet. Protect Their Hearing®, a national public education campaign to increase awareness among parents of preteens about the causes and prevention of NIHL. Armed with this information, parents, teachers, school nurses, and other adults can encourage children to adopt healthy hearing habits.\n",
      "How to Disable ‘High Volume Can Cause Hearing Loss’ Warning After a European Union ruling, laptops sold in Europe are now required to include a high volume warning, telling the user that listening to music and videos through earphones at high volume can cause hearing loss. Realtek users have reported a common problem, whereby a high volume warning appears as soon as the volume is turned up past 42 – and the warning continues appearing sporadically there afterwards. Since the issue is triggered by a ruling, it is highly likely that other laptop and system manufacturer’s will also have the same issue popping up. After pressing ‘Allow’, users repeatedly see the following message: High volume can cause hearing loss. Your ears are important. Turning up the volume past this point can cause permanent hearing damage. Repair Corrupt System Files Download and run Reimage Plus to scan for corrupt files from here, if files are found to be corrupt and missing repair them and then check if it fixes the issue, if not then proceed with Solutions listed below. Choose “Search Automatically” option and proceed with the prompts on screen. Method 2: Roll Back Drivers The first step is trying to roll back your audio drivers. To do this, open Device Manager by holding down the Windows and X keys on your keyboard, and choosing Device Manager from the list of options that you’re presented with. In the window that opens, click Sound, Video and Game Controllers which will present you with hardware that controls these elements of your computer. Look for High Definition Audio Device and right click on that option, where you need to click Properties. In here, you need to click the Driver tab and look for Roll Back Driver. If an older driver is available, the process will begin. If you cannot find High Definition Audio Device, search for Intel SST Audio Device, or any other device that is tagged Audio. If no older driver is available to roll back to, try the next method. Method 3: Permanently Remove Realtek Audio Drivers If you can’t roll back the driver, the only known method that works is to completely remove all Realtek audio drivers. Hold the Windows Key and Press R. Choose taskmgr and Click OK. Under the Processes tab, look for anything that refers to Realtek, right click and click End Task. Then, go to Device Manager, select Sound, Video and Game Controllers, and look for an entry for Realtek High Definition Audio. Right click and choose Uninstall. Now, open Windows Explorer, go to the C drive and Program Files, and look for the Realtek folder. Right click the folder and choose Properties. Choose the Security tab, and under Group or user names, select SYSTEM and then click Edit. You’ll enter a new window which will allow you to edit the Permission for SYSTEM.Deny all permissions, then press Apply and OK. Reboot your computer, and go back to Device Manager. The speaker drivers should be missing, which means there should be a yellow warning sign next to the speaker entry. Right click, choose Properties and then press Update Drivers. Choose the Let me pick option, and instead of choosing the Realtek drivers, opt for the standard Windows High Definition Audio Drivers. Select and install, and the drivers will operate your speakers and bypass the warning popup that occurs as a result of the Realtek drivers. Expert Tip How to Disable ‘High Volume Can Cause Hearing Loss’ Warning If the issue is with your Computer or a Laptop you should try using Reimage Plus which can scan the repositories and replace corrupt and missing files. This works in most cases, where the issue is originated due to a system corruption. You can download Reimage by clicking the Download button below.\n",
      "Noise-Induced Hearing Loss Every day, we experience sound in our environment, such as the sounds from television and radio, household appliances, and traffic. Normally, these sounds are at safe levels that don’t damage our hearing. But sounds can be harmful when they are too loud, even for a brief time, or when they are both loud and long-lasting. These sounds can damage sensitive structures in the inner ear and cause noise-induced hearing loss (NIHL). NIHL can be immediate or it can take a long time to be noticeable. It can be temporary or permanent, and it can affect one ear or both ears. Even if you can’t tell that you are damaging your hearing, you could have trouble hearing in the future, such as not being able to understand other people when they talk, especially on the phone or in a noisy room. Regardless of how it might affect you, one thing is certain: noise-induced hearing loss is something you can prevent. Who is affected by NIHL? Exposure to harmful noise can happen at any age. People of all ages, including children, teens, young adults, and older people, can develop NIHL. Based on a 2011-2012 CDC study involving hearing tests and interviews with participants, at least 10 million adults (6 percent) in the U.S. under age 70—and perhaps as many as 40 million adults (24 percent)—have features of their hearing test that suggest hearing loss in one or both ears from exposure to loud noise. Researchers have also estimated that as many as 17 percent of teens (ages 12 to 19) have features of their hearing test suggestive of NIHL in one or both ears (Pediatrics 2011), based on data from 2005-2006. NIHL can be caused by a one-time exposure to an intense “impulse” sound, such as an explosion, or by continuous exposure to loud sounds over an extended period of time, such as noise generated in a woodworking shop. Recreational activities that can put you at risk for NIHL include target shooting and hunting, snowmobile riding, listening to MP3 players at high volume through earbuds or headphones, playing in a band, and attending loud concerts. Harmful noises at home may come from sources including lawnmowers, leaf blowers, and woodworking tools. Sound is measured in units called decibels. Sounds of less than 75 decibels, even after long exposure, are unlikely to cause hearing loss. However, long or repeated exposure to sounds at or above 85 decibels can cause hearing loss. The louder the sound, the shorter the amount of time it takes for NIHL to happen. Here are the average decibel ratings of some familiar sounds: The humming of a refrigerator\n",
      "45 decibels Normal conversation\n",
      "60 decibels Noise from heavy city traffic\n",
      "85 decibels Motorcyles\n",
      "95 decibels An MP3 player at maximum volume\n",
      "105 decibels Sirens\n",
      "120 decibels Firecrackers and firearms\n",
      "150 decibels Your distance from the source of the sound and the length of time you are exposed to the sound are also important factors in protecting your hearing. A good rule of thumb is to avoid noises that are too loud, too close, or last too long. To understand how loud noises can damage our hearing, we have to understand how we hear. Hearing depends on a series of events that change sound waves in the air into electrical signals. Our auditory nerve then carries these signals to the brain through a complex series of steps. Sound waves enter the outer ear and travel through a narrow passageway called the ear canal, which leads to the eardrum. The eardrum vibrates from the incoming sound waves and sends these vibrations to three tiny bones in the middle ear. These bones are called the malleus, incus, and stapes. The bones in the middle ear couple the sound vibrations from the air to fluid vibrations in the cochlea of the inner ear, which is shaped like a snail and filled with fluid. An elastic partition runs from the beginning to the end of the cochlea, splitting it into an upper and lower part. This partition is called the basilar membrane because it serves as the base, or ground floor, on which key hearing structures sit. Once the vibrations cause the fluid inside the cochlea to ripple, a traveling wave forms along the basilar membrane. Hair cells—sensory cells sitting on top of the basilar membrane—ride the wave. As the hair cells move up and down, microscopic hair-like projections (known as stereocilia) that perch on top of the hair cells bump against an overlying structure and bend. Bending causes pore-like channels, which are at the tips of the stereocilia, to open up. When that happens, chemicals rush into the cell, creating an electrical signal. The auditory nerve carries this electrical signal to the brain, which translates it into a sound that we recognize and understand. Most NIHL is caused by the damage and eventual death of these hair cells. Unlike bird and amphibian hair cells, human hair cells don’t grow back. They are gone for good. When you are exposed to loud noise over a long period of time, you may slowly start to lose your hearing. Because the damage from noise exposure is usually gradual, you might not notice it, or you might ignore the signs of hearing loss until they become more pronounced. Over time, sounds may become distorted or muffled, and you might find it difficult to understand other people when they talk or have to turn up the volume on the television. The damage from NIHL, combined with aging, can lead to hearing loss severe enough that you need hearing aids to magnify the sounds around you to help you hear, communicate, and participate more fully in daily activities. NIHL can also be caused by extremely loud bursts of sound, such as gunshots or explosions, which can rupture the eardrum or damage the bones in the middle ear. This kind of NIHL can be immediate and permanent. Loud noise exposure can also cause tinnitus—a ringing, buzzing, or roaring in the ears or head. Tinnitus may subside over time, but can sometimes continue constantly or occasionally throughout a person’s life. Hearing loss and tinnitus can occur in one or both ears. Sometimes exposure to impulse or continuous loud noise causes a temporary hearing loss that disappears 16 to 48 hours later. Recent research suggests, however, that although the loss of hearing seems to disappear, there may be residual long-term damage to your hearing. The National Institute on Deafness and Other Communication Disorders (NIDCD) supports research on the causes, diagnosis, treatment, and prevention of hearing loss. NIDCD-supported researchers have helped to identify some of the many genes important for hair-cell development and function and are using this knowledge to explore new treatments for hearing loss. Researchers are also looking at the protective properties of supporting cells in the inner ear, which appear to be capable of lessening the damage to sensory hair cells upon exposure to noise. The NIDCD sponsorsIt’s a Noisy Planet. Protect Their Hearing®, a national public education campaign to increase awareness among parents of preteens about the causes and prevention of NIHL. Armed with this information, parents, teachers, school nurses, and other adults can encourage children to adopt healthy hearing habits.\n",
      " \n"
     ]
    }
   ],
   "source": [
    "topic = 'Noise-induced hearing loss'\n",
    "for query in queries_to_keep[topic]:\n",
    "    urls = dict(bing_URLs[topic])[query]\n",
    "    for url in urls:\n",
    "        print(document_texts[url])\n",
    "        break"
   ]
  },
  {
   "cell_type": "code",
   "execution_count": null,
   "metadata": {
    "ExecuteTime": {
     "end_time": "2020-02-12T10:02:05.891489Z",
     "start_time": "2020-02-12T10:02:05.884653Z"
    }
   },
   "outputs": [],
   "source": []
  },
  {
   "cell_type": "code",
   "execution_count": 53,
   "metadata": {
    "ExecuteTime": {
     "end_time": "2020-02-12T10:04:02.458589Z",
     "start_time": "2020-02-12T10:04:02.452189Z"
    }
   },
   "outputs": [
    {
     "data": {
      "text/plain": [
       "{'34eafb8ac3b7254ec389939764430e6de6800db5',\n",
       " '7ec4e469394f34ac13b17d18807da7ab8535d22a',\n",
       " 'b7e68bd45e9524b5367fb74ec2db4a0df290a856',\n",
       " 'e1211a37a5e85ab8aee583416dd8940fcad05c44'}"
      ]
     },
     "execution_count": 53,
     "metadata": {},
     "output_type": "execute_result"
    }
   ],
   "source": []
  },
  {
   "cell_type": "code",
   "execution_count": 38,
   "metadata": {
    "ExecuteTime": {
     "end_time": "2020-02-12T09:53:50.242558Z",
     "start_time": "2020-02-12T09:53:50.233732Z"
    }
   },
   "outputs": [
    {
     "data": {
      "text/plain": [
       "<WordListCorpusReader in '/home/arthur/nltk_data/corpora/stopwords'>"
      ]
     },
     "execution_count": 38,
     "metadata": {},
     "output_type": "execute_result"
    }
   ],
   "source": [
    "stopwords"
   ]
  },
  {
   "cell_type": "code",
   "execution_count": 54,
   "metadata": {
    "ExecuteTime": {
     "end_time": "2020-02-12T10:04:06.225169Z",
     "start_time": "2020-02-12T10:04:06.216448Z"
    }
   },
   "outputs": [
    {
     "data": {
      "text/plain": [
       "'Hearing loss is typically quantified by results from an audiogram; however, the degree of loss of hearing does not predict the impact on one’s quality of life. The impact that NIHL can have on daily life and psychosocial function can be assessed and quantified using a validated questionnaire tool, such as the Hearing Handicap Inventory for the Elderly (HHIE). The HHIE is considered a “useful tool for quantifying the perceived emotional and social/situational consequences of hearing loss.” The original tool was designed to test adults 65 years of age and older; however, modified versions exist. For adults the Hearing Handicap Inventory for Adults (HHIA) can be used and for adolescents the modified 28-item Hearing Environments And Reflection on Quality of Life (HEAR-QL-28) can be used. The HHIA, for example, is a 25-item questionnaire that asks both social and emotional-specific questions such as: Does a hearing problem cause you to avoid groups of people?” (social) and “Does a hearing problem cause you to feel frustrated when talking to members of your family?” (emotional). Response options are yes, no and sometimes.'"
      ]
     },
     "execution_count": 54,
     "metadata": {},
     "output_type": "execute_result"
    }
   ],
   "source": [
    "# data_home = \"/ssd2/arthur/TRECCAR/data\"\n",
    "# corpus_path = os.path.join(data_home, \"docs/docs.tsv\") #TREC-formatted\n",
    "# docs_offset_dict = generate_docs_offset(corpus_path)\n",
    "\n",
    "get_content('34eafb8ac3b7254ec389939764430e6de6800db5', corpus_path, docs_offset_dict)"
   ]
  },
  {
   "cell_type": "code",
   "execution_count": 145,
   "metadata": {
    "ExecuteTime": {
     "end_time": "2020-02-12T12:49:46.863686Z",
     "start_time": "2020-02-12T12:49:46.842875Z"
    }
   },
   "outputs": [],
   "source": [
    "stop_words = set(stopwords.words('english')) \n",
    "tokenizer = RegexpTokenizer(r'\\w+')\n",
    "documents_paragraphs = pickle.load(open(\"documents_paragraphs.pkl\", \"rb\"))\n",
    "def tokenize_web_docs(url):\n",
    "    if url in documents_paragraphs.keys():\n",
    "        web_doc = ' '.join(documents_paragraphs[url][1])\n",
    "\n",
    "        return set([w.lower() for w in tokenizer.tokenize(web_doc) if not w in stop_words])\n"
   ]
  },
  {
   "cell_type": "code",
   "execution_count": 152,
   "metadata": {
    "ExecuteTime": {
     "end_time": "2020-02-12T12:51:20.796045Z",
     "start_time": "2020-02-12T12:51:20.787556Z"
    },
    "scrolled": true
   },
   "outputs": [],
   "source": [
    "def overlap(subtopic, url):\n",
    "    \n",
    "    para = ''\n",
    "    for doc in relevant_docs_per_subtopic[subtopic]:\n",
    "            para += get_content(doc, corpus_path, docs_offset_dict)\n",
    "    web_doc_tokens = set([w.lower() for w in tokenizer.tokenize(para) if not w in stop_words])\n",
    "    rel_doc_tokens = tokenize_web_docs(url)\n",
    "    if rel_doc_tokens:\n",
    "        return len(rel_doc_tokens.intersection(web_doc_tokens))/len(rel_doc_tokens)\n",
    "\n",
    "# c = Counter([w.lower() for w in word_tokens if not w in stop_words] )\n",
    "# c.most_common()\n",
    "# set()"
   ]
  },
  {
   "cell_type": "code",
   "execution_count": 155,
   "metadata": {
    "ExecuteTime": {
     "end_time": "2020-02-12T12:51:47.253318Z",
     "start_time": "2020-02-12T12:51:47.016762Z"
    }
   },
   "outputs": [],
   "source": [
    "rel_judgments = pd.read_csv('/ssd/nirmalr/scores_with_judgments.csv')\n",
    "sample_df = rel_judgments.loc[(rel_judgments['topic']=='Irritable bowel syndrome') & (rel_judgments['relevant?'] == '1' )]\n",
    "overlap_arr = []\n",
    "for index, row in sample_df.iterrows():\n",
    "    subtopic = row['subtopic']\n",
    "    url = row['doc_url']\n",
    "    if ( url.strip() != ''):\n",
    "        overlap_arr.append(overlap(subtopic, url))\n",
    "    "
   ]
  },
  {
   "cell_type": "code",
   "execution_count": 156,
   "metadata": {
    "ExecuteTime": {
     "end_time": "2020-02-12T12:51:48.635240Z",
     "start_time": "2020-02-12T12:51:48.629851Z"
    }
   },
   "outputs": [],
   "source": [
    "def term_overlap_eval(subtopic, url, threshold):\n",
    "    overlap_perc = overlap(subtopic, url)\n",
    "    if (overlap_perc < threshold):\n",
    "        return 0\n",
    "    else:\n",
    "        return 1\n",
    "    "
   ]
  },
  {
   "cell_type": "code",
   "execution_count": null,
   "metadata": {
    "ExecuteTime": {
     "end_time": "2020-02-12T12:51:49.865044Z",
     "start_time": "2020-02-12T12:51:49.857018Z"
    }
   },
   "outputs": [],
   "source": []
  },
  {
   "cell_type": "code",
   "execution_count": 158,
   "metadata": {
    "ExecuteTime": {
     "end_time": "2020-02-12T12:53:01.066339Z",
     "start_time": "2020-02-12T12:53:01.060942Z"
    }
   },
   "outputs": [],
   "source": [
    "def term_count_eval(url, threshold):\n",
    "    len_web_doc = tokenize_web_docs(url)\n",
    "    if len_web_doc < threshold :\n",
    "        return 0\n",
    "    else: \n",
    "        return 1"
   ]
  }
 ],
 "metadata": {
  "kernelspec": {
   "display_name": "Python 3",
   "language": "python",
   "name": "python3"
  },
  "language_info": {
   "codemirror_mode": {
    "name": "ipython",
    "version": 3
   },
   "file_extension": ".py",
   "mimetype": "text/x-python",
   "name": "python",
   "nbconvert_exporter": "python",
   "pygments_lexer": "ipython3",
   "version": "3.7.3"
  }
 },
 "nbformat": 4,
 "nbformat_minor": 2
}
