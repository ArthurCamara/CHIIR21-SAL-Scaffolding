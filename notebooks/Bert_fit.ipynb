{
 "cells": [
  {
   "cell_type": "code",
   "execution_count": 9,
   "metadata": {
    "ExecuteTime": {
     "end_time": "2019-12-02T09:38:06.084495Z",
     "start_time": "2019-12-02T09:38:05.988002Z"
    }
   },
   "outputs": [],
   "source": [
    "%reload_ext autoreload\n",
    "%autoreload 2\n",
    "import warnings\n",
    "warnings.filterwarnings(\"ignore\")\n",
    "import sys\n",
    "sys.path.append('/ssd2/arthur/searchx-scaffolding/src/')\n",
    "from bert_dataset import BERTDataset\n",
    "import wandb\n",
    "import os\n",
    "os.environ['WANDB_MODE'] = 'dryrun'\n",
    "from tqdm.auto import tqdm\n",
    "import random\n",
    "from bert import fit_bert\n",
    "data_home = \"/ssd2/arthur/TRECCAR/data\""
   ]
  },
  {
   "cell_type": "code",
   "execution_count": 2,
   "metadata": {
    "ExecuteTime": {
     "end_time": "2019-12-02T09:37:09.875396Z",
     "start_time": "2019-12-02T09:37:08.680184Z"
    }
   },
   "outputs": [
    {
     "data": {
      "text/html": [
       "\n",
       "            Using <a href=\"https://wandb.com\" target=\"_blank\">Weights & Biases</a> in dryrun mode. Not logging results to the cloud.<br/>\n",
       "            Call wandb.login() to authenticate this machine.<br/>\n",
       "        "
      ],
      "text/plain": [
       "<IPython.core.display.HTML object>"
      ]
     },
     "metadata": {},
     "output_type": "display_data"
    }
   ],
   "source": [
    "os.environ['WANDB_NOTEBOOK_NAME'] = 'bertfit_treccar'\n",
    "wandb.init(project=\"treccar_fit\")\n",
    "config = wandb.config"
   ]
  },
  {
   "cell_type": "code",
   "execution_count": 3,
   "metadata": {
    "ExecuteTime": {
     "end_time": "2019-12-02T09:37:09.925544Z",
     "start_time": "2019-12-02T09:37:09.917790Z"
    }
   },
   "outputs": [],
   "source": [
    "tsv_file = \"/ssd2/arthur/TRECCAR/data/samples/triples_tokenized.bert\"\n",
    "train_path = \"/\".join(tsv_file.split(\"/\")[:-1]+[\"train-\"+tsv_file.split(\"/\")[-1]])\n",
    "test_path = \"/\".join(tsv_file.split(\"/\")[:-1]+[\"test-\"+tsv_file.split(\"/\")[-1]])"
   ]
  },
  {
   "cell_type": "code",
   "execution_count": 35,
   "metadata": {
    "ExecuteTime": {
     "end_time": "2019-12-02T11:27:47.882117Z",
     "start_time": "2019-12-02T11:27:47.334141Z"
    }
   },
   "outputs": [
    {
     "data": {
      "application/vnd.jupyter.widget-view+json": {
       "model_id": "1405c8fec9734085a58be6ea7f557a34",
       "version_major": 2,
       "version_minor": 0
      },
      "text/plain": [
       "HBox(children=(IntProgress(value=1, bar_style='info', max=1), HTML(value='')))"
      ]
     },
     "metadata": {},
     "output_type": "display_data"
    },
    {
     "name": "stdout",
     "output_type": "stream",
     "text": [
      "\n"
     ]
    }
   ],
   "source": [
    "#Split train-test\\\n",
    "random.seed(config.seed)\n",
    "all_docs = []\n",
    "tsv_file = \"/ssd2/arthur/TRECCAR/data/samples/triples_tokenized.bert\"\n",
    "for l in tqdm(open(tsv_file)):\n",
    "    all_docs.append(l)\n",
    "test_size = int(config.split_percentage * len(all_docs))\n",
    "random.shuffle(all_docs)\n",
    "test_set = all_docs[:test_size]\n",
    "train_set = all_docs[test_size:]\n",
    "assert (len(test_set) + len(train_set)) == len(all_docs)\n",
    "train_path = \"/\".join(tsv_file.split(\"/\")[:-1]+[\"train-\"+tsv_file.split(\"/\")[-1]])\n",
    "test_path = \"/\".join(tsv_file.split(\"/\")[:-1]+[\"test-\"+tsv_file.split(\"/\")[-1]])\n",
    "os.remove(train_path+\".offset\")\n",
    "os.remove(train_path+\".index\")\n",
    "os.remove(test_path+\".offset\")\n",
    "os.remove(test_path+\".index\")\n",
    "with open(train_path, 'w') as outf:\n",
    "    for l in train_set:\n",
    "        outf.write(l)\n",
    "with open(test_path, 'w') as outf:\n",
    "    for l in test_set:\n",
    "        outf.write(l)"
   ]
  },
  {
   "cell_type": "code",
   "execution_count": 36,
   "metadata": {
    "ExecuteTime": {
     "end_time": "2019-12-02T11:27:51.882567Z",
     "start_time": "2019-12-02T11:27:50.453525Z"
    }
   },
   "outputs": [
    {
     "data": {
      "application/vnd.jupyter.widget-view+json": {
       "model_id": "a4ac03e05d414f52b3c1ba199c46e2fb",
       "version_major": 2,
       "version_minor": 0
      },
      "text/plain": [
       "HBox(children=(IntProgress(value=1, bar_style='info', description='Counting lines on file...', max=1, style=Pr…"
      ]
     },
     "metadata": {},
     "output_type": "display_data"
    },
    {
     "name": "stdout",
     "output_type": "stream",
     "text": [
      "\n"
     ]
    },
    {
     "data": {
      "application/vnd.jupyter.widget-view+json": {
       "model_id": "507dd6b7a774436faa3f79d3f399d64b",
       "version_major": 2,
       "version_minor": 0
      },
      "text/plain": [
       "HBox(children=(IntProgress(value=0, description='Computing offset dictionary', max=35082, style=ProgressStyle(…"
      ]
     },
     "metadata": {},
     "output_type": "display_data"
    },
    {
     "name": "stdout",
     "output_type": "stream",
     "text": [
      "\n"
     ]
    }
   ],
   "source": [
    "try:\n",
    "    os.remove(train_path+\".offset\")\n",
    "    os.remove(train_path+\".index\")\n",
    "    os.remove(test_path+\".offset\")\n",
    "    os.remove(test_path+\".index\")\n",
    "except:\n",
    "    pass\n",
    "train_data = BERTDataset(train_path, data_home, invert_label=True)"
   ]
  },
  {
   "cell_type": "code",
   "execution_count": 25,
   "metadata": {
    "ExecuteTime": {
     "end_time": "2019-12-02T10:33:58.894242Z",
     "start_time": "2019-12-02T10:33:58.830538Z"
    }
   },
   "outputs": [
    {
     "data": {
      "text/plain": [
       "6379"
      ]
     },
     "execution_count": 25,
     "metadata": {},
     "output_type": "execute_result"
    }
   ],
   "source": [
    "len(train_data)"
   ]
  },
  {
   "cell_type": "code",
   "execution_count": 34,
   "metadata": {
    "ExecuteTime": {
     "end_time": "2019-12-02T10:37:47.763429Z",
     "start_time": "2019-12-02T10:37:45.561894Z"
    }
   },
   "outputs": [],
   "source": [
    "for counter in range(len(train_data)):\n",
    "    data = train_data[counter]"
   ]
  },
  {
   "cell_type": "code",
   "execution_count": 33,
   "metadata": {
    "ExecuteTime": {
     "end_time": "2019-12-02T10:36:47.942699Z",
     "start_time": "2019-12-02T10:36:47.901850Z"
    }
   },
   "outputs": [
    {
     "data": {
      "text/plain": [
       "'enwiki:Natural%20resource%20management/Other%20elements-5bd313d5a2ca298423655b28937d0e7252a9bd95'"
      ]
     },
     "execution_count": 33,
     "metadata": {},
     "output_type": "execute_result"
    }
   ],
   "source": [
    "train_data.index_dict[0]"
   ]
  }
 ],
 "metadata": {
  "kernelspec": {
   "display_name": "Python 3",
   "language": "python",
   "name": "python3"
  },
  "language_info": {
   "codemirror_mode": {
    "name": "ipython",
    "version": 3
   },
   "file_extension": ".py",
   "mimetype": "text/x-python",
   "name": "python",
   "nbconvert_exporter": "python",
   "pygments_lexer": "ipython3",
   "version": "3.7.3"
  }
 },
 "nbformat": 4,
 "nbformat_minor": 2
}
