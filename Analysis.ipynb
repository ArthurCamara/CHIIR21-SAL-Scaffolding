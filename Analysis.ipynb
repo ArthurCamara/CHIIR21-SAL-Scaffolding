{
 "cells": [
  {
   "cell_type": "code",
   "execution_count": 1,
   "id": "partial-firmware",
   "metadata": {
    "ExecuteTime": {
     "end_time": "2021-03-09T14:22:07.413950Z",
     "start_time": "2021-03-09T14:22:06.819093Z"
    }
   },
   "outputs": [],
   "source": [
    "import json\n",
    "import base64\n",
    "import numpy as np\n",
    "import pandas as pd\n",
    "import gzip\n",
    "from tqdm.auto import tqdm\n",
    "from datetime import datetime\n",
    "from collections import OrderedDict"
   ]
  },
  {
   "cell_type": "code",
   "execution_count": 2,
   "id": "pharmaceutical-graham",
   "metadata": {
    "ExecuteTime": {
     "end_time": "2021-03-09T14:22:08.291856Z",
     "start_time": "2021-03-09T14:22:08.287079Z"
    }
   },
   "outputs": [],
   "source": [
    "def p_date(x: str) -> datetime:\n",
    "    \"\"\"Short hand for datetime.fromisoformat(x)\"\"\"\n",
    "    if isinstance(x, datetime):\n",
    "        return  x\n",
    "    return datetime.fromisoformat(x)"
   ]
  },
  {
   "cell_type": "markdown",
   "id": "seven-newspaper",
   "metadata": {},
   "source": [
    "## Events log format\n",
    "Each log object is a dictionary with multiple fields. The ones that are really important and used in this analysis are the following. Anything not docummented is not used for analyisis, and is probably an artifact of how SearchX treats the data, and can be safely ignored. (Feel free to explore, tough)\n",
    "- `event`: Type of the event recorded. Related to clicks and hovers on parts and widgets of the SERP.\n",
    "- `userId`: UniqueID of a user. On the user first interaction, this can be different to the final, due to the behaviour of Prolific user IDs.\n",
    "- `sessionId`: User session ID. basically unused.\n",
    "- `task`: JSON with the details of the user task, under `data` (Topics picked for the pre-test, topic picked with description and others):\n",
    "    - `topics`: List with topics picked for the pre-test. `terms` are the terms used for the VKS test.\n",
    "    - `scores`: VKS score on the pre-test for each topic\n",
    "    - `topic`: Topic picked for the user\n",
    "    - `subtopic` : List of subtopics for the user topic.\n",
    "        - `terms`: Nested hierarchical outline for the topic (base64-formatted)\n",
    "- `meta`: Data specific to the event type:\n",
    "    - `url`: URL related to the event\n",
    "    - `query`: User last issued query\n",
    "    - `serpID`: Unique ID for this SERP\n",
    "    - `session`: Type of experiment the user is currently on (control, qe(AQE_sc), visual(CURATED_sc) or progress(FEEDBACK_sc) )\n",
    "    - `position`: Integer with the position of url (i.e. rank position)\n",
    "- `date`: event timestamp\n",
    "\n",
    "## Query log format\n",
    "Each item in the `all_queries` object is a single submitted query\n",
    "- `userId`: UniqueID of a user. On the user first interaction, this can be different to the final, due to the behaviour of Prolific user IDs.\n",
    "- `sessionId`: User session ID. basically unused.\n",
    "- `query`: User submitted query\n",
    "- `created`: creation timestamp"
   ]
  },
  {
   "cell_type": "code",
   "execution_count": 3,
   "id": "invalid-scope",
   "metadata": {
    "ExecuteTime": {
     "end_time": "2021-03-09T14:22:18.479347Z",
     "start_time": "2021-03-09T14:22:09.230420Z"
    }
   },
   "outputs": [],
   "source": [
    "with gzip.open(\"data/all_logs_clean.json.gz\", 'r') as inf:\n",
    "    all_logs = json.loads(inf.read().decode(\"utf-8\"))\n",
    "with gzip.open(\"data/all_queries_clean.json.gz\", 'r') as inf:\n",
    "    all_queries = json.loads(inf.read().decode(\"utf-8\"))\n",
    "\n",
    "vocab = json.load(open(\"data/vocab.json\")) #VKS vocabulary dictionary\n",
    "users = set([x[\"userId\"] for x in all_logs])"
   ]
  },
  {
   "cell_type": "markdown",
   "id": "rising-methodology",
   "metadata": {},
   "source": [
    "## Pre_tests\n",
    "Pre testes contains the information of the pre-tests from users (questions asked before user starts searching).\n",
    "\n",
    "These questions are:\n",
    "- degree: What is the highest degree completed?\n",
    "    - 0: High School or lower\n",
    "    - 1: Associate's degree(s) (e.g., AA AE, AFA, AS, ASN)\n",
    "    - 2: Bachelor's degree(s) (e.g., BA, BBA, BFA, BS)\n",
    "    - 3: Master's degree(s) (e.g., MA, MBA, MFA, MS, MSW)\n",
    "    - 4: Specialist degree(s) (e.g., EdS)\n",
    "    - 5: Applied or professional doctorate degree(s) (e.g., MD, DDC, DDS, JD, PharmD)\n",
    "    - 6: Doctorate degree(s) (e.g., EdD, PhD)\n",
    "    - 7: Other\n",
    "- background_degree: For which subject areas do you have a \\<degree answer\\>?\n",
    "- english: Are you an English native speaker?\n",
    "- english-level: What is your level of English?\n",
    "    - 0: Beginner\n",
    "    - 1: Elementary\n",
    "    - 2: Intermediate\n",
    "    - 3: Upper-intermediate\n",
    "    - 4: Advanced\n",
    "    - 5: Proficiency\n",
    "- web-previous: How often do you learn about a scientific topic (see the examples above) by searching the web?\n",
    "- web-information-need: Think about the most recent time you learned about a scientific topic by searching the web. Describe what you were trying to learn.\n",
    "- web-online: What are your preferred online resources (like Wikipedia, Coursera, Youtube etc.) to learn about a scientific topic?\n",
    "- web-offline: What are your preferred offline resources (can be books, people, institutions) to learn about a scientific topic?"
   ]
  },
  {
   "cell_type": "code",
   "execution_count": 4,
   "id": "representative-lover",
   "metadata": {
    "ExecuteTime": {
     "end_time": "2021-03-09T14:23:02.390332Z",
     "start_time": "2021-03-09T14:23:02.265642Z"
    }
   },
   "outputs": [],
   "source": [
    "pre_tests = {\n",
    "    **{\n",
    "        x[\"sessionId\"]: x[\"meta\"]\n",
    "        for x in all_logs if x['event'] == \"SURVEY_REGISTER_RESULTS\"\n",
    "    },\n",
    "    **{\n",
    "        x[\"userId\"]: x[\"meta\"]\n",
    "        for x in all_logs if x['event'] == \"SURVEY_REGISTER_RESULTS\"\n",
    "    },\n",
    "    **{\n",
    "        x[\"meta\"][\"data\"][\"userId\"]: x[\"meta\"]\n",
    "        for x in all_logs if x['event'] == \"SURVEY_REGISTER_RESULTS\"\n",
    "    }\n",
    "}"
   ]
  },
  {
   "cell_type": "markdown",
   "id": "racial-census",
   "metadata": {},
   "source": [
    "## Load data from Prolific\n",
    "This data comes from Prolific system. We are just interested in their status, if they have returned (finished unsuccessfully) and so on."
   ]
  },
  {
   "cell_type": "code",
   "execution_count": 5,
   "id": "centered-desire",
   "metadata": {
    "ExecuteTime": {
     "end_time": "2021-03-09T14:23:03.708811Z",
     "start_time": "2021-03-09T14:23:03.699406Z"
    }
   },
   "outputs": [],
   "source": [
    "prolific_path = [f\"data/{x}\" for x in [\"prolific_export_5e4d0dea60c37d14cb329934.csv\", \"prolific_export_5e4e4f7be482212a2429a366.csv\", \"prolific_export_5f46799646aa3002de1afa25.csv\"]]\n",
    "prolific_last_time = dict()\n",
    "session_length_prolific = dict()\n",
    "prolific_status = dict()\n",
    "prolific_users = set()\n",
    "returned_code = dict()\n",
    "found = 0\n",
    "for p in prolific_path:\n",
    "    for line in open(p):\n",
    "        l = line.split(\",\")\n",
    "        if l[0] == \"session_id\":\n",
    "            continue\n",
    "        participant_id = l[1] \n",
    "        prolific_users.add(participant_id)\n",
    "        duration = float(l[5])\n",
    "        status = l[2]\n",
    "        returned_code[participant_id] = l[11]\n",
    "        prolific_status[participant_id] = status\n",
    "        prolific_last_time[participant_id] = l[4]\n",
    "        session_length_prolific[participant_id] = duration"
   ]
  },
  {
   "cell_type": "markdown",
   "id": "cosmetic-cooperation",
   "metadata": {},
   "source": [
    "## Metrics\n",
    "These functions compute specifict metrics for analysis. They may be inter-dependent."
   ]
  },
  {
   "cell_type": "markdown",
   "id": "every-edmonton",
   "metadata": {},
   "source": [
    "### Learning Gain"
   ]
  },
  {
   "cell_type": "code",
   "execution_count": 6,
   "id": "alpine-connectivity",
   "metadata": {
    "ExecuteTime": {
     "end_time": "2021-03-09T14:23:08.379294Z",
     "start_time": "2021-03-09T14:23:08.371374Z"
    }
   },
   "outputs": [],
   "source": [
    "def ALG(user_logs: list[dict], topic: str) -> float:\n",
    "    \"\"\"Computes Absolute Learning Gains:\n",
    "    Args:\n",
    "        user_logs: sorted (by time) list with all of one user's logs\n",
    "        topic: string with user's topic id\n",
    "    \"\"\"\n",
    "    score = 0\n",
    "    topic_terms = get_topic_terms(topic)\n",
    "    pretest_results = [\n",
    "        r for r in user_logs if r[\"event\"] == \"SURVEY_PRE_TEST_RESULTS\"\n",
    "    ][0]\n",
    "    posttest_results = [\n",
    "        r for r in user_logs if r[\"event\"] == \"SURVEY_POST_TEST_RESULTS\"\n",
    "    ][0]\n",
    "    score_mapping = {1: 0, 2: 0, 3: 1, 4: 2}\n",
    "    for question in topic_terms:\n",
    "        qid = \"Q-\" + str(topic) + \"-\" + str(question)\n",
    "        pre_score = score_mapping[int(pretest_results[\"meta\"][\"data\"][qid])]\n",
    "        post_score = score_mapping[int(posttest_results[\"meta\"][\"data\"][qid])]\n",
    "        score += max(0, post_score - pre_score)\n",
    "    return score / 10\n",
    "\n",
    "\n",
    "def MLG(user_logs: list[dict], topic: str) -> float:\n",
    "    \"\"\"Computes Maximum possible learning potential\n",
    "    Args:\n",
    "        user_logs: sorted (by time) list with all of one user's logs\n",
    "        topic: string with users' topic id\n",
    "    \"\"\"\n",
    "    topic_terms = get_topic_terms(topic)\n",
    "    pretest_results = [\n",
    "        r for r in user_logs if r[\"event\"] == \"SURVEY_PRE_TEST_RESULTS\"\n",
    "    ][0]\n",
    "    score = 0\n",
    "    score_mapping = {1: 0, 2: 0, 3: 1, 4: 2}\n",
    "    for question in topic_terms:\n",
    "        qid = \"Q-\" + str(topic) + \"-\" + str(question)\n",
    "        pre_score = score_mapping[int(pretest_results[\"meta\"][\"data\"][qid])]\n",
    "        score += 2 - pre_score\n",
    "    return score / 10\n",
    "\n",
    "\n",
    "def RPL(user_logs: list, topic: str) -> float:\n",
    "    \"\"\"Computes user's Realized Potential Learning:\n",
    "    Args:\n",
    "        user_logs: List of one user's logs\n",
    "        topic: string with user's topic id \n",
    "    \"\"\"\n",
    "    sorted_logs = sorted(user_logs, key=lambda x: x[\"date\"], reverse=True)\n",
    "    _ALG = ALG(sorted_logs, topic)\n",
    "    _MLG = MLG(sorted_logs, topic)\n",
    "    return _ALG / _MLG"
   ]
  },
  {
   "cell_type": "markdown",
   "id": "potential-forest",
   "metadata": {},
   "source": [
    "### Other metrics"
   ]
  },
  {
   "cell_type": "code",
   "execution_count": 7,
   "id": "equipped-campbell",
   "metadata": {
    "ExecuteTime": {
     "end_time": "2021-03-09T14:23:10.144115Z",
     "start_time": "2021-03-09T14:23:10.115257Z"
    }
   },
   "outputs": [],
   "source": [
    "def get_all_logs(user: str) -> list[dict]:\n",
    "    \"\"\"Get all logs from one user\"\"\"\n",
    "    user_logs = [x for x in all_logs if x[\"userId\"] == user]\n",
    "    return user_logs\n",
    "\n",
    "\n",
    "def get_topic_title(user_logs: list[dict]) -> str:\n",
    "    \"\"\"Gets the title of the topic assigned to user\"\"\"\n",
    "    return [x for x in user_logs if x[\"event\"] == \"SURVEY_POST_TEST_RESULTS\"\n",
    "            ][0]['task']['data']['topic']['title']\n",
    "\n",
    "\n",
    "def get_topic_id(user_logs: list[dict]) -> str:\n",
    "    \"\"\"Gets the id of the topic the user was assigned to\"\"\"\n",
    "    for x in user_logs:\n",
    "        if x[\"event\"] == \"SEARCHRESULT_VIEW_URL\":\n",
    "            return x[\"task\"][\"data\"][\"topic\"][\"id\"]\n",
    "\n",
    "\n",
    "def get_topic_terms(p: str) -> list[str]:\n",
    "    \"\"\"Gets a list of the terms for the VKS for a given topic id\"\"\"\n",
    "    return vocab[p][\"terms\"]\n",
    "\n",
    "\n",
    "def get_both_topics(user_log: list[dict]) -> list[str]:\n",
    "    \"\"\"Gets both topics assigned to user during pre-test\"\"\"\n",
    "    return [\n",
    "        x[\"title\"] for x in [\n",
    "            x for x in user_log if x[\"event\"] == \"SURVEY_PRE_TEST_RESULTS\"\n",
    "        ][0][\"task\"][\"data\"][\"topics\"] if x[\"title\"] != \"Sports\"\n",
    "    ]\n",
    "\n",
    "\n",
    "def get_user_education(user_log):\n",
    "    sessionId = user_log[0][\"sessionId\"]\n",
    "    userId = user_log[0][\"userId\"]\n",
    "    if userId in pre_tests:\n",
    "        value = pre_tests[userId][\"data\"][\"degree\"]\n",
    "        mapping = {\n",
    "            0: \"High School\",\n",
    "            1: \"Associate's degree(s)\",\n",
    "            2: \"Bachelor's degree(s)\",\n",
    "            3: \"Master's degree(s)\",\n",
    "            4: \"Specialist degree(s)\",\n",
    "            5: \"Applied or professional doctorate degree(s)\",\n",
    "            6: \"Doctorate degree\",\n",
    "            7: \"Other\"\n",
    "        }\n",
    "        return mapping[value]\n",
    "    return \"Unknown\"\n",
    "\n",
    "\n",
    "def get_queries(user: str) -> list[str]:\n",
    "    \"\"\"Get all queries a user submitted\"\"\"\n",
    "    u_queries = [x[\"query\"] for x in all_queries if x[\"userId\"] == user]\n",
    "    return u_queries\n",
    "\n",
    "\n",
    "def get_session_duration(user_logs: list[dict]) -> int:\n",
    "    \"\"\"Gets how long, in seconds, a user session lasted, from start to end\"\"\"\n",
    "    sorted_logs = sorted(user_logs, key=lambda x: x[\"date\"], reverse=False)\n",
    "    end_time = p_date(sorted_logs[-1][\"date\"])\n",
    "    start_time = p_date(sorted_logs[0][\"date\"])\n",
    "    return (end_time - start_time).seconds\n",
    "\n",
    "\n",
    "def get_user_average_dwell_time(user_log: list[dict]) -> int:\n",
    "    \"\"\"Gets the user average dwell time in seconds (How long they spend one one document)\"\"\"\n",
    "    documents_events = sorted([\n",
    "        x\n",
    "        for x in user_log if x[\"event\"] in [\"DOCUMENT_CLOSE\", \"DOCUMENT_LOAD\"]\n",
    "    ],\n",
    "                              key=lambda x: x[\"date\"],\n",
    "                              reverse=False)\n",
    "    urls = {x[\"meta\"][\"url\"] for x in documents_events}\n",
    "    dwell_times = []\n",
    "    for url in urls:\n",
    "        doc_events = [x for x in documents_events if x[\"meta\"][\"url\"] == url]\n",
    "        for i in range(0, len(doc_events), 2):\n",
    "            if i + 1 == len(doc_events):\n",
    "                continue\n",
    "            if doc_events[i][\"event\"] == \"DOCUMENT_LOAD\" and doc_events[\n",
    "                    i + 1][\"event\"] == \"DOCUMENT_CLOSE\":\n",
    "                start_time = p_date(doc_events[i + 1][\"date\"])\n",
    "                end_time = p_date(doc_events[i][\"date\"])\n",
    "                dwell_times.append(start_time - end_time)\n",
    "    if len(dwell_times) == 0:\n",
    "        return 0\n",
    "    return np.mean(dwell_times).seconds\n",
    "\n",
    "\n",
    "def get_session(user_logs: list[dict]) -> str:\n",
    "    \"\"\"Get what type of experiment the user was in\"\"\"\n",
    "    event = [x for x in user_logs if x[\"event\"] == \"SEARCHRESULT_VIEW_URL\"][0]\n",
    "    return event[\"meta\"][\"session\"]\n",
    "\n",
    "\n",
    "def get_views(user_logs: list[dict]) -> list[dict]:\n",
    "    \"\"\"Gets all snippets the user saw\"\"\"\n",
    "    return [x for x in user_logs if x[\"event\"] == \"SEARCHRESULT_VIEW_URL\"]\n",
    "\n",
    "\n",
    "def get_clicks(user_logs: list[dict]) -> list[dict]:\n",
    "    \"\"\"Gets all document click events\"\"\"\n",
    "    return [x for x in user_logs if x[\"event\"] == \"SEARCHRESULT_CLICK_URL\"]\n",
    "\n",
    "\n",
    "def get_unique_docs(user_clicks: list[dict]) -> list[dict]:\n",
    "    \"\"\"Gets all unique docs ther user clicked\n",
    "    Args:\n",
    "        user_clicks: List of all SEARCHRESULT_CLICK_URL events (call get_clicks() for this)\n",
    "    \"\"\"\n",
    "    return len(set([x['meta']['url'] for x in user_clicks]))\n",
    "\n",
    "\n",
    "def get_search_session_time(user_log: list[dict]) -> int:\n",
    "    \"\"\"Gets how long, in seconds, between first document open and last document close\"\"\"\n",
    "    li = [x['event'] for x in user_log]\n",
    "    for i in range(len(li)):\n",
    "        if li[i] == \"SEARCH_QUERY\":\n",
    "            index = i\n",
    "            first_query_time = p_date(user_log[index][\"date\"])\n",
    "            break\n",
    "    #get last document_close\n",
    "    for i in range(len(li) - 1, -1, -1):\n",
    "        if li[i] == 'DOCUMENT_CLOSE':\n",
    "            last_doc_close = p_date(user_log[i][\"date\"])\n",
    "            break\n",
    "    delta = last_doc_close - first_query_time\n",
    "    return delta.seconds\n",
    "\n",
    "\n",
    "def get_answer_changes(user_logs: list[dict]) -> tuple[int]:\n",
    "    \"\"\"Gets how many changes of user knowledge happenned on the post-test\n",
    "    Args:\n",
    "        user_logs: List with all user interactions\n",
    "    Returns:\n",
    "        one_to_four: Change from knowledge level 1 to 4\n",
    "        one_to_three: Change from knowledge level 1 to 3\n",
    "        three_to_four: Change from knowledge level 3 to 4\n",
    "        one_remaining: Stayed on level 1 (no knowledge improvement)\n",
    "        other: Other changes (knowledge decreased [??])\n",
    "        valids: valids questions (sanity check)\n",
    "    \"\"\"\n",
    "    topic = get_topic_id(user_logs)\n",
    "    terms = get_topic_terms(topic)\n",
    "    one_to_four = 0\n",
    "    one_to_three = 0\n",
    "    three_to_four = 0\n",
    "    one_remaining = 0\n",
    "    other = 0\n",
    "    valids = 0\n",
    "    for r in user_logs:\n",
    "        if r[\"event\"] == \"SURVEY_PRE_TEST_RESULTS\":\n",
    "            pretest_results = r\n",
    "            break\n",
    "    for r in user_logs:\n",
    "        if r[\"event\"] == \"SURVEY_POST_TEST_RESULTS\":\n",
    "            posttest_results = r\n",
    "            break\n",
    "    for question in terms:\n",
    "        qid = \"Q-\" + str(topic) + \"-\" + str(question)\n",
    "        pre = int(pretest_results[\"meta\"][\"data\"][qid])\n",
    "        post = int(posttest_results[\"meta\"][\"data\"][qid])\n",
    "        if (pre == 1 or pre == 2) and post == 4:\n",
    "            one_to_four += 1\n",
    "        elif (pre == 1 or pre == 2) and post == 3:\n",
    "            one_to_three += 1\n",
    "        elif pre == 3 and post == 4:\n",
    "            three_to_four += 1\n",
    "        elif (pre == 1 or pre == 2):\n",
    "            one_remaining += 1\n",
    "            valids -= 1\n",
    "        else:\n",
    "            other += 1\n",
    "    return (one_to_four, one_to_three, three_to_four, one_remaining, other)\n",
    "\n",
    "\n",
    "def get_average_query_term_coverage(user_queries: list[str],\n",
    "                                    user_log: list[dict]) -> float:\n",
    "    \"\"\"Gets how many query terms, on average, the user used\"\"\"\n",
    "    topic_terms = get_topic_subtopic_terms(user_log)\n",
    "    user_queries_terms = [set(x.lower().split()) for x in user_queries]\n",
    "    query_coverage = []\n",
    "    for query in user_queries_terms:\n",
    "        query_coverage.append(\n",
    "            len(query.intersection(topic_terms)) / len(query))\n",
    "    return np.mean(query_coverage)\n",
    "\n",
    "\n",
    "def get_subtopics(user_log: list[dict]) -> str:\n",
    "    \"\"\"Gets all subtopics for a given user topic\"\"\"\n",
    "    data = [x for x in user_log if x[\"event\"] == \"SURVEY_POST_TEST_RESULTS\"\n",
    "            ][0][\"task\"][\"data\"]['subtopic'][\"terms\"]\n",
    "    return base64.b64decode(data).decode(\"utf-8\")\n",
    "\n",
    "\n",
    "def get_subtopic_terms(user_log: list[dict]) -> list[str]:\n",
    "    \"\"\"Gets all terms for subtopics\"\"\"\n",
    "    subtopics = [\n",
    "        x for x in user_log if x[\"event\"] == \"SURVEY_POST_TEST_RESULTS\"\n",
    "    ][0][\"task\"][\"data\"]['subtopic'][\"terms\"]\n",
    "    return subtopics\n",
    "\n",
    "\n",
    "def get_topic_subtopic_terms(user_log: list[dict]) -> set[str]:\n",
    "    \"\"\"Gets all topic and subtopic titles, and made then into a set\"\"\"\n",
    "    subtopics = eval(get_subtopics(user_log))\n",
    "    topic = get_topic_title(user_log)\n",
    "    terms = \" \".join(subtopics.keys()).lower().split()\n",
    "    for i in subtopics.values():\n",
    "        for j in i:\n",
    "            terms += j.lower().split()\n",
    "    return set(terms)\n",
    "\n",
    "\n",
    "def get_number_of_bookmars(user_log: list[dict]) -> int:\n",
    "    \"\"\"`Gets how many bookmarks the user created\"\"\"\n",
    "    return len([x for x in user_log if x[\"event\"] == \"BOOKMARK_ACTION\"])"
   ]
  },
  {
   "cell_type": "code",
   "execution_count": 8,
   "id": "olympic-falls",
   "metadata": {
    "ExecuteTime": {
     "end_time": "2021-03-09T14:23:18.081286Z",
     "start_time": "2021-03-09T14:23:11.849646Z"
    }
   },
   "outputs": [
    {
     "data": {
      "application/vnd.jupyter.widget-view+json": {
       "model_id": "fdd750c0028e4aa8859c7f208f7d188f",
       "version_major": 2,
       "version_minor": 0
      },
      "text/plain": [
       "  0%|          | 0/127 [00:00<?, ?it/s]"
      ]
     },
     "metadata": {},
     "output_type": "display_data"
    },
    {
     "name": "stdout",
     "output_type": "stream",
     "text": [
      "(127, 20)\n"
     ]
    }
   ],
   "source": [
    "dataset = []\n",
    "\n",
    "for count, user in tqdm(enumerate(users), total=len(users)):\n",
    "    user_log = get_all_logs(user) # All user events\n",
    "\n",
    "    user_queries = get_queries(user) # All user queries\n",
    "    user_session = get_session(user_log) # What experiment the user was assigned to\n",
    "    topic = get_topic_title(user_log) # User topic\n",
    "    topic_id = get_topic_id(user_log) # User topic id\n",
    "    education_level = get_user_education(user_log) # User education level\n",
    "    \n",
    "    session_duration_in_minutes = get_session_duration(user_log)//60 \n",
    "    realized_learning_gain = RPL(user_log, topic_id)\n",
    "    absolute_learning_gain = ALG(user_log, topic_id)\n",
    "    user_url_views = get_views(user_log) # All snippets seen\n",
    "    number_of_views = len(user_url_views) # Number of snippets seen\n",
    "\n",
    "    user_url_clicks = get_clicks(user_log) # All documents clicked\n",
    "    number_of_clicks = len(user_url_clicks) # Number of documents clicked\n",
    "    unique_docs = get_unique_docs(user_url_clicks) # Number of unique documents clicked\n",
    "    \n",
    "    number_of_queries = len(user_queries) # Number of issued queries\n",
    "    avg_query_len = np.mean([len(x.split()) for x in user_queries])\n",
    "\n",
    "    search_time = get_search_session_time(user_log) # How long from first document open to last document close\n",
    "    session_duration_in_minutes = get_session_duration(user_log) # How long from start to end of experiment\n",
    "    average_dwell_time = get_user_average_dwell_time(user_log) # Average dwell time on document\n",
    "    \n",
    "    # In-depth analysis\n",
    "    (one_to_four, one_to_three, three_to_four, one_remaining, other) = get_answer_changes(user_log) # Changes from one level to another on post-test\n",
    "    query_term_coverage = get_average_query_term_coverage(user_queries, user_log) # Overlap between query terms and scaffolding terms\n",
    "\n",
    "    number_of_bookmars = get_number_of_bookmars(user_log) # Number of bookmark events\n",
    "    dataset.append({\"user\":user, \n",
    "                    \"absolute_learning_gain\": absolute_learning_gain, \n",
    "                    \"realized_learning_gain\": realized_learning_gain,\n",
    "                    \"type\": user_session, \n",
    "                    \"average_query_len\":avg_query_len,\n",
    "                    \"number_of_queries\": number_of_queries,\n",
    "                    \"number_of_views\": number_of_views,\n",
    "                    \"number_of_clicks\": number_of_clicks,\n",
    "                    \"session_duration\":session_duration_in_minutes,\n",
    "                    \"one_two_to_four\": one_to_four,\n",
    "                    \"one_two_to_three\": one_to_three,\n",
    "                    \"three_to_four\": three_to_four,\n",
    "                    \"one_two_no_change\": one_remaining,\n",
    "                    \"other\": other,\n",
    "                    \"topic\": topic,\n",
    "                    \"average_dwell_time\" : average_dwell_time,\n",
    "                    \"unique_docs\" : unique_docs,\n",
    "                    \"number_of_bookmars\": number_of_bookmars,\n",
    "                    \"education_level\": education_level,\n",
    "                    \"search_time\": search_time\n",
    "                    })\n",
    "df = pd.DataFrame(dataset)\n",
    "print(df.shape)"
   ]
  },
  {
   "cell_type": "markdown",
   "id": "restricted-affair",
   "metadata": {},
   "source": [
    "## Plots\n",
    "These are auxiliary functions to plot boxplots for the metrics computed above."
   ]
  },
  {
   "cell_type": "code",
   "execution_count": 20,
   "id": "quiet-picking",
   "metadata": {
    "ExecuteTime": {
     "end_time": "2021-03-09T14:34:09.812541Z",
     "start_time": "2021-03-09T14:34:09.808713Z"
    }
   },
   "outputs": [],
   "source": [
    "from scipy.stats import f_oneway, kruskal, ttest_ind, pearsonr\n",
    "from matplotlib.pyplot import figure\n",
    "import matplotlib.pyplot as plt\n",
    "import seaborn as sns"
   ]
  },
  {
   "cell_type": "code",
   "execution_count": 26,
   "id": "contrary-stereo",
   "metadata": {
    "ExecuteTime": {
     "end_time": "2021-03-09T14:35:52.570220Z",
     "start_time": "2021-03-09T14:35:52.563081Z"
    }
   },
   "outputs": [
    {
     "data": {
      "text/plain": [
       "['progress', 'visual', 'control', 'qe']"
      ]
     },
     "execution_count": 26,
     "metadata": {},
     "output_type": "execute_result"
    }
   ],
   "source": [
    "order = list(df.groupby(\"type\", sort=False)[\"realized_learning_gain\"].mean().index)\n",
    "order"
   ]
  },
  {
   "cell_type": "code",
   "execution_count": 32,
   "id": "residential-shakespeare",
   "metadata": {
    "ExecuteTime": {
     "end_time": "2021-03-09T14:39:52.762884Z",
     "start_time": "2021-03-09T14:39:52.498190Z"
    }
   },
   "outputs": [
    {
     "name": "stdout",
     "output_type": "stream",
     "text": [
      "P-Value control vs qe:\t\t0.36835, Not singnificant\n",
      "P-Value control vs visual:\t0.23638, Not singnificant\n",
      "P-Value control vs progress:\t0.81375, Not singnificant\n",
      "P-Value qe vs visual:\t\t0.71019, Not singnificant\n",
      "P-Value visual vs progress:\t0.19322, Not singnificant\n"
     ]
    },
    {
     "data": {
      "image/png": "[encoded data removed]",
      "text/plain": [
       "<Figure size 936x576 with 1 Axes>"
      ]
     },
     "metadata": {
      "needs_background": "light"
     },
     "output_type": "display_data"
    },
    {
     "data": {
      "text/plain": [
       "<Figure size 432x288 with 0 Axes>"
      ]
     },
     "metadata": {},
     "output_type": "display_data"
    }
   ],
   "source": [
    "def make_boxplot(df: pd.DataFrame, y:str):\n",
    "    \"\"\"Creates a boxplot from dataframe df, attribute y\"\"\"\n",
    "    ylabel = y.replace(\"_\", \" \").title()\n",
    "    figure(num=None, figsize=(13,8))\n",
    "    order = [\"control\", \"qe\", \"visual\", \"progress\"]\n",
    "    ax = sns.boxplot(data=df, x=\"type\", y=y, order = order)\n",
    "\n",
    "    means = df.groupby(\"type\", sort=False)[y].mean()[order]\n",
    "    medians = df.groupby(\"type\", sort=False)[y].median()[order].values\n",
    "    \n",
    "    if \"time\" in y:\n",
    "        nobs = [f\"{means[_type]:.2f}s\" for x, _type in zip(df[\"type\"].value_counts()[order], order)]\n",
    "    else:\n",
    "        nobs = [f\"{means[_type]:.2f}\" for x, _type in zip(df[\"type\"].value_counts()[order], order)]\n",
    "\n",
    "    # Pair wise statistical tests\n",
    "    for i, j in [(\"control\", \"qe\"), (\"control\", \"visual\"), (\"control\", \"progress\"), (\"qe\", \"visual\"), (\"visual\", \"progress\")]:\n",
    "        p_value = ttest_ind(df[df.type==i][y], df[df.type==j][y]).pvalue\n",
    "        significant = \"Significant\" if p_value < 0.05 else \"Not singnificant\"\n",
    "        if i == \"qe\" or j == \"qe\":  #Just to make everything aligned.\n",
    "            print(f\"p-Value {i} vs {j}:\\t\\t{p_value:.5f}, {significant}\")\n",
    "        else:\n",
    "            print(f\"p-Value {i} vs {j}:\\t{p_value:.5f}, {significant}\")\n",
    "\n",
    "    pos = range(len(nobs))\n",
    "    for tick, label in zip(pos, ax.get_xticklabels()):\n",
    "        ax.text(pos[tick], medians[tick]+0.03, nobs[tick], horizontalalignment=\"center\", color=\"black\", weight=\"semibold\", fontsize=15)\n",
    "    ax.set_xlabel(\"Type of scaffolding\", fontsize=20)\n",
    "    ax.set_ylabel(ylabel, fontsize=20)\n",
    "    plt.show()\n",
    "    plt.clf()\n",
    "\n",
    "make_boxplot(df, \"realized_learning_gain\")\n",
    "\n"
   ]
  },
  {
   "cell_type": "code",
   "execution_count": null,
   "id": "champion-acquisition",
   "metadata": {},
   "outputs": [],
   "source": []
  }
 ],
 "metadata": {
  "kernelspec": {
   "display_name": "Python 3",
   "language": "python",
   "name": "python3"
  },
  "language_info": {
   "codemirror_mode": {
    "name": "ipython",
    "version": 3
   },
   "file_extension": ".py",
   "mimetype": "text/x-python",
   "name": "python",
   "nbconvert_exporter": "python",
   "pygments_lexer": "ipython3",
   "version": "3.9.1"
  }
 },
 "nbformat": 4,
 "nbformat_minor": 5
}
